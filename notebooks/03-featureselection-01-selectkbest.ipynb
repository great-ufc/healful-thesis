{
 "cells": [
  {
   "cell_type": "markdown",
   "id": "5946d127",
   "metadata": {
    "papermill": {
     "duration": 0.006433,
     "end_time": "2023-07-14T13:03:10.297647",
     "exception": false,
     "start_time": "2023-07-14T13:03:10.291214",
     "status": "completed"
    },
    "tags": []
   },
   "source": [
    "# QoL Monitor - Feature Selection"
   ]
  },
  {
   "cell_type": "code",
   "execution_count": 1,
   "id": "2fb8b452",
   "metadata": {
    "execution": {
     "iopub.execute_input": "2023-07-14T13:03:10.311112Z",
     "iopub.status.busy": "2023-07-14T13:03:10.310612Z",
     "iopub.status.idle": "2023-07-14T13:03:12.115588Z",
     "shell.execute_reply": "2023-07-14T13:03:12.114534Z"
    },
    "papermill": {
     "duration": 1.814671,
     "end_time": "2023-07-14T13:03:12.118113",
     "exception": false,
     "start_time": "2023-07-14T13:03:10.303442",
     "status": "completed"
    },
    "tags": []
   },
   "outputs": [],
   "source": [
    "import time\n",
    "import numpy as np\n",
    "import pandas as pd\n",
    "from matplotlib import pyplot\n",
    "from sklearn.pipeline import Pipeline\n",
    "from sklearn.model_selection import KFold\n",
    "from sklearn.ensemble import RandomForestRegressor\n",
    "from sklearn.model_selection import StratifiedKFold\n",
    "from sklearn.model_selection import cross_val_score, train_test_split\n",
    "from sklearn.feature_selection import SelectKBest, f_regression, mutual_info_regression, chi2"
   ]
  },
  {
   "cell_type": "markdown",
   "id": "a3d1b395",
   "metadata": {
    "papermill": {
     "duration": 0.005354,
     "end_time": "2023-07-14T13:03:12.129436",
     "exception": false,
     "start_time": "2023-07-14T13:03:12.124082",
     "status": "completed"
    },
    "tags": []
   },
   "source": [
    "# Getting Processed Data"
   ]
  },
  {
   "cell_type": "code",
   "execution_count": 2,
   "id": "3c8f6feb",
   "metadata": {
    "execution": {
     "iopub.execute_input": "2023-07-14T13:03:12.142941Z",
     "iopub.status.busy": "2023-07-14T13:03:12.141992Z",
     "iopub.status.idle": "2023-07-14T13:03:12.306680Z",
     "shell.execute_reply": "2023-07-14T13:03:12.305552Z"
    },
    "papermill": {
     "duration": 0.174762,
     "end_time": "2023-07-14T13:03:12.309624",
     "exception": false,
     "start_time": "2023-07-14T13:03:12.134862",
     "status": "completed"
    },
    "tags": []
   },
   "outputs": [],
   "source": [
    "base_path = '/kaggle/input/self-reported-qol/20230625-processed-'\n",
    "\n",
    "df_physical      = pd.read_csv(base_path + 'physical-qol.csv')\n",
    "df_psychological = pd.read_csv(base_path + 'psychological-qol.csv')\n",
    "\n",
    "df_physical.drop('id', axis=1, inplace=True)         # id\n",
    "df_physical.drop('day', axis=1, inplace=True)        # day\n",
    "df_psychological.drop('id', axis=1, inplace=True)    # id\n",
    "df_psychological.drop('day', axis=1, inplace=True)   # day\n",
    "\n",
    "phy_all_tmp = df_physical.copy()\n",
    "phy_init_set_tmp = phy_all_tmp.query(\"group in ('Initial Set')\").copy()\n",
    "phy_ufpi_ufc_tmp = phy_all_tmp.query(\"group in ('UFPI', 'UFC')\").copy()\n",
    "\n",
    "psy_all_tmp = df_psychological.copy()\n",
    "psy_init_set_tmp = psy_all_tmp.query(\"group in ('Initial Set')\").copy()\n",
    "psy_ufpi_ufc_tmp = psy_all_tmp.query(\"group in ('UFPI', 'UFC')\").copy()\n",
    "\n",
    "phy_all_tmp.drop(\"group\", axis=1, inplace=True)\n",
    "phy_init_set_tmp.drop(\"group\", axis=1, inplace=True)\n",
    "phy_ufpi_ufc_tmp.drop(\"group\", axis=1, inplace=True)\n",
    "\n",
    "psy_all_tmp.drop(\"group\", axis=1, inplace=True)\n",
    "psy_init_set_tmp.drop(\"group\", axis=1, inplace=True)\n",
    "psy_ufpi_ufc_tmp.drop(\"group\", axis=1, inplace=True)\n",
    "\n",
    "# Separating predictors from the values to be predicted.\n",
    "phy_all           = phy_all_tmp.drop(\"phy_ref_score\", axis=1)\n",
    "phy_all_pred      = phy_all_tmp[\"phy_ref_score\"].copy()\n",
    "phy_init_set      = phy_init_set_tmp.drop(\"phy_ref_score\", axis=1)\n",
    "phy_init_set_pred = phy_init_set_tmp[\"phy_ref_score\"].copy()\n",
    "phy_ufpi_ufc      = phy_ufpi_ufc_tmp.drop(\"phy_ref_score\", axis=1)\n",
    "phy_ufpi_ufc_pred = phy_ufpi_ufc_tmp[\"phy_ref_score\"].copy()\n",
    "\n",
    "psy_all           = psy_all_tmp.drop(\"psy_ref_score\", axis=1)\n",
    "psy_all_pred      = psy_all_tmp[\"psy_ref_score\"].copy()\n",
    "psy_init_set      = psy_init_set_tmp.drop(\"psy_ref_score\", axis=1)\n",
    "psy_init_set_pred = psy_init_set_tmp[\"psy_ref_score\"].copy()\n",
    "psy_ufpi_ufc      = psy_ufpi_ufc_tmp.drop(\"psy_ref_score\", axis=1)\n",
    "psy_ufpi_ufc_pred = psy_ufpi_ufc_tmp[\"psy_ref_score\"].copy()"
   ]
  },
  {
   "cell_type": "code",
   "execution_count": 3,
   "id": "cbaaec8c",
   "metadata": {
    "execution": {
     "iopub.execute_input": "2023-07-14T13:03:12.323112Z",
     "iopub.status.busy": "2023-07-14T13:03:12.322695Z",
     "iopub.status.idle": "2023-07-14T13:03:12.329202Z",
     "shell.execute_reply": "2023-07-14T13:03:12.328217Z"
    },
    "papermill": {
     "duration": 0.016022,
     "end_time": "2023-07-14T13:03:12.331680",
     "exception": false,
     "start_time": "2023-07-14T13:03:12.315658",
     "status": "completed"
    },
    "tags": []
   },
   "outputs": [],
   "source": [
    "def getDataset(domain_group):\n",
    "    return {\n",
    "        'phy_all': (phy_all, phy_all_pred),\n",
    "        'psy_all': (psy_all, psy_all_pred),\n",
    "        \n",
    "        'phy_init_set': (phy_init_set, phy_init_set_pred),\n",
    "        'psy_init_set': (psy_init_set, psy_init_set_pred),\n",
    "        \n",
    "        'phy_ufpi_ufc': (phy_ufpi_ufc, phy_ufpi_ufc_pred),\n",
    "        'psy_ufpi_ufc': (psy_ufpi_ufc, psy_ufpi_ufc_pred),\n",
    "    }[domain_group] "
   ]
  },
  {
   "cell_type": "markdown",
   "id": "060b2993",
   "metadata": {
    "papermill": {
     "duration": 0.00544,
     "end_time": "2023-07-14T13:03:12.342924",
     "exception": false,
     "start_time": "2023-07-14T13:03:12.337484",
     "status": "completed"
    },
    "tags": []
   },
   "source": [
    "# Feature Selection"
   ]
  },
  {
   "cell_type": "code",
   "execution_count": 4,
   "id": "10b23e74",
   "metadata": {
    "execution": {
     "iopub.execute_input": "2023-07-14T13:03:12.358162Z",
     "iopub.status.busy": "2023-07-14T13:03:12.357105Z",
     "iopub.status.idle": "2023-07-14T13:03:12.368265Z",
     "shell.execute_reply": "2023-07-14T13:03:12.367495Z"
    },
    "papermill": {
     "duration": 0.020371,
     "end_time": "2023-07-14T13:03:12.370480",
     "exception": false,
     "start_time": "2023-07-14T13:03:12.350109",
     "status": "completed"
    },
    "tags": []
   },
   "outputs": [],
   "source": [
    "# feature selection\n",
    "def select_features_regression(X_train, y_train, X_test, stype):\n",
    "    \n",
    "    fs = None\n",
    "    if stype == 'f_regression':\n",
    "        fs = SelectKBest(score_func=f_regression, k='all')\n",
    "    elif stype == 'mutual':\n",
    "        fs = SelectKBest(score_func=mutual_info_regression, k='all')\n",
    "    elif stype == 'chi':\n",
    "        fs = SelectKBest(score_func=chi2, k='all')\n",
    "    # configure to select all features\n",
    "    \n",
    "    # learn relationship from training data\n",
    "    fs.fit(X_train, y_train)\n",
    "    # transform train input data\n",
    "    X_train_fs = fs.transform(X_train)\n",
    "    # transform test input data\n",
    "    X_test_fs = fs.transform(X_test)\n",
    "    return X_train_fs, X_test_fs, fs\n",
    "\n",
    "def apply_selection(domain_group, stype):\n",
    "    fs         = None\n",
    "    X_test_fs  = None\n",
    "    X_train_fs = None\n",
    "    \n",
    "    X, y = getDataset(domain_group)\n",
    "    X_train, X_test, y_train, y_test = train_test_split(X, y, test_size=0.3, random_state=1)\n",
    "    X_train_fs, X_test_fs, fs = select_features_regression(X_train, y_train, X_test, stype)\n",
    "        \n",
    "    data = []\n",
    "    for i in range(len(fs.scores_)):\n",
    "        data.append([X.columns[i], fs.scores_[i]])\n",
    "        \n",
    "    df_features = pd.DataFrame(data, columns=['Feature', 'Score'])\n",
    "    df_features.sort_values(by='Score', ascending=False, inplace=True)\n",
    "    return df_features, fs\n",
    "\n",
    "def plot_feature_score(scores):\n",
    "    pyplot.bar([i for i in range(len(scores.scores_))], scores.scores_)\n",
    "    pyplot.show()"
   ]
  },
  {
   "cell_type": "code",
   "execution_count": 5,
   "id": "44b29b28",
   "metadata": {
    "execution": {
     "iopub.execute_input": "2023-07-14T13:03:12.383834Z",
     "iopub.status.busy": "2023-07-14T13:03:12.383222Z",
     "iopub.status.idle": "2023-07-14T13:03:13.005930Z",
     "shell.execute_reply": "2023-07-14T13:03:13.004815Z"
    },
    "papermill": {
     "duration": 0.63238,
     "end_time": "2023-07-14T13:03:13.008619",
     "exception": false,
     "start_time": "2023-07-14T13:03:12.376239",
     "status": "completed"
    },
    "tags": []
   },
   "outputs": [],
   "source": [
    "features_fregression, fs_fregression = apply_selection('phy_all', 'f_regression')\n",
    "features_mutual, fs_mutual           = apply_selection('phy_all', 'mutual')"
   ]
  },
  {
   "cell_type": "code",
   "execution_count": 6,
   "id": "df6f07a4",
   "metadata": {
    "execution": {
     "iopub.execute_input": "2023-07-14T13:03:13.021674Z",
     "iopub.status.busy": "2023-07-14T13:03:13.021337Z",
     "iopub.status.idle": "2023-07-14T13:03:13.045961Z",
     "shell.execute_reply": "2023-07-14T13:03:13.044902Z"
    },
    "papermill": {
     "duration": 0.033689,
     "end_time": "2023-07-14T13:03:13.048192",
     "exception": false,
     "start_time": "2023-07-14T13:03:13.014503",
     "status": "completed"
    },
    "tags": []
   },
   "outputs": [
    {
     "data": {
      "text/html": [
       "<div>\n",
       "<style scoped>\n",
       "    .dataframe tbody tr th:only-of-type {\n",
       "        vertical-align: middle;\n",
       "    }\n",
       "\n",
       "    .dataframe tbody tr th {\n",
       "        vertical-align: top;\n",
       "    }\n",
       "\n",
       "    .dataframe thead th {\n",
       "        text-align: right;\n",
       "    }\n",
       "</style>\n",
       "<table border=\"1\" class=\"dataframe\">\n",
       "  <thead>\n",
       "    <tr style=\"text-align: right;\">\n",
       "      <th></th>\n",
       "      <th>Feature</th>\n",
       "      <th>Score</th>\n",
       "    </tr>\n",
       "  </thead>\n",
       "  <tbody>\n",
       "    <tr>\n",
       "      <th>0</th>\n",
       "      <td>height</td>\n",
       "      <td>117.421246</td>\n",
       "    </tr>\n",
       "    <tr>\n",
       "      <th>22</th>\n",
       "      <td>mean_nni</td>\n",
       "      <td>93.062909</td>\n",
       "    </tr>\n",
       "    <tr>\n",
       "      <th>84</th>\n",
       "      <td>maritalstatus_married</td>\n",
       "      <td>87.083231</td>\n",
       "    </tr>\n",
       "    <tr>\n",
       "      <th>85</th>\n",
       "      <td>maritalstatus_single</td>\n",
       "      <td>87.083231</td>\n",
       "    </tr>\n",
       "    <tr>\n",
       "      <th>23</th>\n",
       "      <td>sdnn</td>\n",
       "      <td>83.724644</td>\n",
       "    </tr>\n",
       "    <tr>\n",
       "      <th>41</th>\n",
       "      <td>children</td>\n",
       "      <td>81.630660</td>\n",
       "    </tr>\n",
       "    <tr>\n",
       "      <th>7</th>\n",
       "      <td>awakesleep</td>\n",
       "      <td>77.256678</td>\n",
       "    </tr>\n",
       "    <tr>\n",
       "      <th>30</th>\n",
       "      <td>median_nni</td>\n",
       "      <td>73.425541</td>\n",
       "    </tr>\n",
       "    <tr>\n",
       "      <th>6</th>\n",
       "      <td>remsleep</td>\n",
       "      <td>64.703089</td>\n",
       "    </tr>\n",
       "    <tr>\n",
       "      <th>33</th>\n",
       "      <td>cvnni</td>\n",
       "      <td>61.575670</td>\n",
       "    </tr>\n",
       "    <tr>\n",
       "      <th>47</th>\n",
       "      <td>communication</td>\n",
       "      <td>52.232099</td>\n",
       "    </tr>\n",
       "    <tr>\n",
       "      <th>54</th>\n",
       "      <td>productivity</td>\n",
       "      <td>46.626610</td>\n",
       "    </tr>\n",
       "    <tr>\n",
       "      <th>83</th>\n",
       "      <td>profession_student</td>\n",
       "      <td>43.654684</td>\n",
       "    </tr>\n",
       "    <tr>\n",
       "      <th>34</th>\n",
       "      <td>mean_hr</td>\n",
       "      <td>41.080461</td>\n",
       "    </tr>\n",
       "    <tr>\n",
       "      <th>25</th>\n",
       "      <td>nni_50</td>\n",
       "      <td>40.567693</td>\n",
       "    </tr>\n",
       "    <tr>\n",
       "      <th>9</th>\n",
       "      <td>rejectedcalls</td>\n",
       "      <td>38.918103</td>\n",
       "    </tr>\n",
       "    <tr>\n",
       "      <th>10</th>\n",
       "      <td>blockedcalls</td>\n",
       "      <td>37.127901</td>\n",
       "    </tr>\n",
       "    <tr>\n",
       "      <th>37</th>\n",
       "      <td>std_hr</td>\n",
       "      <td>35.663553</td>\n",
       "    </tr>\n",
       "    <tr>\n",
       "      <th>80</th>\n",
       "      <td>profession_fulltimeworker</td>\n",
       "      <td>34.601483</td>\n",
       "    </tr>\n",
       "    <tr>\n",
       "      <th>73</th>\n",
       "      <td>walking</td>\n",
       "      <td>34.348456</td>\n",
       "    </tr>\n",
       "  </tbody>\n",
       "</table>\n",
       "</div>"
      ],
      "text/plain": [
       "                      Feature       Score\n",
       "0                      height  117.421246\n",
       "22                   mean_nni   93.062909\n",
       "84      maritalstatus_married   87.083231\n",
       "85       maritalstatus_single   87.083231\n",
       "23                       sdnn   83.724644\n",
       "41                   children   81.630660\n",
       "7                  awakesleep   77.256678\n",
       "30                 median_nni   73.425541\n",
       "6                    remsleep   64.703089\n",
       "33                      cvnni   61.575670\n",
       "47              communication   52.232099\n",
       "54               productivity   46.626610\n",
       "83         profession_student   43.654684\n",
       "34                    mean_hr   41.080461\n",
       "25                     nni_50   40.567693\n",
       "9               rejectedcalls   38.918103\n",
       "10               blockedcalls   37.127901\n",
       "37                     std_hr   35.663553\n",
       "80  profession_fulltimeworker   34.601483\n",
       "73                    walking   34.348456"
      ]
     },
     "execution_count": 6,
     "metadata": {},
     "output_type": "execute_result"
    }
   ],
   "source": [
    "features_fregression.head(20)"
   ]
  },
  {
   "cell_type": "code",
   "execution_count": 7,
   "id": "119fb472",
   "metadata": {
    "execution": {
     "iopub.execute_input": "2023-07-14T13:03:13.061642Z",
     "iopub.status.busy": "2023-07-14T13:03:13.061319Z",
     "iopub.status.idle": "2023-07-14T13:03:13.072340Z",
     "shell.execute_reply": "2023-07-14T13:03:13.071437Z"
    },
    "papermill": {
     "duration": 0.020388,
     "end_time": "2023-07-14T13:03:13.074581",
     "exception": false,
     "start_time": "2023-07-14T13:03:13.054193",
     "status": "completed"
    },
    "tags": []
   },
   "outputs": [
    {
     "data": {
      "text/html": [
       "<div>\n",
       "<style scoped>\n",
       "    .dataframe tbody tr th:only-of-type {\n",
       "        vertical-align: middle;\n",
       "    }\n",
       "\n",
       "    .dataframe tbody tr th {\n",
       "        vertical-align: top;\n",
       "    }\n",
       "\n",
       "    .dataframe thead th {\n",
       "        text-align: right;\n",
       "    }\n",
       "</style>\n",
       "<table border=\"1\" class=\"dataframe\">\n",
       "  <thead>\n",
       "    <tr style=\"text-align: right;\">\n",
       "      <th></th>\n",
       "      <th>Feature</th>\n",
       "      <th>Score</th>\n",
       "    </tr>\n",
       "  </thead>\n",
       "  <tbody>\n",
       "    <tr>\n",
       "      <th>1</th>\n",
       "      <td>weight</td>\n",
       "      <td>1.153002</td>\n",
       "    </tr>\n",
       "    <tr>\n",
       "      <th>0</th>\n",
       "      <td>height</td>\n",
       "      <td>0.936356</td>\n",
       "    </tr>\n",
       "    <tr>\n",
       "      <th>38</th>\n",
       "      <td>specificage</td>\n",
       "      <td>0.866840</td>\n",
       "    </tr>\n",
       "    <tr>\n",
       "      <th>40</th>\n",
       "      <td>income</td>\n",
       "      <td>0.469467</td>\n",
       "    </tr>\n",
       "    <tr>\n",
       "      <th>3</th>\n",
       "      <td>calories</td>\n",
       "      <td>0.280427</td>\n",
       "    </tr>\n",
       "    <tr>\n",
       "      <th>30</th>\n",
       "      <td>median_nni</td>\n",
       "      <td>0.260717</td>\n",
       "    </tr>\n",
       "    <tr>\n",
       "      <th>34</th>\n",
       "      <td>mean_hr</td>\n",
       "      <td>0.256413</td>\n",
       "    </tr>\n",
       "    <tr>\n",
       "      <th>22</th>\n",
       "      <td>mean_nni</td>\n",
       "      <td>0.242639</td>\n",
       "    </tr>\n",
       "    <tr>\n",
       "      <th>23</th>\n",
       "      <td>sdnn</td>\n",
       "      <td>0.217013</td>\n",
       "    </tr>\n",
       "    <tr>\n",
       "      <th>45</th>\n",
       "      <td>social</td>\n",
       "      <td>0.202074</td>\n",
       "    </tr>\n",
       "    <tr>\n",
       "      <th>25</th>\n",
       "      <td>nni_50</td>\n",
       "      <td>0.193663</td>\n",
       "    </tr>\n",
       "    <tr>\n",
       "      <th>43</th>\n",
       "      <td>familyarr</td>\n",
       "      <td>0.185582</td>\n",
       "    </tr>\n",
       "    <tr>\n",
       "      <th>28</th>\n",
       "      <td>pnni_20</td>\n",
       "      <td>0.185504</td>\n",
       "    </tr>\n",
       "    <tr>\n",
       "      <th>42</th>\n",
       "      <td>edulevel</td>\n",
       "      <td>0.181416</td>\n",
       "    </tr>\n",
       "    <tr>\n",
       "      <th>74</th>\n",
       "      <td>other</td>\n",
       "      <td>0.179845</td>\n",
       "    </tr>\n",
       "    <tr>\n",
       "      <th>33</th>\n",
       "      <td>cvnni</td>\n",
       "      <td>0.171960</td>\n",
       "    </tr>\n",
       "    <tr>\n",
       "      <th>31</th>\n",
       "      <td>range_nni</td>\n",
       "      <td>0.159426</td>\n",
       "    </tr>\n",
       "    <tr>\n",
       "      <th>37</th>\n",
       "      <td>std_hr</td>\n",
       "      <td>0.159045</td>\n",
       "    </tr>\n",
       "    <tr>\n",
       "      <th>35</th>\n",
       "      <td>max_hr</td>\n",
       "      <td>0.158511</td>\n",
       "    </tr>\n",
       "    <tr>\n",
       "      <th>73</th>\n",
       "      <td>walking</td>\n",
       "      <td>0.155750</td>\n",
       "    </tr>\n",
       "  </tbody>\n",
       "</table>\n",
       "</div>"
      ],
      "text/plain": [
       "        Feature     Score\n",
       "1        weight  1.153002\n",
       "0        height  0.936356\n",
       "38  specificage  0.866840\n",
       "40       income  0.469467\n",
       "3      calories  0.280427\n",
       "30   median_nni  0.260717\n",
       "34      mean_hr  0.256413\n",
       "22     mean_nni  0.242639\n",
       "23         sdnn  0.217013\n",
       "45       social  0.202074\n",
       "25       nni_50  0.193663\n",
       "43    familyarr  0.185582\n",
       "28      pnni_20  0.185504\n",
       "42     edulevel  0.181416\n",
       "74        other  0.179845\n",
       "33        cvnni  0.171960\n",
       "31    range_nni  0.159426\n",
       "37       std_hr  0.159045\n",
       "35       max_hr  0.158511\n",
       "73      walking  0.155750"
      ]
     },
     "execution_count": 7,
     "metadata": {},
     "output_type": "execute_result"
    }
   ],
   "source": [
    "features_mutual.head(20)"
   ]
  },
  {
   "cell_type": "code",
   "execution_count": 8,
   "id": "9a87b822",
   "metadata": {
    "execution": {
     "iopub.execute_input": "2023-07-14T13:03:13.088663Z",
     "iopub.status.busy": "2023-07-14T13:03:13.088333Z",
     "iopub.status.idle": "2023-07-14T13:03:13.822318Z",
     "shell.execute_reply": "2023-07-14T13:03:13.821154Z"
    },
    "papermill": {
     "duration": 0.743557,
     "end_time": "2023-07-14T13:03:13.824673",
     "exception": false,
     "start_time": "2023-07-14T13:03:13.081116",
     "status": "completed"
    },
    "tags": []
   },
   "outputs": [
    {
     "data": {
      "image/png": "[encoded data removed]",
      "text/plain": [
       "<Figure size 640x480 with 1 Axes>"
      ]
     },
     "metadata": {},
     "output_type": "display_data"
    },
    {
     "data": {
      "image/png": "[encoded data removed]",
      "text/plain": [
       "<Figure size 640x480 with 1 Axes>"
      ]
     },
     "metadata": {},
     "output_type": "display_data"
    }
   ],
   "source": [
    "plot_feature_score(fs_fregression)\n",
    "plot_feature_score(fs_mutual)"
   ]
  },
  {
   "cell_type": "markdown",
   "id": "322fdb2e",
   "metadata": {
    "papermill": {
     "duration": 0.006639,
     "end_time": "2023-07-14T13:03:13.838671",
     "exception": false,
     "start_time": "2023-07-14T13:03:13.832032",
     "status": "completed"
    },
    "tags": []
   },
   "source": [
    "# Random Forest with feature selection"
   ]
  },
  {
   "cell_type": "code",
   "execution_count": 9,
   "id": "ca37b39c",
   "metadata": {
    "execution": {
     "iopub.execute_input": "2023-07-14T13:03:13.857166Z",
     "iopub.status.busy": "2023-07-14T13:03:13.856058Z",
     "iopub.status.idle": "2023-07-14T13:03:13.861784Z",
     "shell.execute_reply": "2023-07-14T13:03:13.860813Z"
    },
    "papermill": {
     "duration": 0.016438,
     "end_time": "2023-07-14T13:03:13.864040",
     "exception": false,
     "start_time": "2023-07-14T13:03:13.847602",
     "status": "completed"
    },
    "tags": []
   },
   "outputs": [],
   "source": [
    "def get_baseline_metrics(domain_group):\n",
    "    return {\n",
    "        'phy_all': (5.65, 7.98),\n",
    "        'psy_all': (5.44, 7.52),\n",
    "    }[domain_group]"
   ]
  },
  {
   "cell_type": "code",
   "execution_count": 10,
   "id": "06cf81f3",
   "metadata": {
    "execution": {
     "iopub.execute_input": "2023-07-14T13:03:13.879665Z",
     "iopub.status.busy": "2023-07-14T13:03:13.879301Z",
     "iopub.status.idle": "2023-07-14T13:03:13.891595Z",
     "shell.execute_reply": "2023-07-14T13:03:13.890487Z"
    },
    "papermill": {
     "duration": 0.022627,
     "end_time": "2023-07-14T13:03:13.893786",
     "exception": false,
     "start_time": "2023-07-14T13:03:13.871159",
     "status": "completed"
    },
    "tags": []
   },
   "outputs": [],
   "source": [
    "def modelingRegressors(domain_group, function, feat_to_select):\n",
    "    X, y = getDataset(domain_group)\n",
    "    algorithm = RandomForestRegressor(warm_start=False, n_estimators=1778, min_samples_split=2, min_samples_leaf=1, max_features='sqrt', max_depth=None, criterion='poisson', bootstrap=False)\n",
    "    \n",
    "    skb = SelectKBest(score_func=function, k = feat_to_select)\n",
    "    \n",
    "    pipeline = Pipeline([('feat_selection', skb), ('regressor', algorithm)])\n",
    "    \n",
    "    kf = KFold(10, shuffle = True, random_state = 42).get_n_splits(X.values)\n",
    "    rmse = np.sqrt(-cross_val_score(pipeline, X.values, y, scoring = \"neg_mean_squared_error\", cv = kf))\n",
    "    mae  = -cross_val_score(pipeline, X.values, y, scoring = \"neg_mean_absolute_error\", cv = kf)\n",
    "    r2 = cross_val_score(pipeline, X.values, y, scoring = \"r2\", cv = kf)\n",
    "    \n",
    "    b_mae, b_rmse = get_baseline_metrics(domain_group)\n",
    "    n_mae  = mae.mean() \n",
    "    n_rmse = rmse.mean() \n",
    "    \n",
    "    imp_mae  = (n_mae - b_mae) / b_mae\n",
    "    imp_rmse = (n_rmse - b_rmse) / b_rmse\n",
    "    \n",
    "    print('Function:', function, '\\tFeatures:', feat_to_select, '\\tMAE:', round(mae.mean(), 4), '\\tRMSE:',  round(rmse.mean(), 4))\n",
    "    \n",
    "    return pd.Series([domain_group, function, feat_to_select,\n",
    "                      round(mae.mean(), 4),  round(mae.std(), 4), \n",
    "                      round(rmse.mean(), 4), round(rmse.std(), 4), \n",
    "                      round(r2.mean(), 4),   round(r2.std(), 4),\n",
    "                     imp_mae, imp_rmse],  index=cols_result_df)"
   ]
  },
  {
   "cell_type": "code",
   "execution_count": 11,
   "id": "d4a4f377",
   "metadata": {
    "execution": {
     "iopub.execute_input": "2023-07-14T13:03:13.909740Z",
     "iopub.status.busy": "2023-07-14T13:03:13.909088Z",
     "iopub.status.idle": "2023-07-14T13:03:13.913604Z",
     "shell.execute_reply": "2023-07-14T13:03:13.912668Z"
    },
    "papermill": {
     "duration": 0.014871,
     "end_time": "2023-07-14T13:03:13.915733",
     "exception": false,
     "start_time": "2023-07-14T13:03:13.900862",
     "status": "completed"
    },
    "tags": []
   },
   "outputs": [],
   "source": [
    "cols_result_df = ['group', 'function', 'k', 'mae_mean', 'mae_std', 'rmse_mean', 'rmse_std', 'r2_mean', 'r2_std', 'i_mae', 'i_rmse']"
   ]
  },
  {
   "cell_type": "code",
   "execution_count": 12,
   "id": "66a9979b",
   "metadata": {
    "execution": {
     "iopub.execute_input": "2023-07-14T13:03:13.930723Z",
     "iopub.status.busy": "2023-07-14T13:03:13.930389Z",
     "iopub.status.idle": "2023-07-14T15:51:02.760322Z",
     "shell.execute_reply": "2023-07-14T15:51:02.759127Z"
    },
    "papermill": {
     "duration": 10068.849369,
     "end_time": "2023-07-14T15:51:02.771995",
     "exception": false,
     "start_time": "2023-07-14T13:03:13.922626",
     "status": "completed"
    },
    "tags": []
   },
   "outputs": [
    {
     "name": "stdout",
     "output_type": "stream",
     "text": [
      "Function: <function f_regression at 0x7a6809388160> \tFeatures: 10 \tMAE: 7.0269 \tRMSE: 9.3286\n",
      "Function: <function f_regression at 0x7a6809388160> \tFeatures: 20 \tMAE: 6.4777 \tRMSE: 8.7319\n",
      "Function: <function f_regression at 0x7a6809388160> \tFeatures: 30 \tMAE: 6.395 \tRMSE: 8.6793\n",
      "Function: <function f_regression at 0x7a6809388160> \tFeatures: 40 \tMAE: 6.126 \tRMSE: 8.3425\n",
      "Function: <function f_regression at 0x7a6809388160> \tFeatures: 50 \tMAE: 6.063 \tRMSE: 8.2478\n",
      "Function: <function f_regression at 0x7a6809388160> \tFeatures: 60 \tMAE: 6.042 \tRMSE: 8.1625\n",
      "Function: <function f_regression at 0x7a6809388160> \tFeatures: 70 \tMAE: 5.9237 \tRMSE: 8.0461\n",
      "Function: <function f_regression at 0x7a6809388160> \tFeatures: 80 \tMAE: 5.8139 \tRMSE: 7.9223\n",
      "Function: <function mutual_info_regression at 0x7a680938a9e0> \tFeatures: 10 \tMAE: 5.964 \tRMSE: 8.1659\n",
      "Function: <function mutual_info_regression at 0x7a680938a9e0> \tFeatures: 20 \tMAE: 5.8099 \tRMSE: 7.9986\n",
      "Function: <function mutual_info_regression at 0x7a680938a9e0> \tFeatures: 30 \tMAE: 5.8197 \tRMSE: 8.0059\n",
      "Function: <function mutual_info_regression at 0x7a680938a9e0> \tFeatures: 40 \tMAE: 5.8461 \tRMSE: 7.9677\n",
      "Function: <function mutual_info_regression at 0x7a680938a9e0> \tFeatures: 50 \tMAE: 5.7173 \tRMSE: 7.885\n",
      "Function: <function mutual_info_regression at 0x7a680938a9e0> \tFeatures: 60 \tMAE: 5.7408 \tRMSE: 7.8673\n",
      "Function: <function mutual_info_regression at 0x7a680938a9e0> \tFeatures: 70 \tMAE: 5.7534 \tRMSE: 7.8618\n",
      "Function: <function mutual_info_regression at 0x7a680938a9e0> \tFeatures: 80 \tMAE: 5.7864 \tRMSE: 7.8964\n",
      "Function: <function chi2 at 0x7a6809388040> \tFeatures: 10 \tMAE: 9.948 \tRMSE: 13.0316\n",
      "Function: <function chi2 at 0x7a6809388040> \tFeatures: 20 \tMAE: 8.4889 \tRMSE: 10.9612\n",
      "Function: <function chi2 at 0x7a6809388040> \tFeatures: 30 \tMAE: 8.3002 \tRMSE: 10.6909\n",
      "Function: <function chi2 at 0x7a6809388040> \tFeatures: 40 \tMAE: 7.7852 \tRMSE: 10.1332\n",
      "Function: <function chi2 at 0x7a6809388040> \tFeatures: 50 \tMAE: 7.329 \tRMSE: 9.6914\n",
      "Function: <function chi2 at 0x7a6809388040> \tFeatures: 60 \tMAE: 6.3986 \tRMSE: 8.5972\n",
      "Function: <function chi2 at 0x7a6809388040> \tFeatures: 70 \tMAE: 6.1423 \tRMSE: 8.2839\n",
      "Function: <function chi2 at 0x7a6809388040> \tFeatures: 80 \tMAE: 6.0606 \tRMSE: 8.1918\n"
     ]
    }
   ],
   "source": [
    "df_feat_phy = pd.DataFrame(columns = cols_result_df)\n",
    "for function in [f_regression, mutual_info_regression, chi2]:\n",
    "    for feat_to_select in range(10, 86, 10):\n",
    "        result = modelingRegressors('phy_all', function, feat_to_select)\n",
    "        df_feat_phy = pd.concat([df_feat_phy, result.to_frame().T], ignore_index=True)"
   ]
  },
  {
   "cell_type": "code",
   "execution_count": 13,
   "id": "f9eed5d2",
   "metadata": {
    "execution": {
     "iopub.execute_input": "2023-07-14T15:51:02.792770Z",
     "iopub.status.busy": "2023-07-14T15:51:02.791929Z",
     "iopub.status.idle": "2023-07-14T18:34:57.215310Z",
     "shell.execute_reply": "2023-07-14T18:34:57.214206Z"
    },
    "papermill": {
     "duration": 9834.447082,
     "end_time": "2023-07-14T18:34:57.228124",
     "exception": false,
     "start_time": "2023-07-14T15:51:02.781042",
     "status": "completed"
    },
    "tags": []
   },
   "outputs": [
    {
     "name": "stdout",
     "output_type": "stream",
     "text": [
      "Function: <function f_regression at 0x7a6809388160> \tFeatures: 10 \tMAE: 5.942 \tRMSE: 8.371\n",
      "Function: <function f_regression at 0x7a6809388160> \tFeatures: 20 \tMAE: 5.7338 \tRMSE: 7.9226\n",
      "Function: <function f_regression at 0x7a6809388160> \tFeatures: 30 \tMAE: 5.5327 \tRMSE: 7.7248\n",
      "Function: <function f_regression at 0x7a6809388160> \tFeatures: 40 \tMAE: 5.5963 \tRMSE: 7.7393\n",
      "Function: <function f_regression at 0x7a6809388160> \tFeatures: 50 \tMAE: 5.4805 \tRMSE: 7.6552\n",
      "Function: <function f_regression at 0x7a6809388160> \tFeatures: 60 \tMAE: 5.4795 \tRMSE: 7.575\n",
      "Function: <function f_regression at 0x7a6809388160> \tFeatures: 70 \tMAE: 5.4501 \tRMSE: 7.5234\n",
      "Function: <function f_regression at 0x7a6809388160> \tFeatures: 80 \tMAE: 5.4626 \tRMSE: 7.5702\n",
      "Function: <function mutual_info_regression at 0x7a680938a9e0> \tFeatures: 10 \tMAE: 5.5267 \tRMSE: 7.7793\n",
      "Function: <function mutual_info_regression at 0x7a680938a9e0> \tFeatures: 20 \tMAE: 5.3969 \tRMSE: 7.4996\n",
      "Function: <function mutual_info_regression at 0x7a680938a9e0> \tFeatures: 30 \tMAE: 5.4939 \tRMSE: 7.539\n",
      "Function: <function mutual_info_regression at 0x7a680938a9e0> \tFeatures: 40 \tMAE: 5.4213 \tRMSE: 7.4999\n",
      "Function: <function mutual_info_regression at 0x7a680938a9e0> \tFeatures: 50 \tMAE: 5.3889 \tRMSE: 7.4591\n",
      "Function: <function mutual_info_regression at 0x7a680938a9e0> \tFeatures: 60 \tMAE: 5.4078 \tRMSE: 7.4947\n",
      "Function: <function mutual_info_regression at 0x7a680938a9e0> \tFeatures: 70 \tMAE: 5.3982 \tRMSE: 7.4794\n",
      "Function: <function mutual_info_regression at 0x7a680938a9e0> \tFeatures: 80 \tMAE: 5.4498 \tRMSE: 7.5562\n",
      "Function: <function chi2 at 0x7a6809388040> \tFeatures: 10 \tMAE: 10.5703 \tRMSE: 14.3551\n",
      "Function: <function chi2 at 0x7a6809388040> \tFeatures: 20 \tMAE: 8.5994 \tRMSE: 11.7557\n",
      "Function: <function chi2 at 0x7a6809388040> \tFeatures: 30 \tMAE: 8.4471 \tRMSE: 11.659\n",
      "Function: <function chi2 at 0x7a6809388040> \tFeatures: 40 \tMAE: 7.7782 \tRMSE: 10.6344\n",
      "Function: <function chi2 at 0x7a6809388040> \tFeatures: 50 \tMAE: 7.1184 \tRMSE: 9.7767\n",
      "Function: <function chi2 at 0x7a6809388040> \tFeatures: 60 \tMAE: 5.9916 \tRMSE: 8.2199\n",
      "Function: <function chi2 at 0x7a6809388040> \tFeatures: 70 \tMAE: 5.7111 \tRMSE: 7.8855\n",
      "Function: <function chi2 at 0x7a6809388040> \tFeatures: 80 \tMAE: 5.5301 \tRMSE: 7.6618\n"
     ]
    }
   ],
   "source": [
    "df_feat_psy = pd.DataFrame(columns = cols_result_df)\n",
    "for function in [f_regression, mutual_info_regression, chi2]:\n",
    "    for feat_to_select in range(10, 86, 10):\n",
    "        result = modelingRegressors('psy_all', function, feat_to_select)\n",
    "        df_feat_psy = pd.concat([df_feat_psy, result.to_frame().T], ignore_index=True)"
   ]
  },
  {
   "cell_type": "code",
   "execution_count": 14,
   "id": "30edab1b",
   "metadata": {
    "execution": {
     "iopub.execute_input": "2023-07-14T18:34:57.252683Z",
     "iopub.status.busy": "2023-07-14T18:34:57.251619Z",
     "iopub.status.idle": "2023-07-14T18:34:57.264246Z",
     "shell.execute_reply": "2023-07-14T18:34:57.263191Z"
    },
    "papermill": {
     "duration": 0.027429,
     "end_time": "2023-07-14T18:34:57.266713",
     "exception": false,
     "start_time": "2023-07-14T18:34:57.239284",
     "status": "completed"
    },
    "tags": []
   },
   "outputs": [],
   "source": [
    "df_feat_phy.to_csv('20230714-rforest-feat-sel-physical.csv', index = False)\n",
    "df_feat_psy.to_csv('20230714-rforest-feat-sel-psychological.csv', index = False)"
   ]
  }
 ],
 "metadata": {
  "kernelspec": {
   "display_name": "Python 3",
   "language": "python",
   "name": "python3"
  },
  "language_info": {
   "codemirror_mode": {
    "name": "ipython",
    "version": 3
   },
   "file_extension": ".py",
   "mimetype": "text/x-python",
   "name": "python",
   "nbconvert_exporter": "python",
   "pygments_lexer": "ipython3",
   "version": "3.10.10"
  },
  "papermill": {
   "default_parameters": {},
   "duration": 19920.827154,
   "end_time": "2023-07-14T18:34:58.348757",
   "environment_variables": {},
   "exception": null,
   "input_path": "__notebook__.ipynb",
   "output_path": "__notebook__.ipynb",
   "parameters": {},
   "start_time": "2023-07-14T13:02:57.521603",
   "version": "2.4.0"
  }
 },
 "nbformat": 4,
 "nbformat_minor": 5
}
