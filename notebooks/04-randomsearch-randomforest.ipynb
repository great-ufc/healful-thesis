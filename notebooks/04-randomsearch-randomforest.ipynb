{
 "cells": [
  {
   "cell_type": "markdown",
   "id": "0d49a7cb",
   "metadata": {
    "papermill": {
     "duration": 0.006713,
     "end_time": "2023-07-13T19:40:57.404437",
     "exception": false,
     "start_time": "2023-07-13T19:40:57.397724",
     "status": "completed"
    },
    "tags": []
   },
   "source": [
    "# Hyperparameter Tuning\n",
    "\n",
    "Using Scikit-Learn’s RandomizedSearchCV method, we can define a grid of hyperparameter ranges, and randomly sample from the grid, performing K-Fold CV with each combination of values."
   ]
  },
  {
   "cell_type": "code",
   "execution_count": 1,
   "id": "7e9dfadf",
   "metadata": {
    "execution": {
     "iopub.execute_input": "2023-07-13T19:40:57.419362Z",
     "iopub.status.busy": "2023-07-13T19:40:57.418795Z",
     "iopub.status.idle": "2023-07-13T19:40:59.315115Z",
     "shell.execute_reply": "2023-07-13T19:40:59.313852Z"
    },
    "papermill": {
     "duration": 1.907422,
     "end_time": "2023-07-13T19:40:59.318146",
     "exception": false,
     "start_time": "2023-07-13T19:40:57.410724",
     "status": "completed"
    },
    "tags": []
   },
   "outputs": [],
   "source": [
    "import time\n",
    "import numpy as np\n",
    "import pandas as pd\n",
    "from pprint import pprint\n",
    "from sklearn.model_selection import KFold\n",
    "from sklearn.ensemble import RandomForestRegressor\n",
    "from sklearn.model_selection import cross_val_score\n",
    "from sklearn.model_selection import StratifiedKFold\n",
    "from sklearn.model_selection import train_test_split\n",
    "from sklearn.model_selection import RandomizedSearchCV\n",
    "from sklearn.metrics import mean_absolute_error, mean_squared_error"
   ]
  },
  {
   "cell_type": "code",
   "execution_count": 2,
   "id": "c65077cb",
   "metadata": {
    "execution": {
     "iopub.execute_input": "2023-07-13T19:40:59.332509Z",
     "iopub.status.busy": "2023-07-13T19:40:59.332047Z",
     "iopub.status.idle": "2023-07-13T19:40:59.340115Z",
     "shell.execute_reply": "2023-07-13T19:40:59.338672Z"
    },
    "papermill": {
     "duration": 0.018944,
     "end_time": "2023-07-13T19:40:59.343322",
     "exception": false,
     "start_time": "2023-07-13T19:40:59.324378",
     "status": "completed"
    },
    "tags": []
   },
   "outputs": [
    {
     "name": "stdout",
     "output_type": "stream",
     "text": [
      "Parameters currently in use:\n",
      "\n",
      "{'bootstrap': True,\n",
      " 'ccp_alpha': 0.0,\n",
      " 'criterion': 'squared_error',\n",
      " 'max_depth': None,\n",
      " 'max_features': 1.0,\n",
      " 'max_leaf_nodes': None,\n",
      " 'max_samples': None,\n",
      " 'min_impurity_decrease': 0.0,\n",
      " 'min_samples_leaf': 1,\n",
      " 'min_samples_split': 2,\n",
      " 'min_weight_fraction_leaf': 0.0,\n",
      " 'n_estimators': 100,\n",
      " 'n_jobs': None,\n",
      " 'oob_score': False,\n",
      " 'random_state': 42,\n",
      " 'verbose': 0,\n",
      " 'warm_start': False}\n"
     ]
    }
   ],
   "source": [
    "base_regressor = RandomForestRegressor(random_state = 42)\n",
    "\n",
    "print('Parameters currently in use:\\n')\n",
    "pprint(base_regressor.get_params())"
   ]
  },
  {
   "cell_type": "code",
   "execution_count": 3,
   "id": "bef02a05",
   "metadata": {
    "execution": {
     "iopub.execute_input": "2023-07-13T19:40:59.358806Z",
     "iopub.status.busy": "2023-07-13T19:40:59.358325Z",
     "iopub.status.idle": "2023-07-13T19:40:59.368358Z",
     "shell.execute_reply": "2023-07-13T19:40:59.366974Z"
    },
    "papermill": {
     "duration": 0.020837,
     "end_time": "2023-07-13T19:40:59.371153",
     "exception": false,
     "start_time": "2023-07-13T19:40:59.350316",
     "status": "completed"
    },
    "tags": []
   },
   "outputs": [
    {
     "name": "stdout",
     "output_type": "stream",
     "text": [
      "{'bootstrap': [True, False],\n",
      " 'criterion': ['squared_error', 'absolute_error', 'friedman_mse', 'poisson'],\n",
      " 'max_depth': [10, 20, 30, 40, 50, 60, 70, 80, 90, 100, 110, None],\n",
      " 'max_features': ['sqrt', 'log2', 1.0, None],\n",
      " 'min_samples_leaf': [1, 2, 4, 6],\n",
      " 'min_samples_split': [1, 2, 5, 10],\n",
      " 'n_estimators': [10, 231, 452, 673, 894, 1115, 1336, 1557, 1778, 2000],\n",
      " 'warm_start': [True, False]}\n"
     ]
    }
   ],
   "source": [
    "bootstrap = [True, False]\n",
    "\n",
    "criteria = [\"squared_error\", \"absolute_error\", \"friedman_mse\", \"poisson\"]\n",
    "\n",
    "max_depth = [int(x) for x in np.linspace(10, 110, num = 11)]\n",
    "max_depth.append(None)\n",
    "\n",
    "max_features = ['sqrt', 'log2', 1.0]\n",
    "max_features.append(None)\n",
    "\n",
    "min_samples_leaf = [1, 2, 4, 6]\n",
    "\n",
    "min_samples_split = [1, 2, 5, 10]\n",
    "\n",
    "n_estimators = [int(x) for x in np.linspace(start = 10, stop = 2000, num = 10)]\n",
    "\n",
    "warm_start = [True, False]\n",
    "\n",
    "# Create the random grid\n",
    "random_grid = {\n",
    "    'bootstrap'        : bootstrap,\n",
    "    'criterion'        : criteria,\n",
    "    'max_depth'        : max_depth,\n",
    "    'max_features'     : max_features,\n",
    "    'min_samples_leaf' : min_samples_leaf,\n",
    "    'min_samples_split': min_samples_split,\n",
    "    'n_estimators'     : n_estimators,\n",
    "    'warm_start'       : warm_start\n",
    "}\n",
    "\n",
    "pprint(random_grid)"
   ]
  },
  {
   "cell_type": "code",
   "execution_count": 4,
   "id": "06cf79c0",
   "metadata": {
    "execution": {
     "iopub.execute_input": "2023-07-13T19:40:59.388965Z",
     "iopub.status.busy": "2023-07-13T19:40:59.388449Z",
     "iopub.status.idle": "2023-07-13T19:40:59.554238Z",
     "shell.execute_reply": "2023-07-13T19:40:59.552923Z"
    },
    "papermill": {
     "duration": 0.179299,
     "end_time": "2023-07-13T19:40:59.557149",
     "exception": false,
     "start_time": "2023-07-13T19:40:59.377850",
     "status": "completed"
    },
    "tags": []
   },
   "outputs": [],
   "source": [
    "base_path = '/kaggle/input/self-reported-qol/20230625-processed-'\n",
    "\n",
    "df_physical      = pd.read_csv(base_path + 'physical-qol.csv')\n",
    "df_psychological = pd.read_csv(base_path + 'psychological-qol.csv')\n",
    "\n",
    "df_physical.drop('id', axis=1, inplace=True)         # id\n",
    "df_physical.drop('day', axis=1, inplace=True)        # day\n",
    "df_psychological.drop('id', axis=1, inplace=True)    # id\n",
    "df_psychological.drop('day', axis=1, inplace=True)   # day\n",
    "\n",
    "phy_all_tmp = df_physical.copy()\n",
    "phy_init_set_tmp = phy_all_tmp.query(\"group in ('Initial Set')\").copy()\n",
    "phy_ufpi_ufc_tmp = phy_all_tmp.query(\"group in ('UFPI', 'UFC')\").copy()\n",
    "\n",
    "psy_all_tmp = df_psychological.copy()\n",
    "psy_init_set_tmp = psy_all_tmp.query(\"group in ('Initial Set')\").copy()\n",
    "psy_ufpi_ufc_tmp = psy_all_tmp.query(\"group in ('UFPI', 'UFC')\").copy()\n",
    "\n",
    "phy_all_tmp.drop(\"group\", axis=1, inplace=True)\n",
    "phy_init_set_tmp.drop(\"group\", axis=1, inplace=True)\n",
    "phy_ufpi_ufc_tmp.drop(\"group\", axis=1, inplace=True)\n",
    "\n",
    "psy_all_tmp.drop(\"group\", axis=1, inplace=True)\n",
    "psy_init_set_tmp.drop(\"group\", axis=1, inplace=True)\n",
    "psy_ufpi_ufc_tmp.drop(\"group\", axis=1, inplace=True)\n",
    "\n",
    "# Separating predictors from the values to be predicted.\n",
    "phy_all           = phy_all_tmp.drop(\"phy_ref_score\", axis=1)\n",
    "phy_all_pred      = phy_all_tmp[\"phy_ref_score\"].copy()\n",
    "phy_init_set      = phy_init_set_tmp.drop(\"phy_ref_score\", axis=1)\n",
    "phy_init_set_pred = phy_init_set_tmp[\"phy_ref_score\"].copy()\n",
    "phy_ufpi_ufc      = phy_ufpi_ufc_tmp.drop(\"phy_ref_score\", axis=1)\n",
    "phy_ufpi_ufc_pred = phy_ufpi_ufc_tmp[\"phy_ref_score\"].copy()\n",
    "\n",
    "psy_all           = psy_all_tmp.drop(\"psy_ref_score\", axis=1)\n",
    "psy_all_pred      = psy_all_tmp[\"psy_ref_score\"].copy()\n",
    "psy_init_set      = psy_init_set_tmp.drop(\"psy_ref_score\", axis=1)\n",
    "psy_init_set_pred = psy_init_set_tmp[\"psy_ref_score\"].copy()\n",
    "psy_ufpi_ufc      = psy_ufpi_ufc_tmp.drop(\"psy_ref_score\", axis=1)\n",
    "psy_ufpi_ufc_pred = psy_ufpi_ufc_tmp[\"psy_ref_score\"].copy()"
   ]
  },
  {
   "cell_type": "code",
   "execution_count": 5,
   "id": "8d392965",
   "metadata": {
    "execution": {
     "iopub.execute_input": "2023-07-13T19:40:59.572465Z",
     "iopub.status.busy": "2023-07-13T19:40:59.572035Z",
     "iopub.status.idle": "2023-07-13T19:40:59.577946Z",
     "shell.execute_reply": "2023-07-13T19:40:59.576765Z"
    },
    "papermill": {
     "duration": 0.016787,
     "end_time": "2023-07-13T19:40:59.580372",
     "exception": false,
     "start_time": "2023-07-13T19:40:59.563585",
     "status": "completed"
    },
    "tags": []
   },
   "outputs": [],
   "source": [
    "def getDataset(domain_group):\n",
    "    return {\n",
    "        'phy_all': (phy_all, phy_all_pred),\n",
    "        'psy_all': (psy_all, psy_all_pred),\n",
    "        \n",
    "        'phy_init_set': (phy_init_set, phy_init_set_pred),\n",
    "        'psy_init_set': (psy_init_set, psy_init_set_pred),\n",
    "        \n",
    "        'phy_ufpi_ufc': (phy_ufpi_ufc, phy_ufpi_ufc_pred),\n",
    "        'psy_ufpi_ufc': (psy_ufpi_ufc, psy_ufpi_ufc_pred),\n",
    "    }[domain_group] "
   ]
  },
  {
   "cell_type": "code",
   "execution_count": 6,
   "id": "aa0b0285",
   "metadata": {
    "execution": {
     "iopub.execute_input": "2023-07-13T19:40:59.595563Z",
     "iopub.status.busy": "2023-07-13T19:40:59.595100Z",
     "iopub.status.idle": "2023-07-13T19:40:59.604203Z",
     "shell.execute_reply": "2023-07-13T19:40:59.602793Z"
    },
    "papermill": {
     "duration": 0.019533,
     "end_time": "2023-07-13T19:40:59.606525",
     "exception": false,
     "start_time": "2023-07-13T19:40:59.586992",
     "status": "completed"
    },
    "tags": []
   },
   "outputs": [],
   "source": [
    "features_phy, labels_phy = getDataset('phy_all')\n",
    "train_features_phy, test_features_phy, train_labels_phy, test_labels_phy = train_test_split(features_phy, labels_phy, test_size = 0.3, random_state = 42)"
   ]
  },
  {
   "cell_type": "code",
   "execution_count": 7,
   "id": "ca96d8b5",
   "metadata": {
    "execution": {
     "iopub.execute_input": "2023-07-13T19:40:59.621560Z",
     "iopub.status.busy": "2023-07-13T19:40:59.621148Z",
     "iopub.status.idle": "2023-07-13T19:40:59.630389Z",
     "shell.execute_reply": "2023-07-13T19:40:59.629219Z"
    },
    "papermill": {
     "duration": 0.019966,
     "end_time": "2023-07-13T19:40:59.632870",
     "exception": false,
     "start_time": "2023-07-13T19:40:59.612904",
     "status": "completed"
    },
    "tags": []
   },
   "outputs": [],
   "source": [
    "features_psy, labels_psy = getDataset('psy_all')\n",
    "train_features_psy, test_features_psy, train_labels_psy, test_labels_psy = train_test_split(features_psy, labels_psy, test_size = 0.3, random_state = 42)"
   ]
  },
  {
   "cell_type": "code",
   "execution_count": 8,
   "id": "3f9948e1",
   "metadata": {
    "execution": {
     "iopub.execute_input": "2023-07-13T19:40:59.648265Z",
     "iopub.status.busy": "2023-07-13T19:40:59.647182Z",
     "iopub.status.idle": "2023-07-13T19:40:59.653557Z",
     "shell.execute_reply": "2023-07-13T19:40:59.652537Z"
    },
    "papermill": {
     "duration": 0.016519,
     "end_time": "2023-07-13T19:40:59.655788",
     "exception": false,
     "start_time": "2023-07-13T19:40:59.639269",
     "status": "completed"
    },
    "tags": []
   },
   "outputs": [],
   "source": [
    "def evaluate_mae_rmse(name, model, test_features, test_labels):\n",
    "    predictions = model.predict(test_features)\n",
    "    mae = mean_absolute_error(test_labels, predictions)\n",
    "    rmse = mean_squared_error(test_labels, predictions, squared=False)\n",
    "    print('Model Performance of', name, 'MAE = {:0.4f} RMSE = {:0.4f}'.format(mae, rmse))\n",
    "    return mae, rmse"
   ]
  },
  {
   "cell_type": "code",
   "execution_count": 9,
   "id": "de0728eb",
   "metadata": {
    "execution": {
     "iopub.execute_input": "2023-07-13T19:40:59.670306Z",
     "iopub.status.busy": "2023-07-13T19:40:59.669868Z",
     "iopub.status.idle": "2023-07-13T19:40:59.675307Z",
     "shell.execute_reply": "2023-07-13T19:40:59.674230Z"
    },
    "papermill": {
     "duration": 0.015435,
     "end_time": "2023-07-13T19:40:59.677556",
     "exception": false,
     "start_time": "2023-07-13T19:40:59.662121",
     "status": "completed"
    },
    "tags": []
   },
   "outputs": [],
   "source": [
    "def get_baseline_metrics(domain_group):\n",
    "    return {\n",
    "        'phy_all': (5.6870, 8.0745),\n",
    "        'psy_all': (5.4534, 7.7493),\n",
    "    }[domain_group]"
   ]
  },
  {
   "cell_type": "code",
   "execution_count": 10,
   "id": "aa69e415",
   "metadata": {
    "execution": {
     "iopub.execute_input": "2023-07-13T19:40:59.691678Z",
     "iopub.status.busy": "2023-07-13T19:40:59.691236Z",
     "iopub.status.idle": "2023-07-13T19:40:59.696900Z",
     "shell.execute_reply": "2023-07-13T19:40:59.695887Z"
    },
    "papermill": {
     "duration": 0.015304,
     "end_time": "2023-07-13T19:40:59.699129",
     "exception": false,
     "start_time": "2023-07-13T19:40:59.683825",
     "status": "completed"
    },
    "tags": []
   },
   "outputs": [],
   "source": [
    "def get_test_features_labels(domain_group):\n",
    "    return {\n",
    "        'phy_all': (test_features_phy, test_labels_phy),\n",
    "        'psy_all': (test_features_psy, test_labels_psy),\n",
    "    }[domain_group]"
   ]
  },
  {
   "cell_type": "code",
   "execution_count": 11,
   "id": "0bf5de4c",
   "metadata": {
    "execution": {
     "iopub.execute_input": "2023-07-13T19:40:59.714050Z",
     "iopub.status.busy": "2023-07-13T19:40:59.713604Z",
     "iopub.status.idle": "2023-07-13T19:40:59.720133Z",
     "shell.execute_reply": "2023-07-13T19:40:59.718813Z"
    },
    "papermill": {
     "duration": 0.017066,
     "end_time": "2023-07-13T19:40:59.722553",
     "exception": false,
     "start_time": "2023-07-13T19:40:59.705487",
     "status": "completed"
    },
    "tags": []
   },
   "outputs": [],
   "source": [
    "def check_improvement(new_model, domain_group):\n",
    "    b_mae, b_rmse = get_baseline_metrics(domain_group)\n",
    "    test_features, test_labels = get_test_features_labels(domain_group)\n",
    "    \n",
    "    n_mae, n_rmse = evaluate_mae_rmse('New Model', new_model, test_features, test_labels)\n",
    "    \n",
    "    imp_mae  = (n_mae - b_mae) / b_mae\n",
    "    imp_rmse = (n_rmse - b_rmse) / b_rmse\n",
    "    \n",
    "    print('Improvement of {:0.2f}% in MAE ({:0.2f})'.format(100 * imp_mae, n_mae))\n",
    "    print('Improvement of {:0.2f}% in RMSE ({:0.2f})'.format(100 * imp_rmse, n_rmse))"
   ]
  },
  {
   "cell_type": "code",
   "execution_count": 12,
   "id": "cfc586e2",
   "metadata": {
    "execution": {
     "iopub.execute_input": "2023-07-13T19:40:59.738037Z",
     "iopub.status.busy": "2023-07-13T19:40:59.736684Z",
     "iopub.status.idle": "2023-07-13T19:40:59.743395Z",
     "shell.execute_reply": "2023-07-13T19:40:59.742498Z"
    },
    "papermill": {
     "duration": 0.016813,
     "end_time": "2023-07-13T19:40:59.745849",
     "exception": false,
     "start_time": "2023-07-13T19:40:59.729036",
     "status": "completed"
    },
    "tags": []
   },
   "outputs": [],
   "source": [
    "def check_improvement_v2(df, domain_group):\n",
    "    b_mae, b_rmse = get_baseline_metrics(domain_group) \n",
    "    n_mae  = df[\"mae_mean\"].mean() \n",
    "    n_rmse = df[\"rmse_mean\"].mean() \n",
    "    \n",
    "    imp_mae  = abs(n_mae - b_mae) / b_mae\n",
    "    imp_rmse = abs(n_rmse - b_rmse) / b_rmse\n",
    "    \n",
    "    print('Improvement of {:0.2f}% in MAE ({:0.2f})'.format(100 * imp_mae, n_mae))\n",
    "    print('Improvement of {:0.2f}% in RMSE ({:0.2f})'.format(100 * imp_rmse, n_rmse))"
   ]
  },
  {
   "cell_type": "code",
   "execution_count": 13,
   "id": "52a1c892",
   "metadata": {
    "execution": {
     "iopub.execute_input": "2023-07-13T19:40:59.760659Z",
     "iopub.status.busy": "2023-07-13T19:40:59.760189Z",
     "iopub.status.idle": "2023-07-13T19:40:59.765506Z",
     "shell.execute_reply": "2023-07-13T19:40:59.764339Z"
    },
    "papermill": {
     "duration": 0.015512,
     "end_time": "2023-07-13T19:40:59.767650",
     "exception": false,
     "start_time": "2023-07-13T19:40:59.752138",
     "status": "completed"
    },
    "tags": []
   },
   "outputs": [],
   "source": [
    "cols_result_df = ['exec_index', 'name', 'model', 'n_folds', 'feature_selection', 'mae_mean', 'mae_std', 'rmse_mean', 'rmse_std', 'r2_mean', 'r2_std', 'time(s)']"
   ]
  },
  {
   "cell_type": "code",
   "execution_count": 14,
   "id": "570c3c9d",
   "metadata": {
    "execution": {
     "iopub.execute_input": "2023-07-13T19:40:59.782224Z",
     "iopub.status.busy": "2023-07-13T19:40:59.781721Z",
     "iopub.status.idle": "2023-07-13T19:40:59.786714Z",
     "shell.execute_reply": "2023-07-13T19:40:59.785533Z"
    },
    "papermill": {
     "duration": 0.014915,
     "end_time": "2023-07-13T19:40:59.788851",
     "exception": false,
     "start_time": "2023-07-13T19:40:59.773936",
     "status": "completed"
    },
    "tags": []
   },
   "outputs": [],
   "source": [
    "iterations = 30\n",
    "executions = 30\n",
    "cv_number = 10"
   ]
  },
  {
   "cell_type": "code",
   "execution_count": 15,
   "id": "ddff880b",
   "metadata": {
    "execution": {
     "iopub.execute_input": "2023-07-13T19:40:59.803605Z",
     "iopub.status.busy": "2023-07-13T19:40:59.802831Z",
     "iopub.status.idle": "2023-07-13T19:40:59.810804Z",
     "shell.execute_reply": "2023-07-13T19:40:59.809961Z"
    },
    "papermill": {
     "duration": 0.017971,
     "end_time": "2023-07-13T19:40:59.813125",
     "exception": false,
     "start_time": "2023-07-13T19:40:59.795154",
     "status": "completed"
    },
    "tags": []
   },
   "outputs": [],
   "source": [
    "def rmsle_cv(exec_index, name, new_model, domain_group):\n",
    "    start = time.time()\n",
    "    \n",
    "    X, y = getDataset(domain_group)\n",
    "    \n",
    "    kf = KFold(cv_number, shuffle = True, random_state = 42).get_n_splits(X.values)\n",
    "    rmse = np.sqrt(-cross_val_score(new_model, X.values, y, scoring = \"neg_mean_squared_error\", cv = kf))\n",
    "    mae  = -cross_val_score(new_model, X.values, y, scoring = \"neg_mean_absolute_error\", cv = kf)\n",
    "    r2 = cross_val_score(new_model, X.values, y, scoring = \"r2\", cv = kf)\n",
    "    \n",
    "    end = time.time()\n",
    "    exec_time = end - start\n",
    "    scores = pd.Series([exec_index, name, new_model, cv_number, 'None',\n",
    "                      round(mae.mean(), 4),  round(mae.std(), 4), \n",
    "                      round(rmse.mean(), 4), round(rmse.std(), 4), \n",
    "                      round(r2.mean(), 4),   round(r2.std(), 4), \n",
    "                      round(exec_time, 4)],  index=cols_result_df)\n",
    "    \n",
    "    #print('MAE:', round(mae.mean(), 4), 'RMSE:',  round(rmse.mean(), 4), 'Time:', exec_time, '\\n')\n",
    "    return scores"
   ]
  },
  {
   "cell_type": "code",
   "execution_count": 16,
   "id": "7257f40e",
   "metadata": {
    "execution": {
     "iopub.execute_input": "2023-07-13T19:40:59.828040Z",
     "iopub.status.busy": "2023-07-13T19:40:59.827204Z",
     "iopub.status.idle": "2023-07-13T19:40:59.833110Z",
     "shell.execute_reply": "2023-07-13T19:40:59.832176Z"
    },
    "papermill": {
     "duration": 0.015992,
     "end_time": "2023-07-13T19:40:59.835454",
     "exception": false,
     "start_time": "2023-07-13T19:40:59.819462",
     "status": "completed"
    },
    "tags": []
   },
   "outputs": [],
   "source": [
    "def train_model(name, new_model, domain_group):\n",
    "    df = pd.DataFrame(columns = cols_result_df)\n",
    "    for exec_index in range(executions):\n",
    "        print('|_ Training', name, 'Execution', exec_index, '...')\n",
    "        result = rmsle_cv(exec_index, name, new_model, domain_group)\n",
    "        df = pd.concat([df, result.to_frame().T], ignore_index=True)\n",
    "    return df"
   ]
  },
  {
   "cell_type": "code",
   "execution_count": 17,
   "id": "5a061a6b",
   "metadata": {
    "execution": {
     "iopub.execute_input": "2023-07-13T19:40:59.849674Z",
     "iopub.status.busy": "2023-07-13T19:40:59.849211Z",
     "iopub.status.idle": "2023-07-13T20:15:37.403347Z",
     "shell.execute_reply": "2023-07-13T20:15:37.401927Z"
    },
    "papermill": {
     "duration": 2077.564363,
     "end_time": "2023-07-13T20:15:37.406016",
     "exception": false,
     "start_time": "2023-07-13T19:40:59.841653",
     "status": "completed"
    },
    "tags": []
   },
   "outputs": [
    {
     "name": "stdout",
     "output_type": "stream",
     "text": [
      "Fitting 10 folds for each of 30 candidates, totalling 300 fits\n"
     ]
    },
    {
     "name": "stderr",
     "output_type": "stream",
     "text": [
      "/opt/conda/lib/python3.10/site-packages/sklearn/model_selection/_validation.py:378: FitFailedWarning: \n",
      "40 fits failed out of a total of 300.\n",
      "The score on these train-test partitions for these parameters will be set to nan.\n",
      "If these failures are not expected, you can try to debug them by setting error_score='raise'.\n",
      "\n",
      "Below are more details about the failures:\n",
      "--------------------------------------------------------------------------------\n",
      "40 fits failed with the following error:\n",
      "Traceback (most recent call last):\n",
      "  File \"/opt/conda/lib/python3.10/site-packages/sklearn/model_selection/_validation.py\", line 686, in _fit_and_score\n",
      "    estimator.fit(X_train, y_train, **fit_params)\n",
      "  File \"/opt/conda/lib/python3.10/site-packages/sklearn/ensemble/_forest.py\", line 340, in fit\n",
      "    self._validate_params()\n",
      "  File \"/opt/conda/lib/python3.10/site-packages/sklearn/base.py\", line 600, in _validate_params\n",
      "    validate_parameter_constraints(\n",
      "  File \"/opt/conda/lib/python3.10/site-packages/sklearn/utils/_param_validation.py\", line 97, in validate_parameter_constraints\n",
      "    raise InvalidParameterError(\n",
      "sklearn.utils._param_validation.InvalidParameterError: The 'min_samples_split' parameter of RandomForestRegressor must be an int in the range [2, inf) or a float in the range (0.0, 1.0]. Got 1 instead.\n",
      "\n",
      "  warnings.warn(some_fits_failed_message, FitFailedWarning)\n",
      "/opt/conda/lib/python3.10/site-packages/sklearn/model_selection/_search.py:952: UserWarning: One or more of the test scores are non-finite: [0.77610219 0.70167966 0.76648753        nan 0.66563515 0.77115781\n",
      " 0.73014623        nan 0.78651692 0.76271804 0.75359415 0.76633031\n",
      "        nan 0.69327298 0.75620748 0.78088624 0.75555225 0.65098863\n",
      " 0.66942097 0.79170288 0.78788011 0.77136777 0.68770034 0.78975093\n",
      " 0.78493895 0.73927539 0.68760175        nan 0.68408495 0.78164146]\n",
      "  warnings.warn(\n"
     ]
    },
    {
     "data": {
      "text/html": [
       "<style>#sk-container-id-1 {color: black;background-color: white;}#sk-container-id-1 pre{padding: 0;}#sk-container-id-1 div.sk-toggleable {background-color: white;}#sk-container-id-1 label.sk-toggleable__label {cursor: pointer;display: block;width: 100%;margin-bottom: 0;padding: 0.3em;box-sizing: border-box;text-align: center;}#sk-container-id-1 label.sk-toggleable__label-arrow:before {content: \"▸\";float: left;margin-right: 0.25em;color: #696969;}#sk-container-id-1 label.sk-toggleable__label-arrow:hover:before {color: black;}#sk-container-id-1 div.sk-estimator:hover label.sk-toggleable__label-arrow:before {color: black;}#sk-container-id-1 div.sk-toggleable__content {max-height: 0;max-width: 0;overflow: hidden;text-align: left;background-color: #f0f8ff;}#sk-container-id-1 div.sk-toggleable__content pre {margin: 0.2em;color: black;border-radius: 0.25em;background-color: #f0f8ff;}#sk-container-id-1 input.sk-toggleable__control:checked~div.sk-toggleable__content {max-height: 200px;max-width: 100%;overflow: auto;}#sk-container-id-1 input.sk-toggleable__control:checked~label.sk-toggleable__label-arrow:before {content: \"▾\";}#sk-container-id-1 div.sk-estimator input.sk-toggleable__control:checked~label.sk-toggleable__label {background-color: #d4ebff;}#sk-container-id-1 div.sk-label input.sk-toggleable__control:checked~label.sk-toggleable__label {background-color: #d4ebff;}#sk-container-id-1 input.sk-hidden--visually {border: 0;clip: rect(1px 1px 1px 1px);clip: rect(1px, 1px, 1px, 1px);height: 1px;margin: -1px;overflow: hidden;padding: 0;position: absolute;width: 1px;}#sk-container-id-1 div.sk-estimator {font-family: monospace;background-color: #f0f8ff;border: 1px dotted black;border-radius: 0.25em;box-sizing: border-box;margin-bottom: 0.5em;}#sk-container-id-1 div.sk-estimator:hover {background-color: #d4ebff;}#sk-container-id-1 div.sk-parallel-item::after {content: \"\";width: 100%;border-bottom: 1px solid gray;flex-grow: 1;}#sk-container-id-1 div.sk-label:hover label.sk-toggleable__label {background-color: #d4ebff;}#sk-container-id-1 div.sk-serial::before {content: \"\";position: absolute;border-left: 1px solid gray;box-sizing: border-box;top: 0;bottom: 0;left: 50%;z-index: 0;}#sk-container-id-1 div.sk-serial {display: flex;flex-direction: column;align-items: center;background-color: white;padding-right: 0.2em;padding-left: 0.2em;position: relative;}#sk-container-id-1 div.sk-item {position: relative;z-index: 1;}#sk-container-id-1 div.sk-parallel {display: flex;align-items: stretch;justify-content: center;background-color: white;position: relative;}#sk-container-id-1 div.sk-item::before, #sk-container-id-1 div.sk-parallel-item::before {content: \"\";position: absolute;border-left: 1px solid gray;box-sizing: border-box;top: 0;bottom: 0;left: 50%;z-index: -1;}#sk-container-id-1 div.sk-parallel-item {display: flex;flex-direction: column;z-index: 1;position: relative;background-color: white;}#sk-container-id-1 div.sk-parallel-item:first-child::after {align-self: flex-end;width: 50%;}#sk-container-id-1 div.sk-parallel-item:last-child::after {align-self: flex-start;width: 50%;}#sk-container-id-1 div.sk-parallel-item:only-child::after {width: 0;}#sk-container-id-1 div.sk-dashed-wrapped {border: 1px dashed gray;margin: 0 0.4em 0.5em 0.4em;box-sizing: border-box;padding-bottom: 0.4em;background-color: white;}#sk-container-id-1 div.sk-label label {font-family: monospace;font-weight: bold;display: inline-block;line-height: 1.2em;}#sk-container-id-1 div.sk-label-container {text-align: center;}#sk-container-id-1 div.sk-container {/* jupyter's `normalize.less` sets `[hidden] { display: none; }` but bootstrap.min.css set `[hidden] { display: none !important; }` so we also need the `!important` here to be able to override the default hidden behavior on the sphinx rendered scikit-learn.org. See: https://github.com/scikit-learn/scikit-learn/issues/21755 */display: inline-block !important;position: relative;}#sk-container-id-1 div.sk-text-repr-fallback {display: none;}</style><div id=\"sk-container-id-1\" class=\"sk-top-container\"><div class=\"sk-text-repr-fallback\"><pre>RandomizedSearchCV(cv=10, estimator=RandomForestRegressor(random_state=42),\n",
       "                   n_iter=30, n_jobs=-1,\n",
       "                   param_distributions={&#x27;bootstrap&#x27;: [True, False],\n",
       "                                        &#x27;criterion&#x27;: [&#x27;squared_error&#x27;,\n",
       "                                                      &#x27;absolute_error&#x27;,\n",
       "                                                      &#x27;friedman_mse&#x27;,\n",
       "                                                      &#x27;poisson&#x27;],\n",
       "                                        &#x27;max_depth&#x27;: [10, 20, 30, 40, 50, 60,\n",
       "                                                      70, 80, 90, 100, 110,\n",
       "                                                      None],\n",
       "                                        &#x27;max_features&#x27;: [&#x27;sqrt&#x27;, &#x27;log2&#x27;, 1.0,\n",
       "                                                         None],\n",
       "                                        &#x27;min_samples_leaf&#x27;: [1, 2, 4, 6],\n",
       "                                        &#x27;min_samples_split&#x27;: [1, 2, 5, 10],\n",
       "                                        &#x27;n_estimators&#x27;: [10, 231, 452, 673, 894,\n",
       "                                                         1115, 1336, 1557, 1778,\n",
       "                                                         2000],\n",
       "                                        &#x27;warm_start&#x27;: [True, False]},\n",
       "                   random_state=42, verbose=1)</pre><b>In a Jupyter environment, please rerun this cell to show the HTML representation or trust the notebook. <br />On GitHub, the HTML representation is unable to render, please try loading this page with nbviewer.org.</b></div><div class=\"sk-container\" hidden><div class=\"sk-item sk-dashed-wrapped\"><div class=\"sk-label-container\"><div class=\"sk-label sk-toggleable\"><input class=\"sk-toggleable__control sk-hidden--visually\" id=\"sk-estimator-id-1\" type=\"checkbox\" ><label for=\"sk-estimator-id-1\" class=\"sk-toggleable__label sk-toggleable__label-arrow\">RandomizedSearchCV</label><div class=\"sk-toggleable__content\"><pre>RandomizedSearchCV(cv=10, estimator=RandomForestRegressor(random_state=42),\n",
       "                   n_iter=30, n_jobs=-1,\n",
       "                   param_distributions={&#x27;bootstrap&#x27;: [True, False],\n",
       "                                        &#x27;criterion&#x27;: [&#x27;squared_error&#x27;,\n",
       "                                                      &#x27;absolute_error&#x27;,\n",
       "                                                      &#x27;friedman_mse&#x27;,\n",
       "                                                      &#x27;poisson&#x27;],\n",
       "                                        &#x27;max_depth&#x27;: [10, 20, 30, 40, 50, 60,\n",
       "                                                      70, 80, 90, 100, 110,\n",
       "                                                      None],\n",
       "                                        &#x27;max_features&#x27;: [&#x27;sqrt&#x27;, &#x27;log2&#x27;, 1.0,\n",
       "                                                         None],\n",
       "                                        &#x27;min_samples_leaf&#x27;: [1, 2, 4, 6],\n",
       "                                        &#x27;min_samples_split&#x27;: [1, 2, 5, 10],\n",
       "                                        &#x27;n_estimators&#x27;: [10, 231, 452, 673, 894,\n",
       "                                                         1115, 1336, 1557, 1778,\n",
       "                                                         2000],\n",
       "                                        &#x27;warm_start&#x27;: [True, False]},\n",
       "                   random_state=42, verbose=1)</pre></div></div></div><div class=\"sk-parallel\"><div class=\"sk-parallel-item\"><div class=\"sk-item\"><div class=\"sk-label-container\"><div class=\"sk-label sk-toggleable\"><input class=\"sk-toggleable__control sk-hidden--visually\" id=\"sk-estimator-id-2\" type=\"checkbox\" ><label for=\"sk-estimator-id-2\" class=\"sk-toggleable__label sk-toggleable__label-arrow\">estimator: RandomForestRegressor</label><div class=\"sk-toggleable__content\"><pre>RandomForestRegressor(random_state=42)</pre></div></div></div><div class=\"sk-serial\"><div class=\"sk-item\"><div class=\"sk-estimator sk-toggleable\"><input class=\"sk-toggleable__control sk-hidden--visually\" id=\"sk-estimator-id-3\" type=\"checkbox\" ><label for=\"sk-estimator-id-3\" class=\"sk-toggleable__label sk-toggleable__label-arrow\">RandomForestRegressor</label><div class=\"sk-toggleable__content\"><pre>RandomForestRegressor(random_state=42)</pre></div></div></div></div></div></div></div></div></div></div>"
      ],
      "text/plain": [
       "RandomizedSearchCV(cv=10, estimator=RandomForestRegressor(random_state=42),\n",
       "                   n_iter=30, n_jobs=-1,\n",
       "                   param_distributions={'bootstrap': [True, False],\n",
       "                                        'criterion': ['squared_error',\n",
       "                                                      'absolute_error',\n",
       "                                                      'friedman_mse',\n",
       "                                                      'poisson'],\n",
       "                                        'max_depth': [10, 20, 30, 40, 50, 60,\n",
       "                                                      70, 80, 90, 100, 110,\n",
       "                                                      None],\n",
       "                                        'max_features': ['sqrt', 'log2', 1.0,\n",
       "                                                         None],\n",
       "                                        'min_samples_leaf': [1, 2, 4, 6],\n",
       "                                        'min_samples_split': [1, 2, 5, 10],\n",
       "                                        'n_estimators': [10, 231, 452, 673, 894,\n",
       "                                                         1115, 1336, 1557, 1778,\n",
       "                                                         2000],\n",
       "                                        'warm_start': [True, False]},\n",
       "                   random_state=42, verbose=1)"
      ]
     },
     "execution_count": 17,
     "metadata": {},
     "output_type": "execute_result"
    }
   ],
   "source": [
    "rscv_phy = RandomizedSearchCV(estimator = base_regressor, param_distributions = random_grid, n_iter = iterations, cv = cv_number, verbose=1, random_state=42, n_jobs = -1)\n",
    "rscv_phy.fit(train_features_phy, train_labels_phy)"
   ]
  },
  {
   "cell_type": "code",
   "execution_count": 18,
   "id": "8a128c22",
   "metadata": {
    "execution": {
     "iopub.execute_input": "2023-07-13T20:15:37.421982Z",
     "iopub.status.busy": "2023-07-13T20:15:37.421484Z",
     "iopub.status.idle": "2023-07-13T20:52:05.389541Z",
     "shell.execute_reply": "2023-07-13T20:52:05.388188Z"
    },
    "papermill": {
     "duration": 2187.979501,
     "end_time": "2023-07-13T20:52:05.392478",
     "exception": false,
     "start_time": "2023-07-13T20:15:37.412977",
     "status": "completed"
    },
    "tags": []
   },
   "outputs": [
    {
     "name": "stdout",
     "output_type": "stream",
     "text": [
      "Fitting 10 folds for each of 30 candidates, totalling 300 fits\n"
     ]
    },
    {
     "name": "stderr",
     "output_type": "stream",
     "text": [
      "/opt/conda/lib/python3.10/site-packages/sklearn/model_selection/_validation.py:378: FitFailedWarning: \n",
      "40 fits failed out of a total of 300.\n",
      "The score on these train-test partitions for these parameters will be set to nan.\n",
      "If these failures are not expected, you can try to debug them by setting error_score='raise'.\n",
      "\n",
      "Below are more details about the failures:\n",
      "--------------------------------------------------------------------------------\n",
      "40 fits failed with the following error:\n",
      "Traceback (most recent call last):\n",
      "  File \"/opt/conda/lib/python3.10/site-packages/sklearn/model_selection/_validation.py\", line 686, in _fit_and_score\n",
      "    estimator.fit(X_train, y_train, **fit_params)\n",
      "  File \"/opt/conda/lib/python3.10/site-packages/sklearn/ensemble/_forest.py\", line 340, in fit\n",
      "    self._validate_params()\n",
      "  File \"/opt/conda/lib/python3.10/site-packages/sklearn/base.py\", line 600, in _validate_params\n",
      "    validate_parameter_constraints(\n",
      "  File \"/opt/conda/lib/python3.10/site-packages/sklearn/utils/_param_validation.py\", line 97, in validate_parameter_constraints\n",
      "    raise InvalidParameterError(\n",
      "sklearn.utils._param_validation.InvalidParameterError: The 'min_samples_split' parameter of RandomForestRegressor must be an int in the range [2, inf) or a float in the range (0.0, 1.0]. Got 1 instead.\n",
      "\n",
      "  warnings.warn(some_fits_failed_message, FitFailedWarning)\n",
      "/opt/conda/lib/python3.10/site-packages/sklearn/model_selection/_search.py:952: UserWarning: One or more of the test scores are non-finite: [0.84344235 0.77225886 0.83217266        nan 0.70893307 0.84230849\n",
      " 0.81345102        nan 0.84548651 0.8315344  0.82506305 0.83729878\n",
      "        nan 0.76135093 0.82736686 0.85518814 0.82721872 0.7057043\n",
      " 0.73039168 0.84843467 0.83731219 0.84105985 0.75931848 0.85555974\n",
      " 0.85318246 0.81086071 0.75955157        nan 0.79468641 0.82718336]\n",
      "  warnings.warn(\n"
     ]
    },
    {
     "data": {
      "text/html": [
       "<style>#sk-container-id-2 {color: black;background-color: white;}#sk-container-id-2 pre{padding: 0;}#sk-container-id-2 div.sk-toggleable {background-color: white;}#sk-container-id-2 label.sk-toggleable__label {cursor: pointer;display: block;width: 100%;margin-bottom: 0;padding: 0.3em;box-sizing: border-box;text-align: center;}#sk-container-id-2 label.sk-toggleable__label-arrow:before {content: \"▸\";float: left;margin-right: 0.25em;color: #696969;}#sk-container-id-2 label.sk-toggleable__label-arrow:hover:before {color: black;}#sk-container-id-2 div.sk-estimator:hover label.sk-toggleable__label-arrow:before {color: black;}#sk-container-id-2 div.sk-toggleable__content {max-height: 0;max-width: 0;overflow: hidden;text-align: left;background-color: #f0f8ff;}#sk-container-id-2 div.sk-toggleable__content pre {margin: 0.2em;color: black;border-radius: 0.25em;background-color: #f0f8ff;}#sk-container-id-2 input.sk-toggleable__control:checked~div.sk-toggleable__content {max-height: 200px;max-width: 100%;overflow: auto;}#sk-container-id-2 input.sk-toggleable__control:checked~label.sk-toggleable__label-arrow:before {content: \"▾\";}#sk-container-id-2 div.sk-estimator input.sk-toggleable__control:checked~label.sk-toggleable__label {background-color: #d4ebff;}#sk-container-id-2 div.sk-label input.sk-toggleable__control:checked~label.sk-toggleable__label {background-color: #d4ebff;}#sk-container-id-2 input.sk-hidden--visually {border: 0;clip: rect(1px 1px 1px 1px);clip: rect(1px, 1px, 1px, 1px);height: 1px;margin: -1px;overflow: hidden;padding: 0;position: absolute;width: 1px;}#sk-container-id-2 div.sk-estimator {font-family: monospace;background-color: #f0f8ff;border: 1px dotted black;border-radius: 0.25em;box-sizing: border-box;margin-bottom: 0.5em;}#sk-container-id-2 div.sk-estimator:hover {background-color: #d4ebff;}#sk-container-id-2 div.sk-parallel-item::after {content: \"\";width: 100%;border-bottom: 1px solid gray;flex-grow: 1;}#sk-container-id-2 div.sk-label:hover label.sk-toggleable__label {background-color: #d4ebff;}#sk-container-id-2 div.sk-serial::before {content: \"\";position: absolute;border-left: 1px solid gray;box-sizing: border-box;top: 0;bottom: 0;left: 50%;z-index: 0;}#sk-container-id-2 div.sk-serial {display: flex;flex-direction: column;align-items: center;background-color: white;padding-right: 0.2em;padding-left: 0.2em;position: relative;}#sk-container-id-2 div.sk-item {position: relative;z-index: 1;}#sk-container-id-2 div.sk-parallel {display: flex;align-items: stretch;justify-content: center;background-color: white;position: relative;}#sk-container-id-2 div.sk-item::before, #sk-container-id-2 div.sk-parallel-item::before {content: \"\";position: absolute;border-left: 1px solid gray;box-sizing: border-box;top: 0;bottom: 0;left: 50%;z-index: -1;}#sk-container-id-2 div.sk-parallel-item {display: flex;flex-direction: column;z-index: 1;position: relative;background-color: white;}#sk-container-id-2 div.sk-parallel-item:first-child::after {align-self: flex-end;width: 50%;}#sk-container-id-2 div.sk-parallel-item:last-child::after {align-self: flex-start;width: 50%;}#sk-container-id-2 div.sk-parallel-item:only-child::after {width: 0;}#sk-container-id-2 div.sk-dashed-wrapped {border: 1px dashed gray;margin: 0 0.4em 0.5em 0.4em;box-sizing: border-box;padding-bottom: 0.4em;background-color: white;}#sk-container-id-2 div.sk-label label {font-family: monospace;font-weight: bold;display: inline-block;line-height: 1.2em;}#sk-container-id-2 div.sk-label-container {text-align: center;}#sk-container-id-2 div.sk-container {/* jupyter's `normalize.less` sets `[hidden] { display: none; }` but bootstrap.min.css set `[hidden] { display: none !important; }` so we also need the `!important` here to be able to override the default hidden behavior on the sphinx rendered scikit-learn.org. See: https://github.com/scikit-learn/scikit-learn/issues/21755 */display: inline-block !important;position: relative;}#sk-container-id-2 div.sk-text-repr-fallback {display: none;}</style><div id=\"sk-container-id-2\" class=\"sk-top-container\"><div class=\"sk-text-repr-fallback\"><pre>RandomizedSearchCV(cv=10, estimator=RandomForestRegressor(random_state=42),\n",
       "                   n_iter=30, n_jobs=-1,\n",
       "                   param_distributions={&#x27;bootstrap&#x27;: [True, False],\n",
       "                                        &#x27;criterion&#x27;: [&#x27;squared_error&#x27;,\n",
       "                                                      &#x27;absolute_error&#x27;,\n",
       "                                                      &#x27;friedman_mse&#x27;,\n",
       "                                                      &#x27;poisson&#x27;],\n",
       "                                        &#x27;max_depth&#x27;: [10, 20, 30, 40, 50, 60,\n",
       "                                                      70, 80, 90, 100, 110,\n",
       "                                                      None],\n",
       "                                        &#x27;max_features&#x27;: [&#x27;sqrt&#x27;, &#x27;log2&#x27;, 1.0,\n",
       "                                                         None],\n",
       "                                        &#x27;min_samples_leaf&#x27;: [1, 2, 4, 6],\n",
       "                                        &#x27;min_samples_split&#x27;: [1, 2, 5, 10],\n",
       "                                        &#x27;n_estimators&#x27;: [10, 231, 452, 673, 894,\n",
       "                                                         1115, 1336, 1557, 1778,\n",
       "                                                         2000],\n",
       "                                        &#x27;warm_start&#x27;: [True, False]},\n",
       "                   random_state=42, verbose=1)</pre><b>In a Jupyter environment, please rerun this cell to show the HTML representation or trust the notebook. <br />On GitHub, the HTML representation is unable to render, please try loading this page with nbviewer.org.</b></div><div class=\"sk-container\" hidden><div class=\"sk-item sk-dashed-wrapped\"><div class=\"sk-label-container\"><div class=\"sk-label sk-toggleable\"><input class=\"sk-toggleable__control sk-hidden--visually\" id=\"sk-estimator-id-4\" type=\"checkbox\" ><label for=\"sk-estimator-id-4\" class=\"sk-toggleable__label sk-toggleable__label-arrow\">RandomizedSearchCV</label><div class=\"sk-toggleable__content\"><pre>RandomizedSearchCV(cv=10, estimator=RandomForestRegressor(random_state=42),\n",
       "                   n_iter=30, n_jobs=-1,\n",
       "                   param_distributions={&#x27;bootstrap&#x27;: [True, False],\n",
       "                                        &#x27;criterion&#x27;: [&#x27;squared_error&#x27;,\n",
       "                                                      &#x27;absolute_error&#x27;,\n",
       "                                                      &#x27;friedman_mse&#x27;,\n",
       "                                                      &#x27;poisson&#x27;],\n",
       "                                        &#x27;max_depth&#x27;: [10, 20, 30, 40, 50, 60,\n",
       "                                                      70, 80, 90, 100, 110,\n",
       "                                                      None],\n",
       "                                        &#x27;max_features&#x27;: [&#x27;sqrt&#x27;, &#x27;log2&#x27;, 1.0,\n",
       "                                                         None],\n",
       "                                        &#x27;min_samples_leaf&#x27;: [1, 2, 4, 6],\n",
       "                                        &#x27;min_samples_split&#x27;: [1, 2, 5, 10],\n",
       "                                        &#x27;n_estimators&#x27;: [10, 231, 452, 673, 894,\n",
       "                                                         1115, 1336, 1557, 1778,\n",
       "                                                         2000],\n",
       "                                        &#x27;warm_start&#x27;: [True, False]},\n",
       "                   random_state=42, verbose=1)</pre></div></div></div><div class=\"sk-parallel\"><div class=\"sk-parallel-item\"><div class=\"sk-item\"><div class=\"sk-label-container\"><div class=\"sk-label sk-toggleable\"><input class=\"sk-toggleable__control sk-hidden--visually\" id=\"sk-estimator-id-5\" type=\"checkbox\" ><label for=\"sk-estimator-id-5\" class=\"sk-toggleable__label sk-toggleable__label-arrow\">estimator: RandomForestRegressor</label><div class=\"sk-toggleable__content\"><pre>RandomForestRegressor(random_state=42)</pre></div></div></div><div class=\"sk-serial\"><div class=\"sk-item\"><div class=\"sk-estimator sk-toggleable\"><input class=\"sk-toggleable__control sk-hidden--visually\" id=\"sk-estimator-id-6\" type=\"checkbox\" ><label for=\"sk-estimator-id-6\" class=\"sk-toggleable__label sk-toggleable__label-arrow\">RandomForestRegressor</label><div class=\"sk-toggleable__content\"><pre>RandomForestRegressor(random_state=42)</pre></div></div></div></div></div></div></div></div></div></div>"
      ],
      "text/plain": [
       "RandomizedSearchCV(cv=10, estimator=RandomForestRegressor(random_state=42),\n",
       "                   n_iter=30, n_jobs=-1,\n",
       "                   param_distributions={'bootstrap': [True, False],\n",
       "                                        'criterion': ['squared_error',\n",
       "                                                      'absolute_error',\n",
       "                                                      'friedman_mse',\n",
       "                                                      'poisson'],\n",
       "                                        'max_depth': [10, 20, 30, 40, 50, 60,\n",
       "                                                      70, 80, 90, 100, 110,\n",
       "                                                      None],\n",
       "                                        'max_features': ['sqrt', 'log2', 1.0,\n",
       "                                                         None],\n",
       "                                        'min_samples_leaf': [1, 2, 4, 6],\n",
       "                                        'min_samples_split': [1, 2, 5, 10],\n",
       "                                        'n_estimators': [10, 231, 452, 673, 894,\n",
       "                                                         1115, 1336, 1557, 1778,\n",
       "                                                         2000],\n",
       "                                        'warm_start': [True, False]},\n",
       "                   random_state=42, verbose=1)"
      ]
     },
     "execution_count": 18,
     "metadata": {},
     "output_type": "execute_result"
    }
   ],
   "source": [
    "rscv_psy = RandomizedSearchCV(estimator = base_regressor, param_distributions = random_grid, n_iter = iterations, cv = cv_number, verbose=1, random_state=42, n_jobs = -1)\n",
    "rscv_psy.fit(train_features_psy, train_labels_psy)"
   ]
  },
  {
   "cell_type": "code",
   "execution_count": 19,
   "id": "02cdea08",
   "metadata": {
    "execution": {
     "iopub.execute_input": "2023-07-13T20:52:05.410774Z",
     "iopub.status.busy": "2023-07-13T20:52:05.410288Z",
     "iopub.status.idle": "2023-07-13T20:52:05.419203Z",
     "shell.execute_reply": "2023-07-13T20:52:05.417658Z"
    },
    "papermill": {
     "duration": 0.021007,
     "end_time": "2023-07-13T20:52:05.421420",
     "exception": false,
     "start_time": "2023-07-13T20:52:05.400413",
     "status": "completed"
    },
    "tags": []
   },
   "outputs": [
    {
     "name": "stdout",
     "output_type": "stream",
     "text": [
      "Best hyperparameters for physical dataset\n"
     ]
    },
    {
     "data": {
      "text/plain": [
       "{'warm_start': False,\n",
       " 'n_estimators': 894,\n",
       " 'min_samples_split': 5,\n",
       " 'min_samples_leaf': 2,\n",
       " 'max_features': 1.0,\n",
       " 'max_depth': 10,\n",
       " 'criterion': 'squared_error',\n",
       " 'bootstrap': True}"
      ]
     },
     "execution_count": 19,
     "metadata": {},
     "output_type": "execute_result"
    }
   ],
   "source": [
    "print('Best hyperparameters for physical dataset')\n",
    "rscv_phy.best_params_"
   ]
  },
  {
   "cell_type": "code",
   "execution_count": 20,
   "id": "e8608b4e",
   "metadata": {
    "execution": {
     "iopub.execute_input": "2023-07-13T20:52:05.438391Z",
     "iopub.status.busy": "2023-07-13T20:52:05.437916Z",
     "iopub.status.idle": "2023-07-13T20:52:05.446475Z",
     "shell.execute_reply": "2023-07-13T20:52:05.444937Z"
    },
    "papermill": {
     "duration": 0.019952,
     "end_time": "2023-07-13T20:52:05.448903",
     "exception": false,
     "start_time": "2023-07-13T20:52:05.428951",
     "status": "completed"
    },
    "tags": []
   },
   "outputs": [
    {
     "name": "stdout",
     "output_type": "stream",
     "text": [
      "Best hyperparameters for psychological dataset\n"
     ]
    },
    {
     "data": {
      "text/plain": [
       "{'warm_start': False,\n",
       " 'n_estimators': 1778,\n",
       " 'min_samples_split': 2,\n",
       " 'min_samples_leaf': 1,\n",
       " 'max_features': 'sqrt',\n",
       " 'max_depth': None,\n",
       " 'criterion': 'poisson',\n",
       " 'bootstrap': False}"
      ]
     },
     "execution_count": 20,
     "metadata": {},
     "output_type": "execute_result"
    }
   ],
   "source": [
    "print('Best hyperparameters for psychological dataset')\n",
    "rscv_psy.best_params_"
   ]
  },
  {
   "cell_type": "code",
   "execution_count": 21,
   "id": "c550ca7f",
   "metadata": {
    "execution": {
     "iopub.execute_input": "2023-07-13T20:52:05.466467Z",
     "iopub.status.busy": "2023-07-13T20:52:05.466043Z",
     "iopub.status.idle": "2023-07-14T02:24:51.300394Z",
     "shell.execute_reply": "2023-07-14T02:24:51.299068Z"
    },
    "papermill": {
     "duration": 19965.861298,
     "end_time": "2023-07-14T02:24:51.318071",
     "exception": false,
     "start_time": "2023-07-13T20:52:05.456773",
     "status": "completed"
    },
    "tags": []
   },
   "outputs": [
    {
     "name": "stdout",
     "output_type": "stream",
     "text": [
      "|_ Training RandomForest RSCV Execution 0 ...\n",
      "|_ Training RandomForest RSCV Execution 1 ...\n",
      "|_ Training RandomForest RSCV Execution 2 ...\n",
      "|_ Training RandomForest RSCV Execution 3 ...\n",
      "|_ Training RandomForest RSCV Execution 4 ...\n",
      "|_ Training RandomForest RSCV Execution 5 ...\n",
      "|_ Training RandomForest RSCV Execution 6 ...\n",
      "|_ Training RandomForest RSCV Execution 7 ...\n",
      "|_ Training RandomForest RSCV Execution 8 ...\n",
      "|_ Training RandomForest RSCV Execution 9 ...\n",
      "|_ Training RandomForest RSCV Execution 10 ...\n",
      "|_ Training RandomForest RSCV Execution 11 ...\n",
      "|_ Training RandomForest RSCV Execution 12 ...\n",
      "|_ Training RandomForest RSCV Execution 13 ...\n",
      "|_ Training RandomForest RSCV Execution 14 ...\n",
      "|_ Training RandomForest RSCV Execution 15 ...\n",
      "|_ Training RandomForest RSCV Execution 16 ...\n",
      "|_ Training RandomForest RSCV Execution 17 ...\n",
      "|_ Training RandomForest RSCV Execution 18 ...\n",
      "|_ Training RandomForest RSCV Execution 19 ...\n",
      "|_ Training RandomForest RSCV Execution 20 ...\n",
      "|_ Training RandomForest RSCV Execution 21 ...\n",
      "|_ Training RandomForest RSCV Execution 22 ...\n",
      "|_ Training RandomForest RSCV Execution 23 ...\n",
      "|_ Training RandomForest RSCV Execution 24 ...\n",
      "|_ Training RandomForest RSCV Execution 25 ...\n",
      "|_ Training RandomForest RSCV Execution 26 ...\n",
      "|_ Training RandomForest RSCV Execution 27 ...\n",
      "|_ Training RandomForest RSCV Execution 28 ...\n",
      "|_ Training RandomForest RSCV Execution 29 ...\n",
      "Improvement of 0.58% in MAE (5.65)\n",
      "Improvement of 1.18% in RMSE (7.98)\n"
     ]
    }
   ],
   "source": [
    "df_phy = train_model('RandomForest RSCV', rscv_phy.best_estimator_, \"phy_all\")\n",
    "check_improvement_v2(df_phy, \"phy_all\")"
   ]
  },
  {
   "cell_type": "code",
   "execution_count": 22,
   "id": "8c2039e5",
   "metadata": {
    "execution": {
     "iopub.execute_input": "2023-07-14T02:24:51.339850Z",
     "iopub.status.busy": "2023-07-14T02:24:51.339373Z",
     "iopub.status.idle": "2023-07-14T06:25:53.625982Z",
     "shell.execute_reply": "2023-07-14T06:25:53.624784Z"
    },
    "papermill": {
     "duration": 14462.312393,
     "end_time": "2023-07-14T06:25:53.640007",
     "exception": false,
     "start_time": "2023-07-14T02:24:51.327614",
     "status": "completed"
    },
    "tags": []
   },
   "outputs": [
    {
     "name": "stdout",
     "output_type": "stream",
     "text": [
      "|_ Training RandomForest RSCV Execution 0 ...\n",
      "|_ Training RandomForest RSCV Execution 1 ...\n",
      "|_ Training RandomForest RSCV Execution 2 ...\n",
      "|_ Training RandomForest RSCV Execution 3 ...\n",
      "|_ Training RandomForest RSCV Execution 4 ...\n",
      "|_ Training RandomForest RSCV Execution 5 ...\n",
      "|_ Training RandomForest RSCV Execution 6 ...\n",
      "|_ Training RandomForest RSCV Execution 7 ...\n",
      "|_ Training RandomForest RSCV Execution 8 ...\n",
      "|_ Training RandomForest RSCV Execution 9 ...\n",
      "|_ Training RandomForest RSCV Execution 10 ...\n",
      "|_ Training RandomForest RSCV Execution 11 ...\n",
      "|_ Training RandomForest RSCV Execution 12 ...\n",
      "|_ Training RandomForest RSCV Execution 13 ...\n",
      "|_ Training RandomForest RSCV Execution 14 ...\n",
      "|_ Training RandomForest RSCV Execution 15 ...\n",
      "|_ Training RandomForest RSCV Execution 16 ...\n",
      "|_ Training RandomForest RSCV Execution 17 ...\n",
      "|_ Training RandomForest RSCV Execution 18 ...\n",
      "|_ Training RandomForest RSCV Execution 19 ...\n",
      "|_ Training RandomForest RSCV Execution 20 ...\n",
      "|_ Training RandomForest RSCV Execution 21 ...\n",
      "|_ Training RandomForest RSCV Execution 22 ...\n",
      "|_ Training RandomForest RSCV Execution 23 ...\n",
      "|_ Training RandomForest RSCV Execution 24 ...\n",
      "|_ Training RandomForest RSCV Execution 25 ...\n",
      "|_ Training RandomForest RSCV Execution 26 ...\n",
      "|_ Training RandomForest RSCV Execution 27 ...\n",
      "|_ Training RandomForest RSCV Execution 28 ...\n",
      "|_ Training RandomForest RSCV Execution 29 ...\n",
      "Improvement of 0.33% in MAE (5.44)\n",
      "Improvement of 3.01% in RMSE (7.52)\n"
     ]
    }
   ],
   "source": [
    "df_psy = train_model('RandomForest RSCV', rscv_psy.best_estimator_, \"psy_all\")\n",
    "check_improvement_v2(df_psy, \"psy_all\")"
   ]
  },
  {
   "cell_type": "code",
   "execution_count": 23,
   "id": "5cffd284",
   "metadata": {
    "execution": {
     "iopub.execute_input": "2023-07-14T06:25:53.665487Z",
     "iopub.status.busy": "2023-07-14T06:25:53.665073Z",
     "iopub.status.idle": "2023-07-14T06:25:53.711413Z",
     "shell.execute_reply": "2023-07-14T06:25:53.710377Z"
    },
    "papermill": {
     "duration": 0.062938,
     "end_time": "2023-07-14T06:25:53.714327",
     "exception": false,
     "start_time": "2023-07-14T06:25:53.651389",
     "status": "completed"
    },
    "tags": []
   },
   "outputs": [],
   "source": [
    "df_phy.to_csv('20230711-randomforest-rscv-physical.csv', index = False)\n",
    "df_psy.to_csv('20230711-randomforest-rscv-psychological.csv', index = False)"
   ]
  }
 ],
 "metadata": {
  "kernelspec": {
   "display_name": "Python 3",
   "language": "python",
   "name": "python3"
  },
  "language_info": {
   "codemirror_mode": {
    "name": "ipython",
    "version": 3
   },
   "file_extension": ".py",
   "mimetype": "text/x-python",
   "name": "python",
   "nbconvert_exporter": "python",
   "pygments_lexer": "ipython3",
   "version": "3.10.10"
  },
  "papermill": {
   "default_parameters": {},
   "duration": 38711.581192,
   "end_time": "2023-07-14T06:25:56.412157",
   "environment_variables": {},
   "exception": null,
   "input_path": "__notebook__.ipynb",
   "output_path": "__notebook__.ipynb",
   "parameters": {},
   "start_time": "2023-07-13T19:40:44.830965",
   "version": "2.4.0"
  }
 },
 "nbformat": 4,
 "nbformat_minor": 5
}
