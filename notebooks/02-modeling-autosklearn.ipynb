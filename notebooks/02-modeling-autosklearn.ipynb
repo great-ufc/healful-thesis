{
 "cells": [
  {
   "cell_type": "code",
   "execution_count": 1,
   "id": "87be6821",
   "metadata": {
    "_cell_guid": "b1076dfc-b9ad-4769-8c92-a6c4dae69d19",
    "_uuid": "8f2839f25d086af736a60e9eeb907d3b93b6e0e5",
    "execution": {
     "iopub.execute_input": "2023-07-15T14:24:31.439024Z",
     "iopub.status.busy": "2023-07-15T14:24:31.438393Z",
     "iopub.status.idle": "2023-07-15T14:24:39.522019Z",
     "shell.execute_reply": "2023-07-15T14:24:39.520296Z"
    },
    "papermill": {
     "duration": 8.096479,
     "end_time": "2023-07-15T14:24:39.525266",
     "exception": false,
     "start_time": "2023-07-15T14:24:31.428787",
     "status": "completed"
    },
    "tags": []
   },
   "outputs": [
    {
     "name": "stdout",
     "output_type": "stream",
     "text": [
      "\r\n",
      "\r\n",
      "\r\n",
      "The following additional packages will be installed:\r\n",
      "  swig4.0\r\n",
      "Suggested packages:\r\n",
      "  swig-doc swig-examples swig4.0-examples swig4.0-doc\r\n",
      "The following NEW packages will be installed:\r\n",
      "  swig swig4.0\r\n",
      "0 upgraded, 2 newly installed, 0 to remove and 6 not upgraded.\r\n",
      "Need to get 1086 kB of archives.\r\n",
      "After this operation, 5413 kB of additional disk space will be used.\r\n",
      "Get:1 http://archive.ubuntu.com/ubuntu focal/universe amd64 swig4.0 amd64 4.0.1-5build1 [1081 kB]\r\n",
      "Get:2 http://archive.ubuntu.com/ubuntu focal/universe amd64 swig all 4.0.1-5build1 [5528 B]\r\n",
      "Fetched 1086 kB in 1s (1624 kB/s)\r\n",
      "Selecting previously unselected package swig4.0.\r\n",
      "(Reading database ... 107656 files and directories currently installed.)\r\n",
      "Preparing to unpack .../swig4.0_4.0.1-5build1_amd64.deb ...\r\n",
      "Unpacking swig4.0 (4.0.1-5build1) ...\r\n",
      "Selecting previously unselected package swig.\r\n",
      "Preparing to unpack .../swig_4.0.1-5build1_all.deb ...\r\n",
      "Unpacking swig (4.0.1-5build1) ...\r\n",
      "Setting up swig4.0 (4.0.1-5build1) ...\r\n",
      "Setting up swig (4.0.1-5build1) ...\r\n",
      "Processing triggers for man-db (2.9.1-1) ...\r\n"
     ]
    }
   ],
   "source": [
    "!apt-get install swig -y"
   ]
  },
  {
   "cell_type": "code",
   "execution_count": 2,
   "id": "23eefbb9",
   "metadata": {
    "execution": {
     "iopub.execute_input": "2023-07-15T14:24:39.550272Z",
     "iopub.status.busy": "2023-07-15T14:24:39.549103Z",
     "iopub.status.idle": "2023-07-15T14:24:54.350348Z",
     "shell.execute_reply": "2023-07-15T14:24:54.349031Z"
    },
    "papermill": {
     "duration": 14.816409,
     "end_time": "2023-07-15T14:24:54.353218",
     "exception": false,
     "start_time": "2023-07-15T14:24:39.536809",
     "status": "completed"
    },
    "tags": []
   },
   "outputs": [
    {
     "name": "stdout",
     "output_type": "stream",
     "text": [
      "Requirement already satisfied: Cython in /opt/conda/lib/python3.10/site-packages (0.29.35)\r\n",
      "Requirement already satisfied: numpy in /opt/conda/lib/python3.10/site-packages (1.23.5)\r\n"
     ]
    }
   ],
   "source": [
    "!pip install Cython numpy"
   ]
  },
  {
   "cell_type": "code",
   "execution_count": 3,
   "id": "21d7f04f",
   "metadata": {
    "execution": {
     "iopub.execute_input": "2023-07-15T14:24:54.377644Z",
     "iopub.status.busy": "2023-07-15T14:24:54.377150Z",
     "iopub.status.idle": "2023-07-15T14:33:04.387471Z",
     "shell.execute_reply": "2023-07-15T14:33:04.386239Z"
    },
    "papermill": {
     "duration": 490.026498,
     "end_time": "2023-07-15T14:33:04.390453",
     "exception": false,
     "start_time": "2023-07-15T14:24:54.363955",
     "status": "completed"
    },
    "tags": []
   },
   "outputs": [
    {
     "name": "stdout",
     "output_type": "stream",
     "text": [
      "Collecting auto-sklearn\r\n",
      "  Downloading auto-sklearn-0.15.0.tar.gz (6.5 MB)\r\n",
      "\u001b[2K     \u001b[90m━━━━━━━━━━━━━━━━━━━━━━━━━━━━━━━━━━━━━━━━\u001b[0m \u001b[32m6.5/6.5 MB\u001b[0m \u001b[31m17.0 MB/s\u001b[0m eta \u001b[36m0:00:00\u001b[0m\r\n",
      "\u001b[?25h  Installing build dependencies ... \u001b[?25l-\b \b\\\b \b|\b \b/\b \b-\b \bdone\r\n",
      "\u001b[?25h  Getting requirements to build wheel ... \u001b[?25l-\b \b\\\b \bdone\r\n",
      "\u001b[?25h  Preparing metadata (pyproject.toml) ... \u001b[?25l-\b \bdone\r\n",
      "\u001b[?25hRequirement already satisfied: setuptools in /opt/conda/lib/python3.10/site-packages (from auto-sklearn) (59.8.0)\r\n",
      "Requirement already satisfied: typing-extensions in /opt/conda/lib/python3.10/site-packages (from auto-sklearn) (4.6.3)\r\n",
      "Collecting distro (from auto-sklearn)\r\n",
      "  Downloading distro-1.8.0-py3-none-any.whl (20 kB)\r\n",
      "Requirement already satisfied: numpy>=1.9.0 in /opt/conda/lib/python3.10/site-packages (from auto-sklearn) (1.23.5)\r\n",
      "Requirement already satisfied: scipy>=1.7.0 in /opt/conda/lib/python3.10/site-packages (from auto-sklearn) (1.11.1)\r\n",
      "Requirement already satisfied: joblib in /opt/conda/lib/python3.10/site-packages (from auto-sklearn) (1.2.0)\r\n",
      "Collecting scikit-learn<0.25.0,>=0.24.0 (from auto-sklearn)\r\n",
      "  Downloading scikit-learn-0.24.2.tar.gz (7.5 MB)\r\n",
      "\u001b[2K     \u001b[90m━━━━━━━━━━━━━━━━━━━━━━━━━━━━━━━━━━━━━━━━\u001b[0m \u001b[32m7.5/7.5 MB\u001b[0m \u001b[31m48.5 MB/s\u001b[0m eta \u001b[36m0:00:00\u001b[0m\r\n",
      "\u001b[?25h  Installing build dependencies ... \u001b[?25l-\b \b\\\b \b|\b \b/\b \b-\b \b\\\b \b|\b \b/\b \b-\b \b\\\b \b|\b \b/\b \b-\b \b\\\b \bdone\r\n",
      "\u001b[?25h  Getting requirements to build wheel ... \u001b[?25l-\b \b\\\b \b|\b \b/\b \bdone\r\n",
      "\u001b[?25h  Preparing metadata (pyproject.toml) ... \u001b[?25l-\b \b\\\b \b|\b \b/\b \b-\b \b\\\b \b|\b \b/\b \bdone\r\n",
      "\u001b[?25hRequirement already satisfied: dask>=2021.12 in /opt/conda/lib/python3.10/site-packages (from auto-sklearn) (2023.7.0)\r\n",
      "Requirement already satisfied: distributed>=2012.12 in /opt/conda/lib/python3.10/site-packages (from auto-sklearn) (2023.7.0)\r\n",
      "Requirement already satisfied: pyyaml in /opt/conda/lib/python3.10/site-packages (from auto-sklearn) (6.0)\r\n",
      "Requirement already satisfied: pandas>=1.0 in /opt/conda/lib/python3.10/site-packages (from auto-sklearn) (1.5.3)\r\n",
      "Collecting liac-arff (from auto-sklearn)\r\n",
      "  Downloading liac-arff-2.5.0.tar.gz (13 kB)\r\n",
      "  Preparing metadata (setup.py) ... \u001b[?25l-\b \b\\\b \bdone\r\n",
      "\u001b[?25hRequirement already satisfied: threadpoolctl in /opt/conda/lib/python3.10/site-packages (from auto-sklearn) (3.1.0)\r\n",
      "Collecting ConfigSpace<0.5,>=0.4.21 (from auto-sklearn)\r\n",
      "  Downloading ConfigSpace-0.4.21-cp310-cp310-manylinux_2_17_x86_64.manylinux2014_x86_64.whl (4.8 MB)\r\n",
      "\u001b[2K     \u001b[90m━━━━━━━━━━━━━━━━━━━━━━━━━━━━━━━━━━━━━━━━\u001b[0m \u001b[32m4.8/4.8 MB\u001b[0m \u001b[31m53.2 MB/s\u001b[0m eta \u001b[36m0:00:00\u001b[0m\r\n",
      "\u001b[?25hCollecting pynisher<0.7,>=0.6.3 (from auto-sklearn)\r\n",
      "  Downloading pynisher-0.6.4.tar.gz (11 kB)\r\n",
      "  Preparing metadata (setup.py) ... \u001b[?25l-\b \b\\\b \bdone\r\n",
      "\u001b[?25hCollecting pyrfr<0.9,>=0.8.1 (from auto-sklearn)\r\n",
      "  Downloading pyrfr-0.8.3-cp310-cp310-manylinux_2_17_x86_64.manylinux2014_x86_64.whl (4.5 MB)\r\n",
      "\u001b[2K     \u001b[90m━━━━━━━━━━━━━━━━━━━━━━━━━━━━━━━━━━━━━━━━\u001b[0m \u001b[32m4.5/4.5 MB\u001b[0m \u001b[31m68.2 MB/s\u001b[0m eta \u001b[36m0:00:00\u001b[0m\r\n",
      "\u001b[?25hCollecting smac<1.3,>=1.2 (from auto-sklearn)\r\n",
      "  Downloading smac-1.2.tar.gz (260 kB)\r\n",
      "\u001b[2K     \u001b[90m━━━━━━━━━━━━━━━━━━━━━━━━━━━━━━━━━━━━━━\u001b[0m \u001b[32m260.9/260.9 kB\u001b[0m \u001b[31m21.0 MB/s\u001b[0m eta \u001b[36m0:00:00\u001b[0m\r\n",
      "\u001b[?25h  Preparing metadata (setup.py) ... \u001b[?25l-\b \b\\\b \bdone\r\n",
      "\u001b[?25hRequirement already satisfied: cython in /opt/conda/lib/python3.10/site-packages (from ConfigSpace<0.5,>=0.4.21->auto-sklearn) (0.29.35)\r\n",
      "Requirement already satisfied: pyparsing in /opt/conda/lib/python3.10/site-packages (from ConfigSpace<0.5,>=0.4.21->auto-sklearn) (3.0.9)\r\n",
      "Requirement already satisfied: click>=8.0 in /opt/conda/lib/python3.10/site-packages (from dask>=2021.12->auto-sklearn) (8.1.3)\r\n",
      "Requirement already satisfied: cloudpickle>=1.5.0 in /opt/conda/lib/python3.10/site-packages (from dask>=2021.12->auto-sklearn) (2.2.1)\r\n",
      "Requirement already satisfied: fsspec>=2021.09.0 in /opt/conda/lib/python3.10/site-packages (from dask>=2021.12->auto-sklearn) (2023.6.0)\r\n",
      "Requirement already satisfied: packaging>=20.0 in /opt/conda/lib/python3.10/site-packages (from dask>=2021.12->auto-sklearn) (21.3)\r\n",
      "Requirement already satisfied: partd>=1.2.0 in /opt/conda/lib/python3.10/site-packages (from dask>=2021.12->auto-sklearn) (1.4.0)\r\n",
      "Requirement already satisfied: toolz>=0.10.0 in /opt/conda/lib/python3.10/site-packages (from dask>=2021.12->auto-sklearn) (0.12.0)\r\n",
      "Requirement already satisfied: importlib-metadata>=4.13.0 in /opt/conda/lib/python3.10/site-packages (from dask>=2021.12->auto-sklearn) (6.7.0)\r\n",
      "Requirement already satisfied: jinja2>=2.10.3 in /opt/conda/lib/python3.10/site-packages (from distributed>=2012.12->auto-sklearn) (3.1.2)\r\n",
      "Requirement already satisfied: locket>=1.0.0 in /opt/conda/lib/python3.10/site-packages (from distributed>=2012.12->auto-sklearn) (1.0.0)\r\n",
      "Requirement already satisfied: msgpack>=1.0.0 in /opt/conda/lib/python3.10/site-packages (from distributed>=2012.12->auto-sklearn) (1.0.5)\r\n",
      "Requirement already satisfied: psutil>=5.7.2 in /opt/conda/lib/python3.10/site-packages (from distributed>=2012.12->auto-sklearn) (5.9.3)\r\n",
      "Requirement already satisfied: sortedcontainers>=2.0.5 in /opt/conda/lib/python3.10/site-packages (from distributed>=2012.12->auto-sklearn) (2.4.0)\r\n",
      "Requirement already satisfied: tblib>=1.6.0 in /opt/conda/lib/python3.10/site-packages (from distributed>=2012.12->auto-sklearn) (2.0.0)\r\n",
      "Requirement already satisfied: tornado>=6.0.4 in /opt/conda/lib/python3.10/site-packages (from distributed>=2012.12->auto-sklearn) (6.3.2)\r\n",
      "Requirement already satisfied: urllib3>=1.24.3 in /opt/conda/lib/python3.10/site-packages (from distributed>=2012.12->auto-sklearn) (1.26.15)\r\n",
      "Requirement already satisfied: zict>=2.2.0 in /opt/conda/lib/python3.10/site-packages (from distributed>=2012.12->auto-sklearn) (3.0.0)\r\n",
      "Requirement already satisfied: python-dateutil>=2.8.1 in /opt/conda/lib/python3.10/site-packages (from pandas>=1.0->auto-sklearn) (2.8.2)\r\n",
      "Requirement already satisfied: pytz>=2020.1 in /opt/conda/lib/python3.10/site-packages (from pandas>=1.0->auto-sklearn) (2023.3)\r\n",
      "Collecting emcee>=3.0.0 (from smac<1.3,>=1.2->auto-sklearn)\r\n",
      "  Downloading emcee-3.1.4-py2.py3-none-any.whl (46 kB)\r\n",
      "\u001b[2K     \u001b[90m━━━━━━━━━━━━━━━━━━━━━━━━━━━━━━━━━━━━━━━━\u001b[0m \u001b[32m46.2/46.2 kB\u001b[0m \u001b[31m3.1 MB/s\u001b[0m eta \u001b[36m0:00:00\u001b[0m\r\n",
      "\u001b[?25hRequirement already satisfied: zipp>=0.5 in /opt/conda/lib/python3.10/site-packages (from importlib-metadata>=4.13.0->dask>=2021.12->auto-sklearn) (3.15.0)\r\n",
      "Requirement already satisfied: MarkupSafe>=2.0 in /opt/conda/lib/python3.10/site-packages (from jinja2>=2.10.3->distributed>=2012.12->auto-sklearn) (2.1.3)\r\n",
      "Requirement already satisfied: six>=1.5 in /opt/conda/lib/python3.10/site-packages (from python-dateutil>=2.8.1->pandas>=1.0->auto-sklearn) (1.16.0)\r\n",
      "Building wheels for collected packages: auto-sklearn, pynisher, scikit-learn, smac, liac-arff\r\n",
      "  Building wheel for auto-sklearn (pyproject.toml) ... \u001b[?25l-\b \b\\\b \b|\b \b/\b \b-\b \b\\\b \b|\b \b/\b \b-\b \b\\\b \b|\b \b/\b \b-\b \b\\\b \b|\b \b/\b \b-\b \b\\\b \b|\b \bdone\r\n",
      "\u001b[?25h  Created wheel for auto-sklearn: filename=auto_sklearn-0.15.0-py3-none-any.whl size=6641946 sha256=82a78b3ec3ce0c521fa825374cf32effc2565ccd7e8b5fb8d60068ee015eaec7\r\n",
      "  Stored in directory: /root/.cache/pip/wheels/4d/0a/f9/8c1a06bcc36bc16b467b044b5bb03a90f92a5c5e6cd443414b\r\n",
      "  Building wheel for pynisher (setup.py) ... \u001b[?25l-\b \b\\\b \b|\b \bdone\r\n",
      "\u001b[?25h  Created wheel for pynisher: filename=pynisher-0.6.4-py3-none-any.whl size=7043 sha256=5468c0d7f3b9bd9fcc51d547092acbbdae394d87f053c7fc4463e0998ae25938\r\n",
      "  Stored in directory: /root/.cache/pip/wheels/90/7b/53/b21d6b41910f43c7f1557262e579598f83e75e44c659c1bcce\r\n",
      "  Building wheel for scikit-learn (pyproject.toml) ... \u001b[?25l-\b \b\\\b \b|\b \b/\b \b-\b \b\\\b \b|\b \b/\b \b-\b \b\\\b \b|\b \b/\b \b-\b \b\\\b \b|\b \b/\b \b-\b \b\\\b \b|\b \b/\b \b-\b \b\\\b \b|\b \b/\b \b-\b \b\\\b \b|\b \b/\b \b-\b \b\\\b \b|\b \b/\b \b-\b \b\\\b \b|\b \b/\b \b-\b \b\\\b \b|\b \b/\b \b-\b \b\\\b \b|\b \b/\b \b-\b \b\\\b \b|\b \b/\b \b-\b \b\\\b \b|\b \b/\b \b-\b \b\\\b \b|\b \b/\b \b-\b \b\\\b \b|\b \b/\b \b-\b \b\\\b \b|\b \b/\b \b-\b \b\\\b \b|\b \b/\b \b-\b \b\\\b \b|\b \b/\b \b-\b \b\\\b \b|\b \b/\b \b-\b \b\\\b \b|\b \b/\b \b-\b \b\\\b \b|\b \b/\b \b-\b \b\\\b \b|\b \b/\b \b-\b \b\\\b \b|\b \b/\b \b-\b \b\\\b \b|\b \b/\b \b-\b \b\\\b \b|\b \b/\b \b-\b \b\\\b \b|\b \b/\b \b-\b \b\\\b \b|\b \b/\b \b-\b \b\\\b \b|\b \b/\b \b-\b \b\\\b \b|\b \b/\b \b-\b \b\\\b \b|\b \b/\b \b-\b \b\\\b \b|\b \b/\b \b-\b \b\\\b \b|\b \b/\b \b-\b \b\\\b \b|\b \b/\b \b-\b \b\\\b \b|\b \b/\b \b-\b \b\\\b \b|\b \b/\b \b-\b \b\\\b \b|\b \b/\b \b-\b \b\\\b \b|\b \b/\b \b-\b \b\\\b \b|\b \b/\b \b-\b \b\\\b \b|\b \b/\b \b-\b \b\\\b \b|\b \b/\b \b-\b \b\\\b \b|\b \b/\b \b-\b \b\\\b \b|\b \bdone\r\n",
      "\u001b[?25h  Created wheel for scikit-learn: filename=scikit_learn-0.24.2-cp310-cp310-linux_x86_64.whl size=7684034 sha256=bc3a362cf6af2f2678ce9d00dcb5088226ac0e4330696ca336365caf4cd69b6a\r\n",
      "  Stored in directory: /root/.cache/pip/wheels/13/a4/68/4e78865652fa14db4a162b491e5138565f97646f9e1f2ab8cc\r\n",
      "  Building wheel for smac (setup.py) ... \u001b[?25l-\b \b\\\b \b|\b \bdone\r\n",
      "\u001b[?25h  Created wheel for smac: filename=smac-1.2-py3-none-any.whl size=215931 sha256=0090bfdcb257a05858bd7a8b201d77adb5c117a3739f90e68d8e5656545a7bfa\r\n",
      "  Stored in directory: /root/.cache/pip/wheels/66/2e/d9/2db14bdfcdc36bf12e202b44201df03f194367fcfd85ce2778\r\n",
      "  Building wheel for liac-arff (setup.py) ... \u001b[?25l-\b \b\\\b \bdone\r\n",
      "\u001b[?25h  Created wheel for liac-arff: filename=liac_arff-2.5.0-py3-none-any.whl size=11730 sha256=0b7c359fcdf7834b3c9aca0b327e7257299627d2abbf566861aeb99c97255722\r\n",
      "  Stored in directory: /root/.cache/pip/wheels/5d/2a/9c/3895d9617f8f49a0883ba686326d598e78a1c2f54fe3cae86d\r\n",
      "Successfully built auto-sklearn pynisher scikit-learn smac liac-arff\r\n",
      "Installing collected packages: pyrfr, pynisher, liac-arff, emcee, distro, scikit-learn, ConfigSpace, smac, auto-sklearn\r\n",
      "  Attempting uninstall: scikit-learn\r\n",
      "    Found existing installation: scikit-learn 1.2.2\r\n",
      "    Uninstalling scikit-learn-1.2.2:\r\n",
      "      Successfully uninstalled scikit-learn-1.2.2\r\n",
      "\u001b[31mERROR: pip's dependency resolver does not currently take into account all the packages that are installed. This behaviour is the source of the following dependency conflicts.\r\n",
      "gplearn 0.4.2 requires scikit-learn>=1.0.2, but you have scikit-learn 0.24.2 which is incompatible.\r\n",
      "imbalanced-learn 0.10.1 requires scikit-learn>=1.0.2, but you have scikit-learn 0.24.2 which is incompatible.\r\n",
      "mlxtend 0.22.0 requires scikit-learn>=1.0.2, but you have scikit-learn 0.24.2 which is incompatible.\r\n",
      "nilearn 0.10.1 requires scikit-learn>=1.0.0, but you have scikit-learn 0.24.2 which is incompatible.\r\n",
      "yellowbrick 1.5 requires scikit-learn>=1.0.0, but you have scikit-learn 0.24.2 which is incompatible.\u001b[0m\u001b[31m\r\n",
      "\u001b[0mSuccessfully installed ConfigSpace-0.4.21 auto-sklearn-0.15.0 distro-1.8.0 emcee-3.1.4 liac-arff-2.5.0 pynisher-0.6.4 pyrfr-0.8.3 scikit-learn-0.24.2 smac-1.2\r\n"
     ]
    }
   ],
   "source": [
    "!pip install auto-sklearn"
   ]
  },
  {
   "cell_type": "code",
   "execution_count": 4,
   "id": "f9546175",
   "metadata": {
    "execution": {
     "iopub.execute_input": "2023-07-15T14:33:04.467187Z",
     "iopub.status.busy": "2023-07-15T14:33:04.466713Z",
     "iopub.status.idle": "2023-07-15T14:33:04.477820Z",
     "shell.execute_reply": "2023-07-15T14:33:04.476431Z"
    },
    "papermill": {
     "duration": 0.052746,
     "end_time": "2023-07-15T14:33:04.480507",
     "exception": false,
     "start_time": "2023-07-15T14:33:04.427761",
     "status": "completed"
    },
    "tags": []
   },
   "outputs": [
    {
     "data": {
      "text/html": [
       "<script>Jupyter.notebook.kernel.restart()</script>"
      ],
      "text/plain": [
       "<IPython.core.display.HTML object>"
      ]
     },
     "execution_count": 4,
     "metadata": {},
     "output_type": "execute_result"
    }
   ],
   "source": [
    "from IPython.core.display import HTML\n",
    "HTML(\"<script>Jupyter.notebook.kernel.restart()</script>\")"
   ]
  },
  {
   "cell_type": "code",
   "execution_count": 5,
   "id": "62524a38",
   "metadata": {
    "execution": {
     "iopub.execute_input": "2023-07-15T14:33:04.555731Z",
     "iopub.status.busy": "2023-07-15T14:33:04.555308Z",
     "iopub.status.idle": "2023-07-15T14:33:08.356293Z",
     "shell.execute_reply": "2023-07-15T14:33:08.353559Z"
    },
    "papermill": {
     "duration": 3.842129,
     "end_time": "2023-07-15T14:33:08.358983",
     "exception": true,
     "start_time": "2023-07-15T14:33:04.516854",
     "status": "failed"
    },
    "tags": []
   },
   "outputs": [
    {
     "name": "stderr",
     "output_type": "stream",
     "text": [
      "/opt/conda/lib/python3.10/site-packages/scipy/__init__.py:146: UserWarning: A NumPy version >=1.16.5 and <1.23.0 is required for this version of SciPy (detected version 1.23.5\n",
      "  warnings.warn(f\"A NumPy version >={np_minversion} and <{np_maxversion}\"\n"
     ]
    },
    {
     "ename": "FileNotFoundError",
     "evalue": "[Errno 2] No such file or directory: '/opt/conda/lib/python3.10/site-packages/numpy-1.25.0.dist-info/METADATA'",
     "output_type": "error",
     "traceback": [
      "\u001b[0;31m---------------------------------------------------------------------------\u001b[0m",
      "\u001b[0;31mAttributeError\u001b[0m                            Traceback (most recent call last)",
      "File \u001b[0;32m/opt/conda/lib/python3.10/site-packages/pkg_resources/__init__.py:3031\u001b[0m, in \u001b[0;36mDistInfoDistribution._dep_map\u001b[0;34m(self)\u001b[0m\n\u001b[1;32m   3030\u001b[0m \u001b[38;5;28;01mtry\u001b[39;00m:\n\u001b[0;32m-> 3031\u001b[0m     \u001b[38;5;28;01mreturn\u001b[39;00m \u001b[38;5;28;43mself\u001b[39;49m\u001b[38;5;241;43m.\u001b[39;49m\u001b[43m__dep_map\u001b[49m\n\u001b[1;32m   3032\u001b[0m \u001b[38;5;28;01mexcept\u001b[39;00m \u001b[38;5;167;01mAttributeError\u001b[39;00m:\n",
      "File \u001b[0;32m/opt/conda/lib/python3.10/site-packages/pkg_resources/__init__.py:2828\u001b[0m, in \u001b[0;36mDistribution.__getattr__\u001b[0;34m(self, attr)\u001b[0m\n\u001b[1;32m   2827\u001b[0m \u001b[38;5;28;01mif\u001b[39;00m attr\u001b[38;5;241m.\u001b[39mstartswith(\u001b[38;5;124m'\u001b[39m\u001b[38;5;124m_\u001b[39m\u001b[38;5;124m'\u001b[39m):\n\u001b[0;32m-> 2828\u001b[0m     \u001b[38;5;28;01mraise\u001b[39;00m \u001b[38;5;167;01mAttributeError\u001b[39;00m(attr)\n\u001b[1;32m   2829\u001b[0m \u001b[38;5;28;01mreturn\u001b[39;00m \u001b[38;5;28mgetattr\u001b[39m(\u001b[38;5;28mself\u001b[39m\u001b[38;5;241m.\u001b[39m_provider, attr)\n",
      "\u001b[0;31mAttributeError\u001b[0m: _DistInfoDistribution__dep_map",
      "\nDuring handling of the above exception, another exception occurred:\n",
      "\u001b[0;31mAttributeError\u001b[0m                            Traceback (most recent call last)",
      "File \u001b[0;32m/opt/conda/lib/python3.10/site-packages/pkg_resources/__init__.py:3022\u001b[0m, in \u001b[0;36mDistInfoDistribution._parsed_pkg_info\u001b[0;34m(self)\u001b[0m\n\u001b[1;32m   3021\u001b[0m \u001b[38;5;28;01mtry\u001b[39;00m:\n\u001b[0;32m-> 3022\u001b[0m     \u001b[38;5;28;01mreturn\u001b[39;00m \u001b[38;5;28;43mself\u001b[39;49m\u001b[38;5;241;43m.\u001b[39;49m\u001b[43m_pkg_info\u001b[49m\n\u001b[1;32m   3023\u001b[0m \u001b[38;5;28;01mexcept\u001b[39;00m \u001b[38;5;167;01mAttributeError\u001b[39;00m:\n",
      "File \u001b[0;32m/opt/conda/lib/python3.10/site-packages/pkg_resources/__init__.py:2828\u001b[0m, in \u001b[0;36mDistribution.__getattr__\u001b[0;34m(self, attr)\u001b[0m\n\u001b[1;32m   2827\u001b[0m \u001b[38;5;28;01mif\u001b[39;00m attr\u001b[38;5;241m.\u001b[39mstartswith(\u001b[38;5;124m'\u001b[39m\u001b[38;5;124m_\u001b[39m\u001b[38;5;124m'\u001b[39m):\n\u001b[0;32m-> 2828\u001b[0m     \u001b[38;5;28;01mraise\u001b[39;00m \u001b[38;5;167;01mAttributeError\u001b[39;00m(attr)\n\u001b[1;32m   2829\u001b[0m \u001b[38;5;28;01mreturn\u001b[39;00m \u001b[38;5;28mgetattr\u001b[39m(\u001b[38;5;28mself\u001b[39m\u001b[38;5;241m.\u001b[39m_provider, attr)\n",
      "\u001b[0;31mAttributeError\u001b[0m: _pkg_info",
      "\nDuring handling of the above exception, another exception occurred:\n",
      "\u001b[0;31mFileNotFoundError\u001b[0m                         Traceback (most recent call last)",
      "Cell \u001b[0;32mIn[5], line 6\u001b[0m\n\u001b[1;32m      4\u001b[0m \u001b[38;5;28;01mimport\u001b[39;00m \u001b[38;5;21;01msklearn\u001b[39;00m\u001b[38;5;21;01m.\u001b[39;00m\u001b[38;5;21;01mmetrics\u001b[39;00m\n\u001b[1;32m      5\u001b[0m \u001b[38;5;28;01mfrom\u001b[39;00m \u001b[38;5;21;01mpprint\u001b[39;00m \u001b[38;5;28;01mimport\u001b[39;00m pprint\n\u001b[0;32m----> 6\u001b[0m \u001b[38;5;28;01mimport\u001b[39;00m \u001b[38;5;21;01mautosklearn\u001b[39;00m\u001b[38;5;21;01m.\u001b[39;00m\u001b[38;5;21;01mregression\u001b[39;00m\n\u001b[1;32m      7\u001b[0m \u001b[38;5;28;01mimport\u001b[39;00m \u001b[38;5;21;01mmatplotlib\u001b[39;00m\u001b[38;5;21;01m.\u001b[39;00m\u001b[38;5;21;01mpyplot\u001b[39;00m \u001b[38;5;28;01mas\u001b[39;00m \u001b[38;5;21;01mplt\u001b[39;00m\n\u001b[1;32m      8\u001b[0m \u001b[38;5;28;01mfrom\u001b[39;00m \u001b[38;5;21;01msklearn\u001b[39;00m\u001b[38;5;21;01m.\u001b[39;00m\u001b[38;5;21;01mpipeline\u001b[39;00m \u001b[38;5;28;01mimport\u001b[39;00m Pipeline\n",
      "File \u001b[0;32m/opt/conda/lib/python3.10/site-packages/autosklearn/__init__.py:13\u001b[0m\n\u001b[1;32m     10\u001b[0m requirements \u001b[38;5;241m=\u001b[39m pkg_resources\u001b[38;5;241m.\u001b[39mresource_string(\u001b[38;5;124m\"\u001b[39m\u001b[38;5;124mautosklearn\u001b[39m\u001b[38;5;124m\"\u001b[39m, \u001b[38;5;124m\"\u001b[39m\u001b[38;5;124mrequirements.txt\u001b[39m\u001b[38;5;124m\"\u001b[39m)\n\u001b[1;32m     11\u001b[0m requirements \u001b[38;5;241m=\u001b[39m requirements\u001b[38;5;241m.\u001b[39mdecode(\u001b[38;5;124m\"\u001b[39m\u001b[38;5;124mutf-8\u001b[39m\u001b[38;5;124m\"\u001b[39m)\n\u001b[0;32m---> 13\u001b[0m \u001b[43mdependencies\u001b[49m\u001b[38;5;241;43m.\u001b[39;49m\u001b[43mverify_packages\u001b[49m\u001b[43m(\u001b[49m\u001b[43mrequirements\u001b[49m\u001b[43m)\u001b[49m\n\u001b[1;32m     15\u001b[0m \u001b[38;5;28;01mif\u001b[39;00m os\u001b[38;5;241m.\u001b[39mname \u001b[38;5;241m!=\u001b[39m \u001b[38;5;124m\"\u001b[39m\u001b[38;5;124mposix\u001b[39m\u001b[38;5;124m\"\u001b[39m:\n\u001b[1;32m     16\u001b[0m     \u001b[38;5;28;01mraise\u001b[39;00m \u001b[38;5;167;01mValueError\u001b[39;00m(\n\u001b[1;32m     17\u001b[0m         \u001b[38;5;124m\"\u001b[39m\u001b[38;5;124mDetected unsupported operating system: \u001b[39m\u001b[38;5;132;01m%s\u001b[39;00m\u001b[38;5;124m. Please check \u001b[39m\u001b[38;5;124m\"\u001b[39m\n\u001b[1;32m     18\u001b[0m         \u001b[38;5;124m\"\u001b[39m\u001b[38;5;124mthe compability information of auto-sklearn: https://automl.github.io\u001b[39m\u001b[38;5;124m\"\u001b[39m\n\u001b[1;32m     19\u001b[0m         \u001b[38;5;124m\"\u001b[39m\u001b[38;5;124m/auto-sklearn/stable/installation.html#windows-osx-compability\u001b[39m\u001b[38;5;124m\"\u001b[39m \u001b[38;5;241m%\u001b[39m sys\u001b[38;5;241m.\u001b[39mplatform\n\u001b[1;32m     20\u001b[0m     )\n",
      "File \u001b[0;32m/opt/conda/lib/python3.10/site-packages/autosklearn/util/dependencies.py:30\u001b[0m, in \u001b[0;36mverify_packages\u001b[0;34m(packages)\u001b[0m\n\u001b[1;32m     28\u001b[0m     operation \u001b[38;5;241m=\u001b[39m match\u001b[38;5;241m.\u001b[39mgroup(\u001b[38;5;124m\"\u001b[39m\u001b[38;5;124moperation1\u001b[39m\u001b[38;5;124m\"\u001b[39m)\n\u001b[1;32m     29\u001b[0m     version \u001b[38;5;241m=\u001b[39m match\u001b[38;5;241m.\u001b[39mgroup(\u001b[38;5;124m\"\u001b[39m\u001b[38;5;124mversion1\u001b[39m\u001b[38;5;124m\"\u001b[39m)\n\u001b[0;32m---> 30\u001b[0m     \u001b[43m_verify_package\u001b[49m\u001b[43m(\u001b[49m\u001b[43mname\u001b[49m\u001b[43m,\u001b[49m\u001b[43m \u001b[49m\u001b[43moperation\u001b[49m\u001b[43m,\u001b[49m\u001b[43m \u001b[49m\u001b[43mversion\u001b[49m\u001b[43m)\u001b[49m\n\u001b[1;32m     31\u001b[0m \u001b[38;5;28;01melse\u001b[39;00m:\n\u001b[1;32m     32\u001b[0m     \u001b[38;5;28;01mraise\u001b[39;00m \u001b[38;5;167;01mValueError\u001b[39;00m(\u001b[38;5;124m\"\u001b[39m\u001b[38;5;124mUnable to read requirement: \u001b[39m\u001b[38;5;132;01m%s\u001b[39;00m\u001b[38;5;124m\"\u001b[39m \u001b[38;5;241m%\u001b[39m package)\n",
      "File \u001b[0;32m/opt/conda/lib/python3.10/site-packages/autosklearn/util/dependencies.py:39\u001b[0m, in \u001b[0;36m_verify_package\u001b[0;34m(name, operation, version)\u001b[0m\n\u001b[1;32m     36\u001b[0m \u001b[38;5;129m@no_type_check\u001b[39m\n\u001b[1;32m     37\u001b[0m \u001b[38;5;28;01mdef\u001b[39;00m \u001b[38;5;21m_verify_package\u001b[39m(name: \u001b[38;5;28mstr\u001b[39m, operation: Optional[\u001b[38;5;28mstr\u001b[39m], version: \u001b[38;5;28mstr\u001b[39m) \u001b[38;5;241m-\u001b[39m\u001b[38;5;241m>\u001b[39m \u001b[38;5;28;01mNone\u001b[39;00m:\n\u001b[1;32m     38\u001b[0m     \u001b[38;5;28;01mtry\u001b[39;00m:\n\u001b[0;32m---> 39\u001b[0m         module_dist \u001b[38;5;241m=\u001b[39m \u001b[43mpkg_resources\u001b[49m\u001b[38;5;241;43m.\u001b[39;49m\u001b[43mget_distribution\u001b[49m\u001b[43m(\u001b[49m\u001b[43mname\u001b[49m\u001b[43m)\u001b[49m\n\u001b[1;32m     40\u001b[0m         installed_version \u001b[38;5;241m=\u001b[39m LooseVersion(module_dist\u001b[38;5;241m.\u001b[39mversion)\n\u001b[1;32m     41\u001b[0m     \u001b[38;5;28;01mexcept\u001b[39;00m pkg_resources\u001b[38;5;241m.\u001b[39mDistributionNotFound:\n",
      "File \u001b[0;32m/opt/conda/lib/python3.10/site-packages/pkg_resources/__init__.py:471\u001b[0m, in \u001b[0;36mget_distribution\u001b[0;34m(dist)\u001b[0m\n\u001b[1;32m    469\u001b[0m     dist \u001b[38;5;241m=\u001b[39m Requirement\u001b[38;5;241m.\u001b[39mparse(dist)\n\u001b[1;32m    470\u001b[0m \u001b[38;5;28;01mif\u001b[39;00m \u001b[38;5;28misinstance\u001b[39m(dist, Requirement):\n\u001b[0;32m--> 471\u001b[0m     dist \u001b[38;5;241m=\u001b[39m \u001b[43mget_provider\u001b[49m\u001b[43m(\u001b[49m\u001b[43mdist\u001b[49m\u001b[43m)\u001b[49m\n\u001b[1;32m    472\u001b[0m \u001b[38;5;28;01mif\u001b[39;00m \u001b[38;5;129;01mnot\u001b[39;00m \u001b[38;5;28misinstance\u001b[39m(dist, Distribution):\n\u001b[1;32m    473\u001b[0m     \u001b[38;5;28;01mraise\u001b[39;00m \u001b[38;5;167;01mTypeError\u001b[39;00m(\u001b[38;5;124m\"\u001b[39m\u001b[38;5;124mExpected string, Requirement, or Distribution\u001b[39m\u001b[38;5;124m\"\u001b[39m, dist)\n",
      "File \u001b[0;32m/opt/conda/lib/python3.10/site-packages/pkg_resources/__init__.py:347\u001b[0m, in \u001b[0;36mget_provider\u001b[0;34m(moduleOrReq)\u001b[0m\n\u001b[1;32m    345\u001b[0m \u001b[38;5;250m\u001b[39m\u001b[38;5;124;03m\"\"\"Return an IResourceProvider for the named module or requirement\"\"\"\u001b[39;00m\n\u001b[1;32m    346\u001b[0m \u001b[38;5;28;01mif\u001b[39;00m \u001b[38;5;28misinstance\u001b[39m(moduleOrReq, Requirement):\n\u001b[0;32m--> 347\u001b[0m     \u001b[38;5;28;01mreturn\u001b[39;00m working_set\u001b[38;5;241m.\u001b[39mfind(moduleOrReq) \u001b[38;5;129;01mor\u001b[39;00m \u001b[43mrequire\u001b[49m\u001b[43m(\u001b[49m\u001b[38;5;28;43mstr\u001b[39;49m\u001b[43m(\u001b[49m\u001b[43mmoduleOrReq\u001b[49m\u001b[43m)\u001b[49m\u001b[43m)\u001b[49m[\u001b[38;5;241m0\u001b[39m]\n\u001b[1;32m    348\u001b[0m \u001b[38;5;28;01mtry\u001b[39;00m:\n\u001b[1;32m    349\u001b[0m     module \u001b[38;5;241m=\u001b[39m sys\u001b[38;5;241m.\u001b[39mmodules[moduleOrReq]\n",
      "File \u001b[0;32m/opt/conda/lib/python3.10/site-packages/pkg_resources/__init__.py:891\u001b[0m, in \u001b[0;36mWorkingSet.require\u001b[0;34m(self, *requirements)\u001b[0m\n\u001b[1;32m    882\u001b[0m \u001b[38;5;28;01mdef\u001b[39;00m \u001b[38;5;21mrequire\u001b[39m(\u001b[38;5;28mself\u001b[39m, \u001b[38;5;241m*\u001b[39mrequirements):\n\u001b[1;32m    883\u001b[0m \u001b[38;5;250m    \u001b[39m\u001b[38;5;124;03m\"\"\"Ensure that distributions matching `requirements` are activated\u001b[39;00m\n\u001b[1;32m    884\u001b[0m \n\u001b[1;32m    885\u001b[0m \u001b[38;5;124;03m    `requirements` must be a string or a (possibly-nested) sequence\u001b[39;00m\n\u001b[0;32m   (...)\u001b[0m\n\u001b[1;32m    889\u001b[0m \u001b[38;5;124;03m    included, even if they were already activated in this working set.\u001b[39;00m\n\u001b[1;32m    890\u001b[0m \u001b[38;5;124;03m    \"\"\"\u001b[39;00m\n\u001b[0;32m--> 891\u001b[0m     needed \u001b[38;5;241m=\u001b[39m \u001b[38;5;28;43mself\u001b[39;49m\u001b[38;5;241;43m.\u001b[39;49m\u001b[43mresolve\u001b[49m\u001b[43m(\u001b[49m\u001b[43mparse_requirements\u001b[49m\u001b[43m(\u001b[49m\u001b[43mrequirements\u001b[49m\u001b[43m)\u001b[49m\u001b[43m)\u001b[49m\n\u001b[1;32m    893\u001b[0m     \u001b[38;5;28;01mfor\u001b[39;00m dist \u001b[38;5;129;01min\u001b[39;00m needed:\n\u001b[1;32m    894\u001b[0m         \u001b[38;5;28mself\u001b[39m\u001b[38;5;241m.\u001b[39madd(dist)\n",
      "File \u001b[0;32m/opt/conda/lib/python3.10/site-packages/pkg_resources/__init__.py:785\u001b[0m, in \u001b[0;36mWorkingSet.resolve\u001b[0;34m(self, requirements, env, installer, replace_conflicting, extras)\u001b[0m\n\u001b[1;32m    782\u001b[0m     \u001b[38;5;28;01mraise\u001b[39;00m VersionConflict(dist, req)\u001b[38;5;241m.\u001b[39mwith_context(dependent_req)\n\u001b[1;32m    784\u001b[0m \u001b[38;5;66;03m# push the new requirements onto the stack\u001b[39;00m\n\u001b[0;32m--> 785\u001b[0m new_requirements \u001b[38;5;241m=\u001b[39m \u001b[43mdist\u001b[49m\u001b[38;5;241;43m.\u001b[39;49m\u001b[43mrequires\u001b[49m\u001b[43m(\u001b[49m\u001b[43mreq\u001b[49m\u001b[38;5;241;43m.\u001b[39;49m\u001b[43mextras\u001b[49m\u001b[43m)\u001b[49m[::\u001b[38;5;241m-\u001b[39m\u001b[38;5;241m1\u001b[39m]\n\u001b[1;32m    786\u001b[0m requirements\u001b[38;5;241m.\u001b[39mextend(new_requirements)\n\u001b[1;32m    788\u001b[0m \u001b[38;5;66;03m# Register the new requirements needed by req\u001b[39;00m\n",
      "File \u001b[0;32m/opt/conda/lib/python3.10/site-packages/pkg_resources/__init__.py:2749\u001b[0m, in \u001b[0;36mDistribution.requires\u001b[0;34m(self, extras)\u001b[0m\n\u001b[1;32m   2747\u001b[0m \u001b[38;5;28;01mdef\u001b[39;00m \u001b[38;5;21mrequires\u001b[39m(\u001b[38;5;28mself\u001b[39m, extras\u001b[38;5;241m=\u001b[39m()):\n\u001b[1;32m   2748\u001b[0m \u001b[38;5;250m    \u001b[39m\u001b[38;5;124;03m\"\"\"List of Requirements needed for this distro if `extras` are used\"\"\"\u001b[39;00m\n\u001b[0;32m-> 2749\u001b[0m     dm \u001b[38;5;241m=\u001b[39m \u001b[38;5;28;43mself\u001b[39;49m\u001b[38;5;241;43m.\u001b[39;49m\u001b[43m_dep_map\u001b[49m\n\u001b[1;32m   2750\u001b[0m     deps \u001b[38;5;241m=\u001b[39m []\n\u001b[1;32m   2751\u001b[0m     deps\u001b[38;5;241m.\u001b[39mextend(dm\u001b[38;5;241m.\u001b[39mget(\u001b[38;5;28;01mNone\u001b[39;00m, ()))\n",
      "File \u001b[0;32m/opt/conda/lib/python3.10/site-packages/pkg_resources/__init__.py:3033\u001b[0m, in \u001b[0;36mDistInfoDistribution._dep_map\u001b[0;34m(self)\u001b[0m\n\u001b[1;32m   3031\u001b[0m     \u001b[38;5;28;01mreturn\u001b[39;00m \u001b[38;5;28mself\u001b[39m\u001b[38;5;241m.\u001b[39m__dep_map\n\u001b[1;32m   3032\u001b[0m \u001b[38;5;28;01mexcept\u001b[39;00m \u001b[38;5;167;01mAttributeError\u001b[39;00m:\n\u001b[0;32m-> 3033\u001b[0m     \u001b[38;5;28mself\u001b[39m\u001b[38;5;241m.\u001b[39m__dep_map \u001b[38;5;241m=\u001b[39m \u001b[38;5;28;43mself\u001b[39;49m\u001b[38;5;241;43m.\u001b[39;49m\u001b[43m_compute_dependencies\u001b[49m\u001b[43m(\u001b[49m\u001b[43m)\u001b[49m\n\u001b[1;32m   3034\u001b[0m     \u001b[38;5;28;01mreturn\u001b[39;00m \u001b[38;5;28mself\u001b[39m\u001b[38;5;241m.\u001b[39m__dep_map\n",
      "File \u001b[0;32m/opt/conda/lib/python3.10/site-packages/pkg_resources/__init__.py:3042\u001b[0m, in \u001b[0;36mDistInfoDistribution._compute_dependencies\u001b[0;34m(self)\u001b[0m\n\u001b[1;32m   3040\u001b[0m reqs \u001b[38;5;241m=\u001b[39m []\n\u001b[1;32m   3041\u001b[0m \u001b[38;5;66;03m# Including any condition expressions\u001b[39;00m\n\u001b[0;32m-> 3042\u001b[0m \u001b[38;5;28;01mfor\u001b[39;00m req \u001b[38;5;129;01min\u001b[39;00m \u001b[38;5;28;43mself\u001b[39;49m\u001b[38;5;241;43m.\u001b[39;49m\u001b[43m_parsed_pkg_info\u001b[49m\u001b[38;5;241m.\u001b[39mget_all(\u001b[38;5;124m'\u001b[39m\u001b[38;5;124mRequires-Dist\u001b[39m\u001b[38;5;124m'\u001b[39m) \u001b[38;5;129;01mor\u001b[39;00m []:\n\u001b[1;32m   3043\u001b[0m     reqs\u001b[38;5;241m.\u001b[39mextend(parse_requirements(req))\n\u001b[1;32m   3045\u001b[0m \u001b[38;5;28;01mdef\u001b[39;00m \u001b[38;5;21mreqs_for_extra\u001b[39m(extra):\n",
      "File \u001b[0;32m/opt/conda/lib/python3.10/site-packages/pkg_resources/__init__.py:3024\u001b[0m, in \u001b[0;36mDistInfoDistribution._parsed_pkg_info\u001b[0;34m(self)\u001b[0m\n\u001b[1;32m   3022\u001b[0m     \u001b[38;5;28;01mreturn\u001b[39;00m \u001b[38;5;28mself\u001b[39m\u001b[38;5;241m.\u001b[39m_pkg_info\n\u001b[1;32m   3023\u001b[0m \u001b[38;5;28;01mexcept\u001b[39;00m \u001b[38;5;167;01mAttributeError\u001b[39;00m:\n\u001b[0;32m-> 3024\u001b[0m     metadata \u001b[38;5;241m=\u001b[39m \u001b[38;5;28;43mself\u001b[39;49m\u001b[38;5;241;43m.\u001b[39;49m\u001b[43mget_metadata\u001b[49m\u001b[43m(\u001b[49m\u001b[38;5;28;43mself\u001b[39;49m\u001b[38;5;241;43m.\u001b[39;49m\u001b[43mPKG_INFO\u001b[49m\u001b[43m)\u001b[49m\n\u001b[1;32m   3025\u001b[0m     \u001b[38;5;28mself\u001b[39m\u001b[38;5;241m.\u001b[39m_pkg_info \u001b[38;5;241m=\u001b[39m email\u001b[38;5;241m.\u001b[39mparser\u001b[38;5;241m.\u001b[39mParser()\u001b[38;5;241m.\u001b[39mparsestr(metadata)\n\u001b[1;32m   3026\u001b[0m     \u001b[38;5;28;01mreturn\u001b[39;00m \u001b[38;5;28mself\u001b[39m\u001b[38;5;241m.\u001b[39m_pkg_info\n",
      "File \u001b[0;32m/opt/conda/lib/python3.10/site-packages/pkg_resources/__init__.py:1412\u001b[0m, in \u001b[0;36mNullProvider.get_metadata\u001b[0;34m(self, name)\u001b[0m\n\u001b[1;32m   1410\u001b[0m     \u001b[38;5;28;01mreturn\u001b[39;00m \u001b[38;5;124m\"\u001b[39m\u001b[38;5;124m\"\u001b[39m\n\u001b[1;32m   1411\u001b[0m path \u001b[38;5;241m=\u001b[39m \u001b[38;5;28mself\u001b[39m\u001b[38;5;241m.\u001b[39m_get_metadata_path(name)\n\u001b[0;32m-> 1412\u001b[0m value \u001b[38;5;241m=\u001b[39m \u001b[38;5;28;43mself\u001b[39;49m\u001b[38;5;241;43m.\u001b[39;49m\u001b[43m_get\u001b[49m\u001b[43m(\u001b[49m\u001b[43mpath\u001b[49m\u001b[43m)\u001b[49m\n\u001b[1;32m   1413\u001b[0m \u001b[38;5;28;01mtry\u001b[39;00m:\n\u001b[1;32m   1414\u001b[0m     \u001b[38;5;28;01mreturn\u001b[39;00m value\u001b[38;5;241m.\u001b[39mdecode(\u001b[38;5;124m'\u001b[39m\u001b[38;5;124mutf-8\u001b[39m\u001b[38;5;124m'\u001b[39m)\n",
      "File \u001b[0;32m/opt/conda/lib/python3.10/site-packages/pkg_resources/__init__.py:1616\u001b[0m, in \u001b[0;36mDefaultProvider._get\u001b[0;34m(self, path)\u001b[0m\n\u001b[1;32m   1615\u001b[0m \u001b[38;5;28;01mdef\u001b[39;00m \u001b[38;5;21m_get\u001b[39m(\u001b[38;5;28mself\u001b[39m, path):\n\u001b[0;32m-> 1616\u001b[0m     \u001b[38;5;28;01mwith\u001b[39;00m \u001b[38;5;28;43mopen\u001b[39;49m\u001b[43m(\u001b[49m\u001b[43mpath\u001b[49m\u001b[43m,\u001b[49m\u001b[43m \u001b[49m\u001b[38;5;124;43m'\u001b[39;49m\u001b[38;5;124;43mrb\u001b[39;49m\u001b[38;5;124;43m'\u001b[39;49m\u001b[43m)\u001b[49m \u001b[38;5;28;01mas\u001b[39;00m stream:\n\u001b[1;32m   1617\u001b[0m         \u001b[38;5;28;01mreturn\u001b[39;00m stream\u001b[38;5;241m.\u001b[39mread()\n",
      "\u001b[0;31mFileNotFoundError\u001b[0m: [Errno 2] No such file or directory: '/opt/conda/lib/python3.10/site-packages/numpy-1.25.0.dist-info/METADATA'"
     ]
    }
   ],
   "source": [
    "import time\n",
    "import numpy as np\n",
    "import pandas as pd\n",
    "import sklearn.metrics\n",
    "from pprint import pprint\n",
    "import autosklearn.regression\n",
    "import matplotlib.pyplot as plt\n",
    "from sklearn.pipeline import Pipeline\n",
    "from sklearn.model_selection import KFold\n",
    "from sklearn.metrics import mean_squared_error\n",
    "from sklearn.ensemble import RandomForestRegressor\n",
    "from sklearn.model_selection import cross_val_score\n",
    "from sklearn.model_selection import train_test_split\n",
    "from sklearn.feature_selection import SelectKBest, mutual_info_regression"
   ]
  },
  {
   "cell_type": "code",
   "execution_count": null,
   "id": "d3605af2",
   "metadata": {
    "execution": {
     "iopub.execute_input": "2023-07-15T13:49:34.715240Z",
     "iopub.status.busy": "2023-07-15T13:49:34.713571Z",
     "iopub.status.idle": "2023-07-15T13:49:34.852118Z",
     "shell.execute_reply": "2023-07-15T13:49:34.849438Z",
     "shell.execute_reply.started": "2023-07-15T13:49:34.715177Z"
    },
    "papermill": {
     "duration": null,
     "end_time": null,
     "exception": null,
     "start_time": null,
     "status": "pending"
    },
    "tags": []
   },
   "outputs": [],
   "source": [
    "base_path = '/kaggle/input/self-reported-qol/20230625-processed-'\n",
    "\n",
    "df_physical      = pd.read_csv(base_path + 'physical-qol.csv')\n",
    "df_psychological = pd.read_csv(base_path + 'psychological-qol.csv')\n",
    "\n",
    "df_physical.drop('id', axis=1, inplace=True)         # id\n",
    "df_physical.drop('day', axis=1, inplace=True)        # day\n",
    "df_psychological.drop('id', axis=1, inplace=True)    # id\n",
    "df_psychological.drop('day', axis=1, inplace=True)   # day\n",
    "\n",
    "phy_all_tmp = df_physical.copy()\n",
    "phy_init_set_tmp = phy_all_tmp.query(\"group in ('Initial Set')\").copy()\n",
    "phy_ufpi_ufc_tmp = phy_all_tmp.query(\"group in ('UFPI', 'UFC')\").copy()\n",
    "\n",
    "psy_all_tmp = df_psychological.copy()\n",
    "psy_init_set_tmp = psy_all_tmp.query(\"group in ('Initial Set')\").copy()\n",
    "psy_ufpi_ufc_tmp = psy_all_tmp.query(\"group in ('UFPI', 'UFC')\").copy()\n",
    "\n",
    "phy_all_tmp.drop(\"group\", axis=1, inplace=True)\n",
    "phy_init_set_tmp.drop(\"group\", axis=1, inplace=True)\n",
    "phy_ufpi_ufc_tmp.drop(\"group\", axis=1, inplace=True)\n",
    "\n",
    "psy_all_tmp.drop(\"group\", axis=1, inplace=True)\n",
    "psy_init_set_tmp.drop(\"group\", axis=1, inplace=True)\n",
    "psy_ufpi_ufc_tmp.drop(\"group\", axis=1, inplace=True)\n",
    "\n",
    "# Separating predictors from the values to be predicted.\n",
    "phy_all           = phy_all_tmp.drop(\"phy_ref_score\", axis=1)\n",
    "phy_all_pred      = phy_all_tmp[\"phy_ref_score\"].copy()\n",
    "phy_init_set      = phy_init_set_tmp.drop(\"phy_ref_score\", axis=1)\n",
    "phy_init_set_pred = phy_init_set_tmp[\"phy_ref_score\"].copy()\n",
    "phy_ufpi_ufc      = phy_ufpi_ufc_tmp.drop(\"phy_ref_score\", axis=1)\n",
    "phy_ufpi_ufc_pred = phy_ufpi_ufc_tmp[\"phy_ref_score\"].copy()\n",
    "\n",
    "psy_all           = psy_all_tmp.drop(\"psy_ref_score\", axis=1)\n",
    "psy_all_pred      = psy_all_tmp[\"psy_ref_score\"].copy()\n",
    "psy_init_set      = psy_init_set_tmp.drop(\"psy_ref_score\", axis=1)\n",
    "psy_init_set_pred = psy_init_set_tmp[\"psy_ref_score\"].copy()\n",
    "psy_ufpi_ufc      = psy_ufpi_ufc_tmp.drop(\"psy_ref_score\", axis=1)\n",
    "psy_ufpi_ufc_pred = psy_ufpi_ufc_tmp[\"psy_ref_score\"].copy()"
   ]
  },
  {
   "cell_type": "code",
   "execution_count": null,
   "id": "96026c55",
   "metadata": {
    "execution": {
     "iopub.execute_input": "2023-07-15T13:49:35.631638Z",
     "iopub.status.busy": "2023-07-15T13:49:35.631181Z",
     "iopub.status.idle": "2023-07-15T13:49:35.639476Z",
     "shell.execute_reply": "2023-07-15T13:49:35.638020Z",
     "shell.execute_reply.started": "2023-07-15T13:49:35.631602Z"
    },
    "papermill": {
     "duration": null,
     "end_time": null,
     "exception": null,
     "start_time": null,
     "status": "pending"
    },
    "tags": []
   },
   "outputs": [],
   "source": [
    "def getDataset(domain_group):\n",
    "    return {\n",
    "        'phy_all': (phy_all, phy_all_pred),\n",
    "        'psy_all': (psy_all, psy_all_pred),\n",
    "        \n",
    "        'phy_init_set': (phy_init_set, phy_init_set_pred),\n",
    "        'psy_init_set': (psy_init_set, psy_init_set_pred),\n",
    "        \n",
    "        'phy_ufpi_ufc': (phy_ufpi_ufc, phy_ufpi_ufc_pred),\n",
    "        'psy_ufpi_ufc': (psy_ufpi_ufc, psy_ufpi_ufc_pred),\n",
    "    }[domain_group]"
   ]
  },
  {
   "cell_type": "code",
   "execution_count": null,
   "id": "caa9cca1",
   "metadata": {
    "execution": {
     "iopub.execute_input": "2023-07-15T13:49:39.739319Z",
     "iopub.status.busy": "2023-07-15T13:49:39.738886Z",
     "iopub.status.idle": "2023-07-15T13:49:39.751380Z",
     "shell.execute_reply": "2023-07-15T13:49:39.749712Z",
     "shell.execute_reply.started": "2023-07-15T13:49:39.739286Z"
    },
    "papermill": {
     "duration": null,
     "end_time": null,
     "exception": null,
     "start_time": null,
     "status": "pending"
    },
    "tags": []
   },
   "outputs": [],
   "source": [
    "X, y = getDataset('phy_all')\n",
    "X_train, X_test, y_train, y_test = sklearn.model_selection.train_test_split(X, y, random_state=42)"
   ]
  },
  {
   "cell_type": "code",
   "execution_count": null,
   "id": "6a67f6c3",
   "metadata": {
    "execution": {
     "iopub.execute_input": "2023-07-15T13:49:41.559010Z",
     "iopub.status.busy": "2023-07-15T13:49:41.558532Z",
     "iopub.status.idle": "2023-07-15T13:51:38.624833Z",
     "shell.execute_reply": "2023-07-15T13:51:38.623449Z",
     "shell.execute_reply.started": "2023-07-15T13:49:41.558977Z"
    },
    "papermill": {
     "duration": null,
     "end_time": null,
     "exception": null,
     "start_time": null,
     "status": "pending"
    },
    "tags": []
   },
   "outputs": [],
   "source": [
    "automl = autosklearn.regression.AutoSklearnRegressor(\n",
    "    time_left_for_this_task=300,\n",
    "    per_run_time_limit=30,\n",
    "    tmp_folder=\"/tmp/autosklearn_regression_example_tmp\",\n",
    "    n_jobs=8\n",
    ")\n",
    "automl.fit(X_train, y_train, dataset_name=\"phy_all\")"
   ]
  },
  {
   "cell_type": "code",
   "execution_count": null,
   "id": "4cbb95dc",
   "metadata": {
    "execution": {
     "iopub.execute_input": "2023-07-15T13:54:52.437417Z",
     "iopub.status.busy": "2023-07-15T13:54:52.436844Z",
     "iopub.status.idle": "2023-07-15T13:54:52.450716Z",
     "shell.execute_reply": "2023-07-15T13:54:52.449450Z",
     "shell.execute_reply.started": "2023-07-15T13:54:52.437370Z"
    },
    "papermill": {
     "duration": null,
     "end_time": null,
     "exception": null,
     "start_time": null,
     "status": "pending"
    },
    "tags": []
   },
   "outputs": [],
   "source": [
    "print(automl.sprint_statistics())"
   ]
  },
  {
   "cell_type": "code",
   "execution_count": null,
   "id": "e6cb67f4",
   "metadata": {
    "execution": {
     "iopub.execute_input": "2023-07-15T13:54:54.962378Z",
     "iopub.status.busy": "2023-07-15T13:54:54.961695Z",
     "iopub.status.idle": "2023-07-15T13:54:55.071737Z",
     "shell.execute_reply": "2023-07-15T13:54:55.070449Z",
     "shell.execute_reply.started": "2023-07-15T13:54:54.962331Z"
    },
    "papermill": {
     "duration": null,
     "end_time": null,
     "exception": null,
     "start_time": null,
     "status": "pending"
    },
    "tags": []
   },
   "outputs": [],
   "source": [
    "y_hat = automl.predict(X_test)\n",
    "rmse = mean_squared_error(y_test, y_hat, squared=False)\n",
    "print(\"RMSE: %.4f\" % rmse)"
   ]
  },
  {
   "cell_type": "code",
   "execution_count": null,
   "id": "e0b4e543",
   "metadata": {
    "execution": {
     "iopub.execute_input": "2023-07-15T13:54:57.198369Z",
     "iopub.status.busy": "2023-07-15T13:54:57.197934Z",
     "iopub.status.idle": "2023-07-15T13:54:57.212731Z",
     "shell.execute_reply": "2023-07-15T13:54:57.211744Z",
     "shell.execute_reply.started": "2023-07-15T13:54:57.198333Z"
    },
    "papermill": {
     "duration": null,
     "end_time": null,
     "exception": null,
     "start_time": null,
     "status": "pending"
    },
    "tags": []
   },
   "outputs": [],
   "source": [
    "print(automl.leaderboard())"
   ]
  },
  {
   "cell_type": "code",
   "execution_count": null,
   "id": "820dc152",
   "metadata": {
    "execution": {
     "iopub.execute_input": "2023-07-15T13:55:00.434487Z",
     "iopub.status.busy": "2023-07-15T13:55:00.433974Z",
     "iopub.status.idle": "2023-07-15T13:55:00.692960Z",
     "shell.execute_reply": "2023-07-15T13:55:00.691247Z",
     "shell.execute_reply.started": "2023-07-15T13:55:00.434449Z"
    },
    "papermill": {
     "duration": null,
     "end_time": null,
     "exception": null,
     "start_time": null,
     "status": "pending"
    },
    "tags": []
   },
   "outputs": [],
   "source": [
    "train_predictions = automl.predict(X_train)\n",
    "print(\"Train R2 score:\", sklearn.metrics.r2_score(y_train, train_predictions))\n",
    "test_predictions = automl.predict(X_test)\n",
    "print(\"Test R2 score:\", sklearn.metrics.r2_score(y_test, test_predictions))"
   ]
  },
  {
   "cell_type": "code",
   "execution_count": null,
   "id": "189c76ab",
   "metadata": {
    "execution": {
     "iopub.execute_input": "2023-07-15T13:55:02.682515Z",
     "iopub.status.busy": "2023-07-15T13:55:02.682036Z",
     "iopub.status.idle": "2023-07-15T13:55:02.696847Z",
     "shell.execute_reply": "2023-07-15T13:55:02.694914Z",
     "shell.execute_reply.started": "2023-07-15T13:55:02.682477Z"
    },
    "papermill": {
     "duration": null,
     "end_time": null,
     "exception": null,
     "start_time": null,
     "status": "pending"
    },
    "tags": []
   },
   "outputs": [],
   "source": [
    "pprint(automl.show_models(), indent=4)"
   ]
  },
  {
   "cell_type": "code",
   "execution_count": null,
   "id": "edd1577e",
   "metadata": {
    "execution": {
     "iopub.execute_input": "2023-07-15T13:55:10.666049Z",
     "iopub.status.busy": "2023-07-15T13:55:10.665608Z",
     "iopub.status.idle": "2023-07-15T13:55:22.659970Z",
     "shell.execute_reply": "2023-07-15T13:55:22.658724Z",
     "shell.execute_reply.started": "2023-07-15T13:55:10.666016Z"
    },
    "papermill": {
     "duration": null,
     "end_time": null,
     "exception": null,
     "start_time": null,
     "status": "pending"
    },
    "tags": []
   },
   "outputs": [],
   "source": [
    "rforest = RandomForestRegressor(max_features=1.0, n_estimators=512, n_jobs=1, random_state=1, warm_start=True)\n",
    "rforest.fit(X_train, y_train)\n",
    "rmse_rf = mean_squared_error(y_test, rforest.predict(X_test), squared=False)\n",
    "print(\"RMSE: %.4f\" % rmse_rf)"
   ]
  },
  {
   "cell_type": "code",
   "execution_count": null,
   "id": "dfa5e7b6",
   "metadata": {
    "execution": {
     "iopub.execute_input": "2023-07-15T14:08:44.092604Z",
     "iopub.status.busy": "2023-07-15T14:08:44.092131Z",
     "iopub.status.idle": "2023-07-15T14:08:44.100711Z",
     "shell.execute_reply": "2023-07-15T14:08:44.099080Z",
     "shell.execute_reply.started": "2023-07-15T14:08:44.092571Z"
    },
    "papermill": {
     "duration": null,
     "end_time": null,
     "exception": null,
     "start_time": null,
     "status": "pending"
    },
    "tags": []
   },
   "outputs": [],
   "source": [
    "def get_rforest_phy():\n",
    "    skb = SelectKBest(score_func=mutual_info_regression, k = 70)\n",
    "    alg = RandomForestRegressor(warm_start=True, n_estimators=894, min_samples_split=5, min_samples_leaf=2, max_features=1.0, max_depth=10, bootstrap=True, random_state=42)\n",
    "    return Pipeline([('feat_selection', skb), ('regressor', alg)])"
   ]
  },
  {
   "cell_type": "code",
   "execution_count": null,
   "id": "cc4633d9",
   "metadata": {
    "execution": {
     "iopub.execute_input": "2023-07-15T13:55:29.973596Z",
     "iopub.status.busy": "2023-07-15T13:55:29.973152Z",
     "iopub.status.idle": "2023-07-15T13:55:29.985276Z",
     "shell.execute_reply": "2023-07-15T13:55:29.983800Z",
     "shell.execute_reply.started": "2023-07-15T13:55:29.973561Z"
    },
    "papermill": {
     "duration": null,
     "end_time": null,
     "exception": null,
     "start_time": null,
     "status": "pending"
    },
    "tags": []
   },
   "outputs": [],
   "source": [
    "def rmsle_cv(model, domain_group):\n",
    "    start = time.time()\n",
    "    \n",
    "    X, y = getDataset(domain_group)\n",
    "    kf = KFold(10, shuffle = True, random_state = 42).get_n_splits(X.values)\n",
    "    rmse = np.sqrt(-cross_val_score(model, X.values, y, scoring = \"neg_mean_squared_error\", cv = kf))\n",
    "    mae  = -cross_val_score(model, X.values, y, scoring = \"neg_mean_absolute_error\", cv = kf)\n",
    "    r2 = cross_val_score(model, X.values, y, scoring = \"r2\", cv = kf)\n",
    "    \n",
    "    end = time.time()\n",
    "    exec_time = end - start\n",
    "\n",
    "    print('Time:', exec_time, 'MAE:', round(mae.mean(), 4), 'RMSE:',  round(rmse.mean(), 4), 'R^2:', round(r2.mean(), 4), '\\n')"
   ]
  },
  {
   "cell_type": "code",
   "execution_count": null,
   "id": "cc81557b",
   "metadata": {
    "execution": {
     "iopub.execute_input": "2023-07-15T14:08:48.773141Z",
     "iopub.status.busy": "2023-07-15T14:08:48.772715Z",
     "iopub.status.idle": "2023-07-15T14:18:49.339392Z",
     "shell.execute_reply": "2023-07-15T14:18:49.337783Z",
     "shell.execute_reply.started": "2023-07-15T14:08:48.773099Z"
    },
    "papermill": {
     "duration": null,
     "end_time": null,
     "exception": null,
     "start_time": null,
     "status": "pending"
    },
    "tags": []
   },
   "outputs": [],
   "source": [
    "rmsle_cv(get_rforest_phy(), 'phy_all')"
   ]
  },
  {
   "cell_type": "code",
   "execution_count": null,
   "id": "702c9d16",
   "metadata": {
    "execution": {
     "iopub.execute_input": "2023-07-15T13:37:28.039327Z",
     "iopub.status.busy": "2023-07-15T13:37:28.038879Z",
     "iopub.status.idle": "2023-07-15T13:37:28.480169Z",
     "shell.execute_reply": "2023-07-15T13:37:28.478879Z",
     "shell.execute_reply.started": "2023-07-15T13:37:28.039293Z"
    },
    "papermill": {
     "duration": null,
     "end_time": null,
     "exception": null,
     "start_time": null,
     "status": "pending"
    },
    "tags": []
   },
   "outputs": [],
   "source": [
    "plt.scatter(train_predictions, y_train, label=\"Train samples\", c=\"#d95f02\")\n",
    "plt.scatter(test_predictions, y_test, label=\"Test samples\", c=\"#7570b3\")\n",
    "plt.xlabel(\"Predicted value\")\n",
    "plt.ylabel(\"True value\")\n",
    "plt.legend()\n",
    "plt.plot([0, 100], [0, 100], c=\"k\", zorder=0)\n",
    "plt.xlim([0, 100])\n",
    "plt.ylim([0, 100])\n",
    "plt.tight_layout()\n",
    "plt.show()"
   ]
  },
  {
   "cell_type": "code",
   "execution_count": null,
   "id": "ee09ca1c",
   "metadata": {
    "papermill": {
     "duration": null,
     "end_time": null,
     "exception": null,
     "start_time": null,
     "status": "pending"
    },
    "tags": []
   },
   "outputs": [],
   "source": []
  }
 ],
 "metadata": {
  "kernelspec": {
   "display_name": "Python 3",
   "language": "python",
   "name": "python3"
  },
  "language_info": {
   "codemirror_mode": {
    "name": "ipython",
    "version": 3
   },
   "file_extension": ".py",
   "mimetype": "text/x-python",
   "name": "python",
   "nbconvert_exporter": "python",
   "pygments_lexer": "ipython3",
   "version": "3.10.12"
  },
  "papermill": {
   "default_parameters": {},
   "duration": 533.091475,
   "end_time": "2023-07-15T14:33:11.030130",
   "environment_variables": {},
   "exception": true,
   "input_path": "__notebook__.ipynb",
   "output_path": "__notebook__.ipynb",
   "parameters": {},
   "start_time": "2023-07-15T14:24:17.938655",
   "version": "2.4.0"
  }
 },
 "nbformat": 4,
 "nbformat_minor": 5
}
