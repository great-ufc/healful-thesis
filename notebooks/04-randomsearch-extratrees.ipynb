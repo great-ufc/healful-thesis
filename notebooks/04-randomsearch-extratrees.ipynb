{
 "cells": [
  {
   "cell_type": "markdown",
   "id": "aa3cdeba",
   "metadata": {
    "papermill": {
     "duration": 0.008738,
     "end_time": "2023-07-13T04:30:12.403839",
     "exception": false,
     "start_time": "2023-07-13T04:30:12.395101",
     "status": "completed"
    },
    "tags": []
   },
   "source": [
    "# Hyperparameter Tuning\n",
    "\n",
    "Using Scikit-Learn’s RandomizedSearchCV method, we can define a grid of hyperparameter ranges, and randomly sample from the grid, performing K-Fold CV with each combination of values."
   ]
  },
  {
   "cell_type": "code",
   "execution_count": 1,
   "id": "2d843540",
   "metadata": {
    "execution": {
     "iopub.execute_input": "2023-07-13T04:30:12.422202Z",
     "iopub.status.busy": "2023-07-13T04:30:12.421781Z",
     "iopub.status.idle": "2023-07-13T04:30:14.453756Z",
     "shell.execute_reply": "2023-07-13T04:30:14.452701Z"
    },
    "papermill": {
     "duration": 2.04475,
     "end_time": "2023-07-13T04:30:14.456981",
     "exception": false,
     "start_time": "2023-07-13T04:30:12.412231",
     "status": "completed"
    },
    "tags": []
   },
   "outputs": [],
   "source": [
    "import time\n",
    "import numpy as np\n",
    "import pandas as pd\n",
    "from pprint import pprint\n",
    "from sklearn.model_selection import KFold\n",
    "from sklearn.ensemble import ExtraTreesRegressor\n",
    "from sklearn.model_selection import cross_val_score\n",
    "from sklearn.model_selection import StratifiedKFold\n",
    "from sklearn.model_selection import train_test_split\n",
    "from sklearn.model_selection import RandomizedSearchCV\n",
    "from sklearn.metrics import mean_absolute_error, mean_squared_error"
   ]
  },
  {
   "cell_type": "code",
   "execution_count": 2,
   "id": "3c20ceb1",
   "metadata": {
    "execution": {
     "iopub.execute_input": "2023-07-13T04:30:14.475769Z",
     "iopub.status.busy": "2023-07-13T04:30:14.474898Z",
     "iopub.status.idle": "2023-07-13T04:30:14.482519Z",
     "shell.execute_reply": "2023-07-13T04:30:14.481300Z"
    },
    "papermill": {
     "duration": 0.021532,
     "end_time": "2023-07-13T04:30:14.486864",
     "exception": false,
     "start_time": "2023-07-13T04:30:14.465332",
     "status": "completed"
    },
    "tags": []
   },
   "outputs": [
    {
     "name": "stdout",
     "output_type": "stream",
     "text": [
      "Parameters currently in use:\n",
      "\n",
      "{'bootstrap': False,\n",
      " 'ccp_alpha': 0.0,\n",
      " 'criterion': 'squared_error',\n",
      " 'max_depth': None,\n",
      " 'max_features': 1.0,\n",
      " 'max_leaf_nodes': None,\n",
      " 'max_samples': None,\n",
      " 'min_impurity_decrease': 0.0,\n",
      " 'min_samples_leaf': 1,\n",
      " 'min_samples_split': 2,\n",
      " 'min_weight_fraction_leaf': 0.0,\n",
      " 'n_estimators': 100,\n",
      " 'n_jobs': None,\n",
      " 'oob_score': False,\n",
      " 'random_state': None,\n",
      " 'verbose': 0,\n",
      " 'warm_start': False}\n"
     ]
    }
   ],
   "source": [
    "base_regressor = ExtraTreesRegressor()\n",
    "\n",
    "print('Parameters currently in use:\\n')\n",
    "pprint(base_regressor.get_params())"
   ]
  },
  {
   "cell_type": "markdown",
   "id": "82ac18f9",
   "metadata": {
    "papermill": {
     "duration": 0.008167,
     "end_time": "2023-07-13T04:30:14.504197",
     "exception": false,
     "start_time": "2023-07-13T04:30:14.496030",
     "status": "completed"
    },
    "tags": []
   },
   "source": [
    "We will try adjusting the following set of hyperparameters:\n",
    "* n_estimators = number of trees in the foreset\n",
    "* criterion = the function to measure the quality of a split\n",
    "* max_depth = max number of levels in each decision tree\n",
    "* min_samples_leaf = min number of data points allowed in a leaf node\n",
    "* min_samples_split = min number of data points placed in a node before the node is split\n",
    "* max_features = max number of features considered for splitting a node\n",
    "* bootstrap = method for sampling data points (with or without replacement)"
   ]
  },
  {
   "cell_type": "code",
   "execution_count": 3,
   "id": "c769c874",
   "metadata": {
    "execution": {
     "iopub.execute_input": "2023-07-13T04:30:14.524689Z",
     "iopub.status.busy": "2023-07-13T04:30:14.524248Z",
     "iopub.status.idle": "2023-07-13T04:30:14.535620Z",
     "shell.execute_reply": "2023-07-13T04:30:14.534314Z"
    },
    "papermill": {
     "duration": 0.02542,
     "end_time": "2023-07-13T04:30:14.538419",
     "exception": false,
     "start_time": "2023-07-13T04:30:14.512999",
     "status": "completed"
    },
    "tags": []
   },
   "outputs": [
    {
     "name": "stdout",
     "output_type": "stream",
     "text": [
      "{'bootstrap': [True, False],\n",
      " 'criterion': ['squared_error', 'absolute_error', 'friedman_mse', 'poisson'],\n",
      " 'max_depth': [10, 20, 30, 40, 50, 60, 70, 80, 90, 100, 110, None],\n",
      " 'max_features': ['sqrt', 'log2'],\n",
      " 'min_samples_leaf': [1, 2, 4],\n",
      " 'min_samples_split': [2, 5, 10],\n",
      " 'n_estimators': [200, 400, 600, 800, 1000, 1200, 1400, 1600, 1800, 2000]}\n"
     ]
    }
   ],
   "source": [
    "# Number of trees in random forest\n",
    "n_estimators = [int(x) for x in np.linspace(start = 200, stop = 2000, num = 10)]\n",
    "\n",
    "# The function to measure the quality of a split\n",
    "criteria = [\"squared_error\", \"absolute_error\", \"friedman_mse\", \"poisson\"]\n",
    "\n",
    "# Number of features to consider at every split\n",
    "max_features = ['sqrt', 'log2']\n",
    "\n",
    "# Maximum number of levels in tree\n",
    "max_depth = [int(x) for x in np.linspace(10, 110, num = 11)]\n",
    "max_depth.append(None)\n",
    "\n",
    "# Minimum number of samples required to split a node\n",
    "min_samples_split = [2, 5, 10]\n",
    "\n",
    "# Minimum number of samples required at each leaf node\n",
    "min_samples_leaf = [1, 2, 4]\n",
    "\n",
    "# Method of selecting samples for training each tree\n",
    "bootstrap = [True, False]\n",
    "\n",
    "# Create the random grid\n",
    "random_grid = {'n_estimators': n_estimators,\n",
    "               'max_features': max_features,\n",
    "               'max_depth': max_depth,\n",
    "               'criterion': criteria,\n",
    "               'min_samples_split': min_samples_split,\n",
    "               'min_samples_leaf': min_samples_leaf,\n",
    "               'bootstrap': bootstrap}\n",
    "pprint(random_grid)"
   ]
  },
  {
   "cell_type": "code",
   "execution_count": 4,
   "id": "96f980a7",
   "metadata": {
    "execution": {
     "iopub.execute_input": "2023-07-13T04:30:14.557578Z",
     "iopub.status.busy": "2023-07-13T04:30:14.557153Z",
     "iopub.status.idle": "2023-07-13T04:30:14.735038Z",
     "shell.execute_reply": "2023-07-13T04:30:14.733827Z"
    },
    "papermill": {
     "duration": 0.190989,
     "end_time": "2023-07-13T04:30:14.737950",
     "exception": false,
     "start_time": "2023-07-13T04:30:14.546961",
     "status": "completed"
    },
    "tags": []
   },
   "outputs": [],
   "source": [
    "base_path = '/kaggle/input/self-reported-qol/20230625-processed-'\n",
    "\n",
    "df_physical      = pd.read_csv(base_path + 'physical-qol.csv')\n",
    "df_psychological = pd.read_csv(base_path + 'psychological-qol.csv')\n",
    "\n",
    "df_physical.drop('id', axis=1, inplace=True)         # id\n",
    "df_physical.drop('day', axis=1, inplace=True)        # day\n",
    "df_psychological.drop('id', axis=1, inplace=True)    # id\n",
    "df_psychological.drop('day', axis=1, inplace=True)   # day\n",
    "\n",
    "phy_all_tmp = df_physical.copy()\n",
    "phy_init_set_tmp = phy_all_tmp.query(\"group in ('Initial Set')\").copy()\n",
    "phy_ufpi_ufc_tmp = phy_all_tmp.query(\"group in ('UFPI', 'UFC')\").copy()\n",
    "\n",
    "psy_all_tmp = df_psychological.copy()\n",
    "psy_init_set_tmp = psy_all_tmp.query(\"group in ('Initial Set')\").copy()\n",
    "psy_ufpi_ufc_tmp = psy_all_tmp.query(\"group in ('UFPI', 'UFC')\").copy()\n",
    "\n",
    "phy_all_tmp.drop(\"group\", axis=1, inplace=True)\n",
    "phy_init_set_tmp.drop(\"group\", axis=1, inplace=True)\n",
    "phy_ufpi_ufc_tmp.drop(\"group\", axis=1, inplace=True)\n",
    "\n",
    "psy_all_tmp.drop(\"group\", axis=1, inplace=True)\n",
    "psy_init_set_tmp.drop(\"group\", axis=1, inplace=True)\n",
    "psy_ufpi_ufc_tmp.drop(\"group\", axis=1, inplace=True)\n",
    "\n",
    "# Separating predictors from the values to be predicted.\n",
    "phy_all           = phy_all_tmp.drop(\"phy_ref_score\", axis=1)\n",
    "phy_all_pred      = phy_all_tmp[\"phy_ref_score\"].copy()\n",
    "phy_init_set      = phy_init_set_tmp.drop(\"phy_ref_score\", axis=1)\n",
    "phy_init_set_pred = phy_init_set_tmp[\"phy_ref_score\"].copy()\n",
    "phy_ufpi_ufc      = phy_ufpi_ufc_tmp.drop(\"phy_ref_score\", axis=1)\n",
    "phy_ufpi_ufc_pred = phy_ufpi_ufc_tmp[\"phy_ref_score\"].copy()\n",
    "\n",
    "psy_all           = psy_all_tmp.drop(\"psy_ref_score\", axis=1)\n",
    "psy_all_pred      = psy_all_tmp[\"psy_ref_score\"].copy()\n",
    "psy_init_set      = psy_init_set_tmp.drop(\"psy_ref_score\", axis=1)\n",
    "psy_init_set_pred = psy_init_set_tmp[\"psy_ref_score\"].copy()\n",
    "psy_ufpi_ufc      = psy_ufpi_ufc_tmp.drop(\"psy_ref_score\", axis=1)\n",
    "psy_ufpi_ufc_pred = psy_ufpi_ufc_tmp[\"psy_ref_score\"].copy()"
   ]
  },
  {
   "cell_type": "code",
   "execution_count": 5,
   "id": "0be346b5",
   "metadata": {
    "execution": {
     "iopub.execute_input": "2023-07-13T04:30:14.757424Z",
     "iopub.status.busy": "2023-07-13T04:30:14.756931Z",
     "iopub.status.idle": "2023-07-13T04:30:14.763839Z",
     "shell.execute_reply": "2023-07-13T04:30:14.762581Z"
    },
    "papermill": {
     "duration": 0.019386,
     "end_time": "2023-07-13T04:30:14.766128",
     "exception": false,
     "start_time": "2023-07-13T04:30:14.746742",
     "status": "completed"
    },
    "tags": []
   },
   "outputs": [],
   "source": [
    "def getDataset(domain_group):\n",
    "    return {\n",
    "        'phy_all': (phy_all, phy_all_pred),\n",
    "        'psy_all': (psy_all, psy_all_pred),\n",
    "        \n",
    "        'phy_init_set': (phy_init_set, phy_init_set_pred),\n",
    "        'psy_init_set': (psy_init_set, psy_init_set_pred),\n",
    "        \n",
    "        'phy_ufpi_ufc': (phy_ufpi_ufc, phy_ufpi_ufc_pred),\n",
    "        'psy_ufpi_ufc': (psy_ufpi_ufc, psy_ufpi_ufc_pred),\n",
    "    }[domain_group] "
   ]
  },
  {
   "cell_type": "code",
   "execution_count": 6,
   "id": "46455895",
   "metadata": {
    "execution": {
     "iopub.execute_input": "2023-07-13T04:30:14.786102Z",
     "iopub.status.busy": "2023-07-13T04:30:14.784966Z",
     "iopub.status.idle": "2023-07-13T04:30:14.794148Z",
     "shell.execute_reply": "2023-07-13T04:30:14.793141Z"
    },
    "papermill": {
     "duration": 0.021809,
     "end_time": "2023-07-13T04:30:14.796856",
     "exception": false,
     "start_time": "2023-07-13T04:30:14.775047",
     "status": "completed"
    },
    "tags": []
   },
   "outputs": [],
   "source": [
    "features_phy, labels_phy = getDataset('phy_all')\n",
    "train_features_phy, test_features_phy, train_labels_phy, test_labels_phy = train_test_split(features_phy, labels_phy, test_size = 0.3, random_state = 42)"
   ]
  },
  {
   "cell_type": "code",
   "execution_count": 7,
   "id": "703feaee",
   "metadata": {
    "execution": {
     "iopub.execute_input": "2023-07-13T04:30:14.815635Z",
     "iopub.status.busy": "2023-07-13T04:30:14.815189Z",
     "iopub.status.idle": "2023-07-13T04:30:14.824007Z",
     "shell.execute_reply": "2023-07-13T04:30:14.822989Z"
    },
    "papermill": {
     "duration": 0.020798,
     "end_time": "2023-07-13T04:30:14.826187",
     "exception": false,
     "start_time": "2023-07-13T04:30:14.805389",
     "status": "completed"
    },
    "tags": []
   },
   "outputs": [],
   "source": [
    "features_psy, labels_psy = getDataset('psy_all')\n",
    "train_features_psy, test_features_psy, train_labels_psy, test_labels_psy = train_test_split(features_psy, labels_psy, test_size = 0.3, random_state = 42)"
   ]
  },
  {
   "cell_type": "code",
   "execution_count": 8,
   "id": "9ab57c33",
   "metadata": {
    "execution": {
     "iopub.execute_input": "2023-07-13T04:30:14.845540Z",
     "iopub.status.busy": "2023-07-13T04:30:14.844730Z",
     "iopub.status.idle": "2023-07-13T04:30:14.851041Z",
     "shell.execute_reply": "2023-07-13T04:30:14.849874Z"
    },
    "papermill": {
     "duration": 0.019142,
     "end_time": "2023-07-13T04:30:14.853982",
     "exception": false,
     "start_time": "2023-07-13T04:30:14.834840",
     "status": "completed"
    },
    "tags": []
   },
   "outputs": [],
   "source": [
    "def evaluate_mae_rmse(name, model, test_features, test_labels):\n",
    "    predictions = model.predict(test_features)\n",
    "    mae = mean_absolute_error(test_labels, predictions)\n",
    "    rmse = mean_squared_error(test_labels, predictions, squared=False)\n",
    "    print('Model Performance of', name, 'MAE = {:0.4f} RMSE = {:0.4f}'.format(mae, rmse))\n",
    "    return mae, rmse"
   ]
  },
  {
   "cell_type": "code",
   "execution_count": 9,
   "id": "7298bdbe",
   "metadata": {
    "execution": {
     "iopub.execute_input": "2023-07-13T04:30:14.872894Z",
     "iopub.status.busy": "2023-07-13T04:30:14.872483Z",
     "iopub.status.idle": "2023-07-13T04:30:14.878218Z",
     "shell.execute_reply": "2023-07-13T04:30:14.877082Z"
    },
    "papermill": {
     "duration": 0.018257,
     "end_time": "2023-07-13T04:30:14.880854",
     "exception": false,
     "start_time": "2023-07-13T04:30:14.862597",
     "status": "completed"
    },
    "tags": []
   },
   "outputs": [],
   "source": [
    "def get_baseline_metrics(domain_group):\n",
    "    return {\n",
    "        'phy_all': (5.3672, 7.4918),\n",
    "        'psy_all': (5.1965, 7.3320),\n",
    "    }[domain_group]"
   ]
  },
  {
   "cell_type": "code",
   "execution_count": 10,
   "id": "2f75001d",
   "metadata": {
    "execution": {
     "iopub.execute_input": "2023-07-13T04:30:14.900483Z",
     "iopub.status.busy": "2023-07-13T04:30:14.899696Z",
     "iopub.status.idle": "2023-07-13T04:30:14.905118Z",
     "shell.execute_reply": "2023-07-13T04:30:14.904320Z"
    },
    "papermill": {
     "duration": 0.017877,
     "end_time": "2023-07-13T04:30:14.907553",
     "exception": false,
     "start_time": "2023-07-13T04:30:14.889676",
     "status": "completed"
    },
    "tags": []
   },
   "outputs": [],
   "source": [
    "def get_test_features_labels(domain_group):\n",
    "    return {\n",
    "        'phy_all': (test_features_phy, test_labels_phy),\n",
    "        'psy_all': (test_features_psy, test_labels_psy),\n",
    "    }[domain_group]"
   ]
  },
  {
   "cell_type": "code",
   "execution_count": 11,
   "id": "60c7b006",
   "metadata": {
    "execution": {
     "iopub.execute_input": "2023-07-13T04:30:14.926318Z",
     "iopub.status.busy": "2023-07-13T04:30:14.925889Z",
     "iopub.status.idle": "2023-07-13T04:30:14.932798Z",
     "shell.execute_reply": "2023-07-13T04:30:14.931652Z"
    },
    "papermill": {
     "duration": 0.019333,
     "end_time": "2023-07-13T04:30:14.935216",
     "exception": false,
     "start_time": "2023-07-13T04:30:14.915883",
     "status": "completed"
    },
    "tags": []
   },
   "outputs": [],
   "source": [
    "def check_improvement(new_model, domain_group):\n",
    "    b_mae, b_rmse = get_baseline_metrics(domain_group)\n",
    "    test_features, test_labels = get_test_features_labels(domain_group)\n",
    "    \n",
    "    n_mae, n_rmse = evaluate_mae_rmse('New Model', new_model, test_features, test_labels)\n",
    "    \n",
    "    imp_mae  = (n_mae - b_mae) / b_mae\n",
    "    imp_rmse = (n_rmse - b_rmse) / b_rmse\n",
    "    \n",
    "    print('Improvement of {:0.2f}% in MAE ({:0.2f})'.format(100 * imp_mae, n_mae))\n",
    "    print('Improvement of {:0.2f}% in RMSE ({:0.2f})'.format(100 * imp_rmse, n_rmse))"
   ]
  },
  {
   "cell_type": "code",
   "execution_count": 12,
   "id": "a5fee867",
   "metadata": {
    "execution": {
     "iopub.execute_input": "2023-07-13T04:30:14.954358Z",
     "iopub.status.busy": "2023-07-13T04:30:14.953922Z",
     "iopub.status.idle": "2023-07-13T04:30:14.960742Z",
     "shell.execute_reply": "2023-07-13T04:30:14.959544Z"
    },
    "papermill": {
     "duration": 0.019429,
     "end_time": "2023-07-13T04:30:14.963032",
     "exception": false,
     "start_time": "2023-07-13T04:30:14.943603",
     "status": "completed"
    },
    "tags": []
   },
   "outputs": [],
   "source": [
    "def check_improvement_v2(df, domain_group):\n",
    "    b_mae, b_rmse = get_baseline_metrics(domain_group) \n",
    "    n_mae  = df[\"mae_mean\"].mean() \n",
    "    n_rmse = df[\"rmse_mean\"].mean() \n",
    "    \n",
    "    imp_mae  = abs(n_mae - b_mae) / b_mae\n",
    "    imp_rmse = abs(n_rmse - b_rmse) / b_rmse\n",
    "    \n",
    "    print('Improvement of {:0.2f}% in MAE'.format(100 * imp_mae))\n",
    "    print('Improvement of {:0.2f}% in RMSE'.format(100 * imp_rmse))"
   ]
  },
  {
   "cell_type": "code",
   "execution_count": 13,
   "id": "741a1a85",
   "metadata": {
    "execution": {
     "iopub.execute_input": "2023-07-13T04:30:14.981699Z",
     "iopub.status.busy": "2023-07-13T04:30:14.981287Z",
     "iopub.status.idle": "2023-07-13T04:30:14.986673Z",
     "shell.execute_reply": "2023-07-13T04:30:14.985680Z"
    },
    "papermill": {
     "duration": 0.017519,
     "end_time": "2023-07-13T04:30:14.989080",
     "exception": false,
     "start_time": "2023-07-13T04:30:14.971561",
     "status": "completed"
    },
    "tags": []
   },
   "outputs": [],
   "source": [
    "cols_result_df = ['exec_index', 'name', 'model', 'n_folds', 'feature_selection', 'mae_mean', 'mae_std', 'rmse_mean', 'rmse_std', 'r2_mean', 'r2_std', 'time(s)']"
   ]
  },
  {
   "cell_type": "code",
   "execution_count": 14,
   "id": "1397e628",
   "metadata": {
    "execution": {
     "iopub.execute_input": "2023-07-13T04:30:15.008813Z",
     "iopub.status.busy": "2023-07-13T04:30:15.008287Z",
     "iopub.status.idle": "2023-07-13T04:30:15.013459Z",
     "shell.execute_reply": "2023-07-13T04:30:15.012266Z"
    },
    "papermill": {
     "duration": 0.018201,
     "end_time": "2023-07-13T04:30:15.015943",
     "exception": false,
     "start_time": "2023-07-13T04:30:14.997742",
     "status": "completed"
    },
    "tags": []
   },
   "outputs": [],
   "source": [
    "iterations = 50\n",
    "executions = 30\n",
    "cv_number = 10"
   ]
  },
  {
   "cell_type": "code",
   "execution_count": 15,
   "id": "796d2201",
   "metadata": {
    "execution": {
     "iopub.execute_input": "2023-07-13T04:30:15.035998Z",
     "iopub.status.busy": "2023-07-13T04:30:15.035590Z",
     "iopub.status.idle": "2023-07-13T04:30:15.046861Z",
     "shell.execute_reply": "2023-07-13T04:30:15.045627Z"
    },
    "papermill": {
     "duration": 0.024601,
     "end_time": "2023-07-13T04:30:15.049543",
     "exception": false,
     "start_time": "2023-07-13T04:30:15.024942",
     "status": "completed"
    },
    "tags": []
   },
   "outputs": [],
   "source": [
    "def rmsle_cv(exec_index, name, new_model, domain_group):\n",
    "    start = time.time()\n",
    "    \n",
    "    X, y = getDataset(domain_group)\n",
    "    \n",
    "    kf = KFold(cv_number, shuffle = True, random_state = 42).get_n_splits(X.values)\n",
    "    rmse = np.sqrt(-cross_val_score(new_model, X.values, y, scoring = \"neg_mean_squared_error\", cv = kf))\n",
    "    mae  = -cross_val_score(new_model, X.values, y, scoring = \"neg_mean_absolute_error\", cv = kf)\n",
    "    r2 = cross_val_score(new_model, X.values, y, scoring = \"r2\", cv = kf)\n",
    "    \n",
    "    end = time.time()\n",
    "    exec_time = end - start\n",
    "    scores = pd.Series([exec_index, name, new_model, cv_number, 'None',\n",
    "                      round(mae.mean(), 4),  round(mae.std(), 4), \n",
    "                      round(rmse.mean(), 4), round(rmse.std(), 4), \n",
    "                      round(r2.mean(), 4),   round(r2.std(), 4), \n",
    "                      round(exec_time, 4)],  index=cols_result_df)\n",
    "    \n",
    "    #print('MAE:', round(mae.mean(), 4), 'RMSE:',  round(rmse.mean(), 4), 'Time:', exec_time, '\\n')\n",
    "    return scores"
   ]
  },
  {
   "cell_type": "code",
   "execution_count": 16,
   "id": "fba31c87",
   "metadata": {
    "execution": {
     "iopub.execute_input": "2023-07-13T04:30:15.068950Z",
     "iopub.status.busy": "2023-07-13T04:30:15.068555Z",
     "iopub.status.idle": "2023-07-13T04:30:15.076060Z",
     "shell.execute_reply": "2023-07-13T04:30:15.074864Z"
    },
    "papermill": {
     "duration": 0.020311,
     "end_time": "2023-07-13T04:30:15.078465",
     "exception": false,
     "start_time": "2023-07-13T04:30:15.058154",
     "status": "completed"
    },
    "tags": []
   },
   "outputs": [],
   "source": [
    "def train_model(name, new_model, domain_group):\n",
    "    df = pd.DataFrame(columns = cols_result_df)\n",
    "    for exec_index in range(executions):\n",
    "        print('|_ Training', name, 'Execution', exec_index, '...')\n",
    "        result = rmsle_cv(exec_index, name, new_model, domain_group)\n",
    "        df = pd.concat([df, result.to_frame().T], ignore_index=True)\n",
    "    return df"
   ]
  },
  {
   "cell_type": "code",
   "execution_count": 17,
   "id": "e0d3c94e",
   "metadata": {
    "execution": {
     "iopub.execute_input": "2023-07-13T04:30:15.097609Z",
     "iopub.status.busy": "2023-07-13T04:30:15.097151Z",
     "iopub.status.idle": "2023-07-13T04:51:15.628159Z",
     "shell.execute_reply": "2023-07-13T04:51:15.626484Z"
    },
    "papermill": {
     "duration": 1260.552267,
     "end_time": "2023-07-13T04:51:15.639290",
     "exception": false,
     "start_time": "2023-07-13T04:30:15.087023",
     "status": "completed"
    },
    "tags": []
   },
   "outputs": [
    {
     "name": "stdout",
     "output_type": "stream",
     "text": [
      "Fitting 10 folds for each of 50 candidates, totalling 500 fits\n"
     ]
    },
    {
     "data": {
      "text/html": [
       "<style>#sk-container-id-1 {color: black;background-color: white;}#sk-container-id-1 pre{padding: 0;}#sk-container-id-1 div.sk-toggleable {background-color: white;}#sk-container-id-1 label.sk-toggleable__label {cursor: pointer;display: block;width: 100%;margin-bottom: 0;padding: 0.3em;box-sizing: border-box;text-align: center;}#sk-container-id-1 label.sk-toggleable__label-arrow:before {content: \"▸\";float: left;margin-right: 0.25em;color: #696969;}#sk-container-id-1 label.sk-toggleable__label-arrow:hover:before {color: black;}#sk-container-id-1 div.sk-estimator:hover label.sk-toggleable__label-arrow:before {color: black;}#sk-container-id-1 div.sk-toggleable__content {max-height: 0;max-width: 0;overflow: hidden;text-align: left;background-color: #f0f8ff;}#sk-container-id-1 div.sk-toggleable__content pre {margin: 0.2em;color: black;border-radius: 0.25em;background-color: #f0f8ff;}#sk-container-id-1 input.sk-toggleable__control:checked~div.sk-toggleable__content {max-height: 200px;max-width: 100%;overflow: auto;}#sk-container-id-1 input.sk-toggleable__control:checked~label.sk-toggleable__label-arrow:before {content: \"▾\";}#sk-container-id-1 div.sk-estimator input.sk-toggleable__control:checked~label.sk-toggleable__label {background-color: #d4ebff;}#sk-container-id-1 div.sk-label input.sk-toggleable__control:checked~label.sk-toggleable__label {background-color: #d4ebff;}#sk-container-id-1 input.sk-hidden--visually {border: 0;clip: rect(1px 1px 1px 1px);clip: rect(1px, 1px, 1px, 1px);height: 1px;margin: -1px;overflow: hidden;padding: 0;position: absolute;width: 1px;}#sk-container-id-1 div.sk-estimator {font-family: monospace;background-color: #f0f8ff;border: 1px dotted black;border-radius: 0.25em;box-sizing: border-box;margin-bottom: 0.5em;}#sk-container-id-1 div.sk-estimator:hover {background-color: #d4ebff;}#sk-container-id-1 div.sk-parallel-item::after {content: \"\";width: 100%;border-bottom: 1px solid gray;flex-grow: 1;}#sk-container-id-1 div.sk-label:hover label.sk-toggleable__label {background-color: #d4ebff;}#sk-container-id-1 div.sk-serial::before {content: \"\";position: absolute;border-left: 1px solid gray;box-sizing: border-box;top: 0;bottom: 0;left: 50%;z-index: 0;}#sk-container-id-1 div.sk-serial {display: flex;flex-direction: column;align-items: center;background-color: white;padding-right: 0.2em;padding-left: 0.2em;position: relative;}#sk-container-id-1 div.sk-item {position: relative;z-index: 1;}#sk-container-id-1 div.sk-parallel {display: flex;align-items: stretch;justify-content: center;background-color: white;position: relative;}#sk-container-id-1 div.sk-item::before, #sk-container-id-1 div.sk-parallel-item::before {content: \"\";position: absolute;border-left: 1px solid gray;box-sizing: border-box;top: 0;bottom: 0;left: 50%;z-index: -1;}#sk-container-id-1 div.sk-parallel-item {display: flex;flex-direction: column;z-index: 1;position: relative;background-color: white;}#sk-container-id-1 div.sk-parallel-item:first-child::after {align-self: flex-end;width: 50%;}#sk-container-id-1 div.sk-parallel-item:last-child::after {align-self: flex-start;width: 50%;}#sk-container-id-1 div.sk-parallel-item:only-child::after {width: 0;}#sk-container-id-1 div.sk-dashed-wrapped {border: 1px dashed gray;margin: 0 0.4em 0.5em 0.4em;box-sizing: border-box;padding-bottom: 0.4em;background-color: white;}#sk-container-id-1 div.sk-label label {font-family: monospace;font-weight: bold;display: inline-block;line-height: 1.2em;}#sk-container-id-1 div.sk-label-container {text-align: center;}#sk-container-id-1 div.sk-container {/* jupyter's `normalize.less` sets `[hidden] { display: none; }` but bootstrap.min.css set `[hidden] { display: none !important; }` so we also need the `!important` here to be able to override the default hidden behavior on the sphinx rendered scikit-learn.org. See: https://github.com/scikit-learn/scikit-learn/issues/21755 */display: inline-block !important;position: relative;}#sk-container-id-1 div.sk-text-repr-fallback {display: none;}</style><div id=\"sk-container-id-1\" class=\"sk-top-container\"><div class=\"sk-text-repr-fallback\"><pre>RandomizedSearchCV(cv=10, estimator=ExtraTreesRegressor(), n_iter=50, n_jobs=-1,\n",
       "                   param_distributions={&#x27;bootstrap&#x27;: [True, False],\n",
       "                                        &#x27;criterion&#x27;: [&#x27;squared_error&#x27;,\n",
       "                                                      &#x27;absolute_error&#x27;,\n",
       "                                                      &#x27;friedman_mse&#x27;,\n",
       "                                                      &#x27;poisson&#x27;],\n",
       "                                        &#x27;max_depth&#x27;: [10, 20, 30, 40, 50, 60,\n",
       "                                                      70, 80, 90, 100, 110,\n",
       "                                                      None],\n",
       "                                        &#x27;max_features&#x27;: [&#x27;sqrt&#x27;, &#x27;log2&#x27;],\n",
       "                                        &#x27;min_samples_leaf&#x27;: [1, 2, 4],\n",
       "                                        &#x27;min_samples_split&#x27;: [2, 5, 10],\n",
       "                                        &#x27;n_estimators&#x27;: [200, 400, 600, 800,\n",
       "                                                         1000, 1200, 1400, 1600,\n",
       "                                                         1800, 2000]},\n",
       "                   random_state=42, verbose=1)</pre><b>In a Jupyter environment, please rerun this cell to show the HTML representation or trust the notebook. <br />On GitHub, the HTML representation is unable to render, please try loading this page with nbviewer.org.</b></div><div class=\"sk-container\" hidden><div class=\"sk-item sk-dashed-wrapped\"><div class=\"sk-label-container\"><div class=\"sk-label sk-toggleable\"><input class=\"sk-toggleable__control sk-hidden--visually\" id=\"sk-estimator-id-1\" type=\"checkbox\" ><label for=\"sk-estimator-id-1\" class=\"sk-toggleable__label sk-toggleable__label-arrow\">RandomizedSearchCV</label><div class=\"sk-toggleable__content\"><pre>RandomizedSearchCV(cv=10, estimator=ExtraTreesRegressor(), n_iter=50, n_jobs=-1,\n",
       "                   param_distributions={&#x27;bootstrap&#x27;: [True, False],\n",
       "                                        &#x27;criterion&#x27;: [&#x27;squared_error&#x27;,\n",
       "                                                      &#x27;absolute_error&#x27;,\n",
       "                                                      &#x27;friedman_mse&#x27;,\n",
       "                                                      &#x27;poisson&#x27;],\n",
       "                                        &#x27;max_depth&#x27;: [10, 20, 30, 40, 50, 60,\n",
       "                                                      70, 80, 90, 100, 110,\n",
       "                                                      None],\n",
       "                                        &#x27;max_features&#x27;: [&#x27;sqrt&#x27;, &#x27;log2&#x27;],\n",
       "                                        &#x27;min_samples_leaf&#x27;: [1, 2, 4],\n",
       "                                        &#x27;min_samples_split&#x27;: [2, 5, 10],\n",
       "                                        &#x27;n_estimators&#x27;: [200, 400, 600, 800,\n",
       "                                                         1000, 1200, 1400, 1600,\n",
       "                                                         1800, 2000]},\n",
       "                   random_state=42, verbose=1)</pre></div></div></div><div class=\"sk-parallel\"><div class=\"sk-parallel-item\"><div class=\"sk-item\"><div class=\"sk-label-container\"><div class=\"sk-label sk-toggleable\"><input class=\"sk-toggleable__control sk-hidden--visually\" id=\"sk-estimator-id-2\" type=\"checkbox\" ><label for=\"sk-estimator-id-2\" class=\"sk-toggleable__label sk-toggleable__label-arrow\">estimator: ExtraTreesRegressor</label><div class=\"sk-toggleable__content\"><pre>ExtraTreesRegressor()</pre></div></div></div><div class=\"sk-serial\"><div class=\"sk-item\"><div class=\"sk-estimator sk-toggleable\"><input class=\"sk-toggleable__control sk-hidden--visually\" id=\"sk-estimator-id-3\" type=\"checkbox\" ><label for=\"sk-estimator-id-3\" class=\"sk-toggleable__label sk-toggleable__label-arrow\">ExtraTreesRegressor</label><div class=\"sk-toggleable__content\"><pre>ExtraTreesRegressor()</pre></div></div></div></div></div></div></div></div></div></div>"
      ],
      "text/plain": [
       "RandomizedSearchCV(cv=10, estimator=ExtraTreesRegressor(), n_iter=50, n_jobs=-1,\n",
       "                   param_distributions={'bootstrap': [True, False],\n",
       "                                        'criterion': ['squared_error',\n",
       "                                                      'absolute_error',\n",
       "                                                      'friedman_mse',\n",
       "                                                      'poisson'],\n",
       "                                        'max_depth': [10, 20, 30, 40, 50, 60,\n",
       "                                                      70, 80, 90, 100, 110,\n",
       "                                                      None],\n",
       "                                        'max_features': ['sqrt', 'log2'],\n",
       "                                        'min_samples_leaf': [1, 2, 4],\n",
       "                                        'min_samples_split': [2, 5, 10],\n",
       "                                        'n_estimators': [200, 400, 600, 800,\n",
       "                                                         1000, 1200, 1400, 1600,\n",
       "                                                         1800, 2000]},\n",
       "                   random_state=42, verbose=1)"
      ]
     },
     "execution_count": 17,
     "metadata": {},
     "output_type": "execute_result"
    }
   ],
   "source": [
    "rscv_phy = RandomizedSearchCV(estimator = base_regressor, param_distributions = random_grid, n_iter = iterations, cv = cv_number, verbose=1, random_state=42, n_jobs = -1)\n",
    "rscv_phy.fit(train_features_phy, train_labels_phy)"
   ]
  },
  {
   "cell_type": "code",
   "execution_count": 18,
   "id": "d5cad312",
   "metadata": {
    "execution": {
     "iopub.execute_input": "2023-07-13T04:51:15.660104Z",
     "iopub.status.busy": "2023-07-13T04:51:15.658863Z",
     "iopub.status.idle": "2023-07-13T05:13:12.148026Z",
     "shell.execute_reply": "2023-07-13T05:13:12.146812Z"
    },
    "papermill": {
     "duration": 1316.511872,
     "end_time": "2023-07-13T05:13:12.160023",
     "exception": false,
     "start_time": "2023-07-13T04:51:15.648151",
     "status": "completed"
    },
    "tags": []
   },
   "outputs": [
    {
     "name": "stdout",
     "output_type": "stream",
     "text": [
      "Fitting 10 folds for each of 50 candidates, totalling 500 fits\n"
     ]
    },
    {
     "data": {
      "text/html": [
       "<style>#sk-container-id-2 {color: black;background-color: white;}#sk-container-id-2 pre{padding: 0;}#sk-container-id-2 div.sk-toggleable {background-color: white;}#sk-container-id-2 label.sk-toggleable__label {cursor: pointer;display: block;width: 100%;margin-bottom: 0;padding: 0.3em;box-sizing: border-box;text-align: center;}#sk-container-id-2 label.sk-toggleable__label-arrow:before {content: \"▸\";float: left;margin-right: 0.25em;color: #696969;}#sk-container-id-2 label.sk-toggleable__label-arrow:hover:before {color: black;}#sk-container-id-2 div.sk-estimator:hover label.sk-toggleable__label-arrow:before {color: black;}#sk-container-id-2 div.sk-toggleable__content {max-height: 0;max-width: 0;overflow: hidden;text-align: left;background-color: #f0f8ff;}#sk-container-id-2 div.sk-toggleable__content pre {margin: 0.2em;color: black;border-radius: 0.25em;background-color: #f0f8ff;}#sk-container-id-2 input.sk-toggleable__control:checked~div.sk-toggleable__content {max-height: 200px;max-width: 100%;overflow: auto;}#sk-container-id-2 input.sk-toggleable__control:checked~label.sk-toggleable__label-arrow:before {content: \"▾\";}#sk-container-id-2 div.sk-estimator input.sk-toggleable__control:checked~label.sk-toggleable__label {background-color: #d4ebff;}#sk-container-id-2 div.sk-label input.sk-toggleable__control:checked~label.sk-toggleable__label {background-color: #d4ebff;}#sk-container-id-2 input.sk-hidden--visually {border: 0;clip: rect(1px 1px 1px 1px);clip: rect(1px, 1px, 1px, 1px);height: 1px;margin: -1px;overflow: hidden;padding: 0;position: absolute;width: 1px;}#sk-container-id-2 div.sk-estimator {font-family: monospace;background-color: #f0f8ff;border: 1px dotted black;border-radius: 0.25em;box-sizing: border-box;margin-bottom: 0.5em;}#sk-container-id-2 div.sk-estimator:hover {background-color: #d4ebff;}#sk-container-id-2 div.sk-parallel-item::after {content: \"\";width: 100%;border-bottom: 1px solid gray;flex-grow: 1;}#sk-container-id-2 div.sk-label:hover label.sk-toggleable__label {background-color: #d4ebff;}#sk-container-id-2 div.sk-serial::before {content: \"\";position: absolute;border-left: 1px solid gray;box-sizing: border-box;top: 0;bottom: 0;left: 50%;z-index: 0;}#sk-container-id-2 div.sk-serial {display: flex;flex-direction: column;align-items: center;background-color: white;padding-right: 0.2em;padding-left: 0.2em;position: relative;}#sk-container-id-2 div.sk-item {position: relative;z-index: 1;}#sk-container-id-2 div.sk-parallel {display: flex;align-items: stretch;justify-content: center;background-color: white;position: relative;}#sk-container-id-2 div.sk-item::before, #sk-container-id-2 div.sk-parallel-item::before {content: \"\";position: absolute;border-left: 1px solid gray;box-sizing: border-box;top: 0;bottom: 0;left: 50%;z-index: -1;}#sk-container-id-2 div.sk-parallel-item {display: flex;flex-direction: column;z-index: 1;position: relative;background-color: white;}#sk-container-id-2 div.sk-parallel-item:first-child::after {align-self: flex-end;width: 50%;}#sk-container-id-2 div.sk-parallel-item:last-child::after {align-self: flex-start;width: 50%;}#sk-container-id-2 div.sk-parallel-item:only-child::after {width: 0;}#sk-container-id-2 div.sk-dashed-wrapped {border: 1px dashed gray;margin: 0 0.4em 0.5em 0.4em;box-sizing: border-box;padding-bottom: 0.4em;background-color: white;}#sk-container-id-2 div.sk-label label {font-family: monospace;font-weight: bold;display: inline-block;line-height: 1.2em;}#sk-container-id-2 div.sk-label-container {text-align: center;}#sk-container-id-2 div.sk-container {/* jupyter's `normalize.less` sets `[hidden] { display: none; }` but bootstrap.min.css set `[hidden] { display: none !important; }` so we also need the `!important` here to be able to override the default hidden behavior on the sphinx rendered scikit-learn.org. See: https://github.com/scikit-learn/scikit-learn/issues/21755 */display: inline-block !important;position: relative;}#sk-container-id-2 div.sk-text-repr-fallback {display: none;}</style><div id=\"sk-container-id-2\" class=\"sk-top-container\"><div class=\"sk-text-repr-fallback\"><pre>RandomizedSearchCV(cv=10, estimator=ExtraTreesRegressor(), n_iter=50, n_jobs=-1,\n",
       "                   param_distributions={&#x27;bootstrap&#x27;: [True, False],\n",
       "                                        &#x27;criterion&#x27;: [&#x27;squared_error&#x27;,\n",
       "                                                      &#x27;absolute_error&#x27;,\n",
       "                                                      &#x27;friedman_mse&#x27;,\n",
       "                                                      &#x27;poisson&#x27;],\n",
       "                                        &#x27;max_depth&#x27;: [10, 20, 30, 40, 50, 60,\n",
       "                                                      70, 80, 90, 100, 110,\n",
       "                                                      None],\n",
       "                                        &#x27;max_features&#x27;: [&#x27;sqrt&#x27;, &#x27;log2&#x27;],\n",
       "                                        &#x27;min_samples_leaf&#x27;: [1, 2, 4],\n",
       "                                        &#x27;min_samples_split&#x27;: [2, 5, 10],\n",
       "                                        &#x27;n_estimators&#x27;: [200, 400, 600, 800,\n",
       "                                                         1000, 1200, 1400, 1600,\n",
       "                                                         1800, 2000]},\n",
       "                   random_state=42, verbose=1)</pre><b>In a Jupyter environment, please rerun this cell to show the HTML representation or trust the notebook. <br />On GitHub, the HTML representation is unable to render, please try loading this page with nbviewer.org.</b></div><div class=\"sk-container\" hidden><div class=\"sk-item sk-dashed-wrapped\"><div class=\"sk-label-container\"><div class=\"sk-label sk-toggleable\"><input class=\"sk-toggleable__control sk-hidden--visually\" id=\"sk-estimator-id-4\" type=\"checkbox\" ><label for=\"sk-estimator-id-4\" class=\"sk-toggleable__label sk-toggleable__label-arrow\">RandomizedSearchCV</label><div class=\"sk-toggleable__content\"><pre>RandomizedSearchCV(cv=10, estimator=ExtraTreesRegressor(), n_iter=50, n_jobs=-1,\n",
       "                   param_distributions={&#x27;bootstrap&#x27;: [True, False],\n",
       "                                        &#x27;criterion&#x27;: [&#x27;squared_error&#x27;,\n",
       "                                                      &#x27;absolute_error&#x27;,\n",
       "                                                      &#x27;friedman_mse&#x27;,\n",
       "                                                      &#x27;poisson&#x27;],\n",
       "                                        &#x27;max_depth&#x27;: [10, 20, 30, 40, 50, 60,\n",
       "                                                      70, 80, 90, 100, 110,\n",
       "                                                      None],\n",
       "                                        &#x27;max_features&#x27;: [&#x27;sqrt&#x27;, &#x27;log2&#x27;],\n",
       "                                        &#x27;min_samples_leaf&#x27;: [1, 2, 4],\n",
       "                                        &#x27;min_samples_split&#x27;: [2, 5, 10],\n",
       "                                        &#x27;n_estimators&#x27;: [200, 400, 600, 800,\n",
       "                                                         1000, 1200, 1400, 1600,\n",
       "                                                         1800, 2000]},\n",
       "                   random_state=42, verbose=1)</pre></div></div></div><div class=\"sk-parallel\"><div class=\"sk-parallel-item\"><div class=\"sk-item\"><div class=\"sk-label-container\"><div class=\"sk-label sk-toggleable\"><input class=\"sk-toggleable__control sk-hidden--visually\" id=\"sk-estimator-id-5\" type=\"checkbox\" ><label for=\"sk-estimator-id-5\" class=\"sk-toggleable__label sk-toggleable__label-arrow\">estimator: ExtraTreesRegressor</label><div class=\"sk-toggleable__content\"><pre>ExtraTreesRegressor()</pre></div></div></div><div class=\"sk-serial\"><div class=\"sk-item\"><div class=\"sk-estimator sk-toggleable\"><input class=\"sk-toggleable__control sk-hidden--visually\" id=\"sk-estimator-id-6\" type=\"checkbox\" ><label for=\"sk-estimator-id-6\" class=\"sk-toggleable__label sk-toggleable__label-arrow\">ExtraTreesRegressor</label><div class=\"sk-toggleable__content\"><pre>ExtraTreesRegressor()</pre></div></div></div></div></div></div></div></div></div></div>"
      ],
      "text/plain": [
       "RandomizedSearchCV(cv=10, estimator=ExtraTreesRegressor(), n_iter=50, n_jobs=-1,\n",
       "                   param_distributions={'bootstrap': [True, False],\n",
       "                                        'criterion': ['squared_error',\n",
       "                                                      'absolute_error',\n",
       "                                                      'friedman_mse',\n",
       "                                                      'poisson'],\n",
       "                                        'max_depth': [10, 20, 30, 40, 50, 60,\n",
       "                                                      70, 80, 90, 100, 110,\n",
       "                                                      None],\n",
       "                                        'max_features': ['sqrt', 'log2'],\n",
       "                                        'min_samples_leaf': [1, 2, 4],\n",
       "                                        'min_samples_split': [2, 5, 10],\n",
       "                                        'n_estimators': [200, 400, 600, 800,\n",
       "                                                         1000, 1200, 1400, 1600,\n",
       "                                                         1800, 2000]},\n",
       "                   random_state=42, verbose=1)"
      ]
     },
     "execution_count": 18,
     "metadata": {},
     "output_type": "execute_result"
    }
   ],
   "source": [
    "rscv_psy = RandomizedSearchCV(estimator = base_regressor, param_distributions = random_grid, n_iter = iterations, cv = cv_number, verbose=1, random_state=42, n_jobs = -1)\n",
    "rscv_psy.fit(train_features_psy, train_labels_psy)"
   ]
  },
  {
   "cell_type": "code",
   "execution_count": 19,
   "id": "b4219e4f",
   "metadata": {
    "execution": {
     "iopub.execute_input": "2023-07-13T05:13:12.180218Z",
     "iopub.status.busy": "2023-07-13T05:13:12.179789Z",
     "iopub.status.idle": "2023-07-13T05:13:12.188363Z",
     "shell.execute_reply": "2023-07-13T05:13:12.187189Z"
    },
    "papermill": {
     "duration": 0.021968,
     "end_time": "2023-07-13T05:13:12.191084",
     "exception": false,
     "start_time": "2023-07-13T05:13:12.169116",
     "status": "completed"
    },
    "tags": []
   },
   "outputs": [
    {
     "name": "stdout",
     "output_type": "stream",
     "text": [
      "Best hyperparameters for physical dataset\n"
     ]
    },
    {
     "data": {
      "text/plain": [
       "{'n_estimators': 800,\n",
       " 'min_samples_split': 2,\n",
       " 'min_samples_leaf': 1,\n",
       " 'max_features': 'sqrt',\n",
       " 'max_depth': 60,\n",
       " 'criterion': 'poisson',\n",
       " 'bootstrap': False}"
      ]
     },
     "execution_count": 19,
     "metadata": {},
     "output_type": "execute_result"
    }
   ],
   "source": [
    "print('Best hyperparameters for physical dataset')\n",
    "rscv_phy.best_params_"
   ]
  },
  {
   "cell_type": "code",
   "execution_count": 20,
   "id": "a526f977",
   "metadata": {
    "execution": {
     "iopub.execute_input": "2023-07-13T05:13:12.212096Z",
     "iopub.status.busy": "2023-07-13T05:13:12.211699Z",
     "iopub.status.idle": "2023-07-13T05:13:12.219022Z",
     "shell.execute_reply": "2023-07-13T05:13:12.217987Z"
    },
    "papermill": {
     "duration": 0.020806,
     "end_time": "2023-07-13T05:13:12.221699",
     "exception": false,
     "start_time": "2023-07-13T05:13:12.200893",
     "status": "completed"
    },
    "tags": []
   },
   "outputs": [
    {
     "name": "stdout",
     "output_type": "stream",
     "text": [
      "Best hyperparameters for psychological dataset\n"
     ]
    },
    {
     "data": {
      "text/plain": [
       "{'n_estimators': 1600,\n",
       " 'min_samples_split': 2,\n",
       " 'min_samples_leaf': 1,\n",
       " 'max_features': 'sqrt',\n",
       " 'max_depth': None,\n",
       " 'criterion': 'squared_error',\n",
       " 'bootstrap': False}"
      ]
     },
     "execution_count": 20,
     "metadata": {},
     "output_type": "execute_result"
    }
   ],
   "source": [
    "print('Best hyperparameters for psychological dataset')\n",
    "rscv_psy.best_params_"
   ]
  },
  {
   "cell_type": "code",
   "execution_count": 21,
   "id": "8b490403",
   "metadata": {
    "execution": {
     "iopub.execute_input": "2023-07-13T05:13:12.242788Z",
     "iopub.status.busy": "2023-07-13T05:13:12.242383Z",
     "iopub.status.idle": "2023-07-13T06:01:21.342502Z",
     "shell.execute_reply": "2023-07-13T06:01:21.341393Z"
    },
    "papermill": {
     "duration": 2889.126335,
     "end_time": "2023-07-13T06:01:21.357729",
     "exception": false,
     "start_time": "2023-07-13T05:13:12.231394",
     "status": "completed"
    },
    "tags": []
   },
   "outputs": [
    {
     "name": "stdout",
     "output_type": "stream",
     "text": [
      "|_ Training ExtraTrees RSCV Execution 0 ...\n",
      "|_ Training ExtraTrees RSCV Execution 1 ...\n",
      "|_ Training ExtraTrees RSCV Execution 2 ...\n",
      "|_ Training ExtraTrees RSCV Execution 3 ...\n",
      "|_ Training ExtraTrees RSCV Execution 4 ...\n",
      "|_ Training ExtraTrees RSCV Execution 5 ...\n",
      "|_ Training ExtraTrees RSCV Execution 6 ...\n",
      "|_ Training ExtraTrees RSCV Execution 7 ...\n",
      "|_ Training ExtraTrees RSCV Execution 8 ...\n",
      "|_ Training ExtraTrees RSCV Execution 9 ...\n",
      "|_ Training ExtraTrees RSCV Execution 10 ...\n",
      "|_ Training ExtraTrees RSCV Execution 11 ...\n",
      "|_ Training ExtraTrees RSCV Execution 12 ...\n",
      "|_ Training ExtraTrees RSCV Execution 13 ...\n",
      "|_ Training ExtraTrees RSCV Execution 14 ...\n",
      "|_ Training ExtraTrees RSCV Execution 15 ...\n",
      "|_ Training ExtraTrees RSCV Execution 16 ...\n",
      "|_ Training ExtraTrees RSCV Execution 17 ...\n",
      "|_ Training ExtraTrees RSCV Execution 18 ...\n",
      "|_ Training ExtraTrees RSCV Execution 19 ...\n",
      "|_ Training ExtraTrees RSCV Execution 20 ...\n",
      "|_ Training ExtraTrees RSCV Execution 21 ...\n",
      "|_ Training ExtraTrees RSCV Execution 22 ...\n",
      "|_ Training ExtraTrees RSCV Execution 23 ...\n",
      "|_ Training ExtraTrees RSCV Execution 24 ...\n",
      "|_ Training ExtraTrees RSCV Execution 25 ...\n",
      "|_ Training ExtraTrees RSCV Execution 26 ...\n",
      "|_ Training ExtraTrees RSCV Execution 27 ...\n",
      "|_ Training ExtraTrees RSCV Execution 28 ...\n",
      "|_ Training ExtraTrees RSCV Execution 29 ...\n",
      "Improvement of 5.46% in MAE\n",
      "Improvement of 3.19% in RMSE\n"
     ]
    }
   ],
   "source": [
    "df_phy = train_model('ExtraTrees RSCV', rscv_phy.best_estimator_, \"phy_all\")\n",
    "check_improvement_v2(df_phy, \"phy_all\")"
   ]
  },
  {
   "cell_type": "code",
   "execution_count": 22,
   "id": "7a284752",
   "metadata": {
    "execution": {
     "iopub.execute_input": "2023-07-13T06:01:21.384799Z",
     "iopub.status.busy": "2023-07-13T06:01:21.384417Z",
     "iopub.status.idle": "2023-07-13T07:25:10.687237Z",
     "shell.execute_reply": "2023-07-13T07:25:10.686023Z"
    },
    "papermill": {
     "duration": 5029.334283,
     "end_time": "2023-07-13T07:25:10.704506",
     "exception": false,
     "start_time": "2023-07-13T06:01:21.370223",
     "status": "completed"
    },
    "tags": []
   },
   "outputs": [
    {
     "name": "stdout",
     "output_type": "stream",
     "text": [
      "|_ Training ExtraTrees RSCV Execution 0 ...\n",
      "|_ Training ExtraTrees RSCV Execution 1 ...\n",
      "|_ Training ExtraTrees RSCV Execution 2 ...\n",
      "|_ Training ExtraTrees RSCV Execution 3 ...\n",
      "|_ Training ExtraTrees RSCV Execution 4 ...\n",
      "|_ Training ExtraTrees RSCV Execution 5 ...\n",
      "|_ Training ExtraTrees RSCV Execution 6 ...\n",
      "|_ Training ExtraTrees RSCV Execution 7 ...\n",
      "|_ Training ExtraTrees RSCV Execution 8 ...\n",
      "|_ Training ExtraTrees RSCV Execution 9 ...\n",
      "|_ Training ExtraTrees RSCV Execution 10 ...\n",
      "|_ Training ExtraTrees RSCV Execution 11 ...\n",
      "|_ Training ExtraTrees RSCV Execution 12 ...\n",
      "|_ Training ExtraTrees RSCV Execution 13 ...\n",
      "|_ Training ExtraTrees RSCV Execution 14 ...\n",
      "|_ Training ExtraTrees RSCV Execution 15 ...\n",
      "|_ Training ExtraTrees RSCV Execution 16 ...\n",
      "|_ Training ExtraTrees RSCV Execution 17 ...\n",
      "|_ Training ExtraTrees RSCV Execution 18 ...\n",
      "|_ Training ExtraTrees RSCV Execution 19 ...\n",
      "|_ Training ExtraTrees RSCV Execution 20 ...\n",
      "|_ Training ExtraTrees RSCV Execution 21 ...\n",
      "|_ Training ExtraTrees RSCV Execution 22 ...\n",
      "|_ Training ExtraTrees RSCV Execution 23 ...\n",
      "|_ Training ExtraTrees RSCV Execution 24 ...\n",
      "|_ Training ExtraTrees RSCV Execution 25 ...\n",
      "|_ Training ExtraTrees RSCV Execution 26 ...\n",
      "|_ Training ExtraTrees RSCV Execution 27 ...\n",
      "|_ Training ExtraTrees RSCV Execution 28 ...\n",
      "|_ Training ExtraTrees RSCV Execution 29 ...\n",
      "Improvement of 3.36% in MAE\n",
      "Improvement of 1.83% in RMSE\n"
     ]
    }
   ],
   "source": [
    "df_psy = train_model('ExtraTrees RSCV', rscv_psy.best_estimator_, \"psy_all\")\n",
    "check_improvement_v2(df_psy, \"psy_all\")"
   ]
  },
  {
   "cell_type": "code",
   "execution_count": 23,
   "id": "81842243",
   "metadata": {
    "execution": {
     "iopub.execute_input": "2023-07-13T07:25:10.737054Z",
     "iopub.status.busy": "2023-07-13T07:25:10.736564Z",
     "iopub.status.idle": "2023-07-13T07:25:10.779015Z",
     "shell.execute_reply": "2023-07-13T07:25:10.777974Z"
    },
    "papermill": {
     "duration": 0.062181,
     "end_time": "2023-07-13T07:25:10.781837",
     "exception": false,
     "start_time": "2023-07-13T07:25:10.719656",
     "status": "completed"
    },
    "tags": []
   },
   "outputs": [],
   "source": [
    "df_phy.to_csv('20230711-extratrees-rscv-physical.csv', index = False)\n",
    "df_psy.to_csv('20230711-extratrees-rscv-psychological.csv', index = False)"
   ]
  }
 ],
 "metadata": {
  "kernelspec": {
   "display_name": "Python 3",
   "language": "python",
   "name": "python3"
  },
  "language_info": {
   "codemirror_mode": {
    "name": "ipython",
    "version": 3
   },
   "file_extension": ".py",
   "mimetype": "text/x-python",
   "name": "python",
   "nbconvert_exporter": "python",
   "pygments_lexer": "ipython3",
   "version": "3.10.10"
  },
  "papermill": {
   "default_parameters": {},
   "duration": 10516.108342,
   "end_time": "2023-07-13T07:25:13.453899",
   "environment_variables": {},
   "exception": null,
   "input_path": "__notebook__.ipynb",
   "output_path": "__notebook__.ipynb",
   "parameters": {},
   "start_time": "2023-07-13T04:29:57.345557",
   "version": "2.4.0"
  }
 },
 "nbformat": 4,
 "nbformat_minor": 5
}
