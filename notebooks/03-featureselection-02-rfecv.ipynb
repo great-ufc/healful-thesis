{
 "cells": [
  {
   "cell_type": "code",
   "execution_count": 1,
   "id": "f52d77e9",
   "metadata": {
    "_cell_guid": "b1076dfc-b9ad-4769-8c92-a6c4dae69d19",
    "_uuid": "8f2839f25d086af736a60e9eeb907d3b93b6e0e5",
    "execution": {
     "iopub.execute_input": "2023-06-30T02:30:23.191299Z",
     "iopub.status.busy": "2023-06-30T02:30:23.190904Z",
     "iopub.status.idle": "2023-06-30T02:30:25.276425Z",
     "shell.execute_reply": "2023-06-30T02:30:25.274588Z"
    },
    "papermill": {
     "duration": 2.092875,
     "end_time": "2023-06-30T02:30:25.279549",
     "exception": false,
     "start_time": "2023-06-30T02:30:23.186674",
     "status": "completed"
    },
    "tags": []
   },
   "outputs": [],
   "source": [
    "import numpy as np\n",
    "import pandas as pd\n",
    "from numpy import array\n",
    "import matplotlib.pyplot as plt\n",
    "from sklearn.feature_selection import RFECV\n",
    "from sklearn.ensemble import RandomForestRegressor"
   ]
  },
  {
   "cell_type": "code",
   "execution_count": 2,
   "id": "77960cc2",
   "metadata": {
    "execution": {
     "iopub.execute_input": "2023-06-30T02:30:25.285682Z",
     "iopub.status.busy": "2023-06-30T02:30:25.285300Z",
     "iopub.status.idle": "2023-06-30T02:30:25.443713Z",
     "shell.execute_reply": "2023-06-30T02:30:25.442141Z"
    },
    "papermill": {
     "duration": 0.164111,
     "end_time": "2023-06-30T02:30:25.446003",
     "exception": false,
     "start_time": "2023-06-30T02:30:25.281892",
     "status": "completed"
    },
    "tags": []
   },
   "outputs": [],
   "source": [
    "base_path = '/kaggle/input/self-reported-qol/20230625-processed-'\n",
    "\n",
    "df_physical      = pd.read_csv(base_path + 'physical-qol.csv')\n",
    "df_psychological = pd.read_csv(base_path + 'psychological-qol.csv')\n",
    "\n",
    "df_physical.drop('id', axis=1, inplace=True)         # id\n",
    "df_physical.drop('day', axis=1, inplace=True)        # day\n",
    "df_psychological.drop('id', axis=1, inplace=True)    # id\n",
    "df_psychological.drop('day', axis=1, inplace=True)   # day\n",
    "\n",
    "phy_all_tmp = df_physical.copy()\n",
    "phy_init_set_tmp = phy_all_tmp.query(\"group in ('Initial Set')\").copy()\n",
    "phy_ufpi_ufc_tmp = phy_all_tmp.query(\"group in ('UFPI', 'UFC')\").copy()\n",
    "\n",
    "psy_all_tmp = df_psychological.copy()\n",
    "psy_init_set_tmp = psy_all_tmp.query(\"group in ('Initial Set')\").copy()\n",
    "psy_ufpi_ufc_tmp = psy_all_tmp.query(\"group in ('UFPI', 'UFC')\").copy()\n",
    "\n",
    "phy_all_tmp.drop(\"group\", axis=1, inplace=True)\n",
    "phy_init_set_tmp.drop(\"group\", axis=1, inplace=True)\n",
    "phy_ufpi_ufc_tmp.drop(\"group\", axis=1, inplace=True)\n",
    "\n",
    "psy_all_tmp.drop(\"group\", axis=1, inplace=True)\n",
    "psy_init_set_tmp.drop(\"group\", axis=1, inplace=True)\n",
    "psy_ufpi_ufc_tmp.drop(\"group\", axis=1, inplace=True)\n",
    "\n",
    "# Separating predictors from the values to be predicted.\n",
    "phy_all           = phy_all_tmp.drop(\"phy_ref_score\", axis=1)\n",
    "phy_all_pred      = phy_all_tmp[\"phy_ref_score\"].copy()\n",
    "phy_init_set      = phy_init_set_tmp.drop(\"phy_ref_score\", axis=1)\n",
    "phy_init_set_pred = phy_init_set_tmp[\"phy_ref_score\"].copy()\n",
    "phy_ufpi_ufc      = phy_ufpi_ufc_tmp.drop(\"phy_ref_score\", axis=1)\n",
    "phy_ufpi_ufc_pred = phy_ufpi_ufc_tmp[\"phy_ref_score\"].copy()\n",
    "\n",
    "psy_all           = psy_all_tmp.drop(\"psy_ref_score\", axis=1)\n",
    "psy_all_pred      = psy_all_tmp[\"psy_ref_score\"].copy()\n",
    "psy_init_set      = psy_init_set_tmp.drop(\"psy_ref_score\", axis=1)\n",
    "psy_init_set_pred = psy_init_set_tmp[\"psy_ref_score\"].copy()\n",
    "psy_ufpi_ufc      = psy_ufpi_ufc_tmp.drop(\"psy_ref_score\", axis=1)\n",
    "psy_ufpi_ufc_pred = psy_ufpi_ufc_tmp[\"psy_ref_score\"].copy()"
   ]
  },
  {
   "cell_type": "code",
   "execution_count": 3,
   "id": "123b845c",
   "metadata": {
    "execution": {
     "iopub.execute_input": "2023-06-30T02:30:25.451198Z",
     "iopub.status.busy": "2023-06-30T02:30:25.450825Z",
     "iopub.status.idle": "2023-06-30T02:30:25.457455Z",
     "shell.execute_reply": "2023-06-30T02:30:25.455857Z"
    },
    "papermill": {
     "duration": 0.011362,
     "end_time": "2023-06-30T02:30:25.459408",
     "exception": false,
     "start_time": "2023-06-30T02:30:25.448046",
     "status": "completed"
    },
    "tags": []
   },
   "outputs": [],
   "source": [
    "def getDataset(domain_group):\n",
    "    return {\n",
    "        'phy_all': (phy_all, phy_all_pred),\n",
    "        'psy_all': (psy_all, psy_all_pred),\n",
    "        \n",
    "        'phy_init_set': (phy_init_set, phy_init_set_pred),\n",
    "        'psy_init_set': (psy_init_set, psy_init_set_pred),\n",
    "        \n",
    "        'phy_ufpi_ufc': (phy_ufpi_ufc, phy_ufpi_ufc_pred),\n",
    "        'psy_ufpi_ufc': (psy_ufpi_ufc, psy_ufpi_ufc_pred),\n",
    "    }[domain_group] "
   ]
  },
  {
   "cell_type": "code",
   "execution_count": 4,
   "id": "7715d78b",
   "metadata": {
    "execution": {
     "iopub.execute_input": "2023-06-30T02:30:25.465372Z",
     "iopub.status.busy": "2023-06-30T02:30:25.464421Z",
     "iopub.status.idle": "2023-06-30T02:58:00.588700Z",
     "shell.execute_reply": "2023-06-30T02:58:00.587251Z"
    },
    "papermill": {
     "duration": 1655.130553,
     "end_time": "2023-06-30T02:58:00.591787",
     "exception": false,
     "start_time": "2023-06-30T02:30:25.461234",
     "status": "completed"
    },
    "tags": []
   },
   "outputs": [
    {
     "name": "stdout",
     "output_type": "stream",
     "text": [
      "Feature ranking:  [ 1  1 14 17 28 15 20 36 60 69 38 70 56 54 43 23 59 74 77 73 75 57 12  5\n",
      " 47 34 26 22  6 11 49 21 16 41 44 25 45 50  4 78 13 64 55  9 81  2 37  3\n",
      " 31 24 30 27 10  8 18 32 40 46 48 42 67 53 76 29 72  7 65 63 71 52 85 82\n",
      " 66 35 39 61 68 80 83 84 19 79 33 58 62 51]\n"
     ]
    }
   ],
   "source": [
    "X, y = getDataset('phy_all')\n",
    "rfr = RandomForestRegressor()\n",
    "select = RFECV(rfr, step=1, cv=10)\n",
    "select = select.fit(X, y)\n",
    "print(\"Feature ranking: \", select.ranking_)"
   ]
  },
  {
   "cell_type": "code",
   "execution_count": 5,
   "id": "8d72af13",
   "metadata": {
    "execution": {
     "iopub.execute_input": "2023-06-30T02:58:00.597160Z",
     "iopub.status.busy": "2023-06-30T02:58:00.596738Z",
     "iopub.status.idle": "2023-06-30T02:58:00.604776Z",
     "shell.execute_reply": "2023-06-30T02:58:00.603238Z"
    },
    "papermill": {
     "duration": 0.013473,
     "end_time": "2023-06-30T02:58:00.607159",
     "exception": false,
     "start_time": "2023-06-30T02:58:00.593686",
     "status": "completed"
    },
    "tags": []
   },
   "outputs": [
    {
     "name": "stdout",
     "output_type": "stream",
     "text": [
      "Optimal number of features : 2\n",
      "Best features : ['height', 'weight']\n"
     ]
    }
   ],
   "source": [
    "rfecv_mask = select.get_support()\n",
    "\n",
    "rfecv_features = [] \n",
    "for bool, feature in zip(rfecv_mask, X.columns):\n",
    "    if bool:\n",
    "        rfecv_features.append(feature)\n",
    "        \n",
    "print('Optimal number of features :', select.n_features_)\n",
    "print('Best features :', rfecv_features)"
   ]
  }
 ],
 "metadata": {
  "kernelspec": {
   "display_name": "Python 3",
   "language": "python",
   "name": "python3"
  },
  "language_info": {
   "codemirror_mode": {
    "name": "ipython",
    "version": 3
   },
   "file_extension": ".py",
   "mimetype": "text/x-python",
   "name": "python",
   "nbconvert_exporter": "python",
   "pygments_lexer": "ipython3",
   "version": "3.10.10"
  },
  "papermill": {
   "default_parameters": {},
   "duration": 1668.365331,
   "end_time": "2023-06-30T02:58:01.633240",
   "environment_variables": {},
   "exception": null,
   "input_path": "__notebook__.ipynb",
   "output_path": "__notebook__.ipynb",
   "parameters": {},
   "start_time": "2023-06-30T02:30:13.267909",
   "version": "2.4.0"
  }
 },
 "nbformat": 4,
 "nbformat_minor": 5
}
